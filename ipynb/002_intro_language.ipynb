{
 "cells": [
  {
   "cell_type": "markdown",
   "metadata": {
    "slideshow": {
     "slide_type": "slide"
    }
   },
   "source": [
    "# Python training UGA 2017\n",
    "\n",
    "**A training to acquire strong basis in Python to use it efficiently**\n",
    "\n",
    "Pierre Augier (LEGI), Cyrille Bonamy (LEGI), Eric Maldonado (Irstea), Franck Thollard (ISTerre), Christophe Picard (LJK), Loïc Huder (ISTerre)\n",
    " \n",
    "\n",
    "# Characteristics of the Python language"
   ]
  },
  {
   "cell_type": "markdown",
   "metadata": {
    "slideshow": {
     "slide_type": "slide"
    }
   },
   "source": [
    "## Characteristics of the Python language\n",
    "\n",
    "- Open-source language, interpreters and ecosystem\n",
    "\n",
    "- Interpreted (but there are tools to compile Python code)\n",
    "\n",
    "- Automatic memory management\n",
    "\n",
    "- Dynamically strongly typed"
   ]
  },
  {
   "cell_type": "markdown",
   "metadata": {
    "slideshow": {
     "slide_type": "slide"
    }
   },
   "source": [
    "## Dynamically and strongly typed: objects and variables\n",
    "\n",
    "The function `type` returns the type of an **object**:"
   ]
  },
  {
   "cell_type": "code",
   "execution_count": 5,
   "metadata": {},
   "outputs": [
    {
     "data": {
      "text/plain": [
       "str"
      ]
     },
     "execution_count": 5,
     "metadata": {},
     "output_type": "execute_result"
    }
   ],
   "source": [
    "type('hello')"
   ]
  },
  {
   "cell_type": "code",
   "execution_count": 6,
   "metadata": {},
   "outputs": [
    {
     "data": {
      "text/plain": [
       "int"
      ]
     },
     "execution_count": 6,
     "metadata": {},
     "output_type": "execute_result"
    }
   ],
   "source": [
    "type(2)"
   ]
  },
  {
   "cell_type": "code",
   "execution_count": 7,
   "metadata": {},
   "outputs": [
    {
     "data": {
      "text/plain": [
       "float"
      ]
     },
     "execution_count": 7,
     "metadata": {},
     "output_type": "execute_result"
    }
   ],
   "source": [
    "type(2.)"
   ]
  },
  {
   "cell_type": "code",
   "execution_count": 8,
   "metadata": {},
   "outputs": [
    {
     "data": {
      "text/plain": [
       "int"
      ]
     },
     "execution_count": 8,
     "metadata": {},
     "output_type": "execute_result"
    }
   ],
   "source": [
    "type(2 + 2)"
   ]
  },
  {
   "cell_type": "code",
   "execution_count": 9,
   "metadata": {},
   "outputs": [
    {
     "data": {
      "text/plain": [
       "float"
      ]
     },
     "execution_count": 9,
     "metadata": {},
     "output_type": "execute_result"
    }
   ],
   "source": [
    "type(2 + 2.)"
   ]
  },
  {
   "cell_type": "code",
   "execution_count": 10,
   "metadata": {},
   "outputs": [
    {
     "data": {
      "text/plain": [
       "bool"
      ]
     },
     "execution_count": 10,
     "metadata": {},
     "output_type": "execute_result"
    }
   ],
   "source": [
    "type(True)"
   ]
  },
  {
   "cell_type": "markdown",
   "metadata": {
    "slideshow": {
     "slide_type": "subslide"
    }
   },
   "source": [
    "## Dynamically and strongly typed: objects and variables\n",
    "\n",
    "**Variables** are just tags pointing towards objects. New variables can be used when needed. They are not associated with a type but only with an object (which has a type)..."
   ]
  },
  {
   "cell_type": "code",
   "execution_count": 11,
   "metadata": {},
   "outputs": [
    {
     "name": "stdout",
     "output_type": "stream",
     "text": [
      "1 <class 'int'>\n"
     ]
    }
   ],
   "source": [
    "myvar = 1\n",
    "print(myvar, type(myvar))"
   ]
  },
  {
   "cell_type": "code",
   "execution_count": 12,
   "metadata": {},
   "outputs": [
    {
     "name": "stdout",
     "output_type": "stream",
     "text": [
      "hello <class 'str'>\n"
     ]
    }
   ],
   "source": [
    "myvar = 'hello'\n",
    "print(myvar, type(myvar))"
   ]
  },
  {
   "cell_type": "markdown",
   "metadata": {
    "slideshow": {
     "slide_type": "subslide"
    }
   },
   "source": [
    "## Spaces for objects and variables (names)\n",
    "\n",
    "Objects and variables (names) are two very different concepts:\n",
    "\n",
    "- Objects live in one \"object space\". They have an address in the memory.\n",
    "- Names live in namespaces.\n",
    "\n",
    "It is often interesting to represent the execution of a Python program in an **\"object space - namespaces\" diagram**.\n",
    "\n",
    "The Zen of Python says \"Namespaces are one honking great idea -- let's do more of those!\". A namespace is created for every module (file) and for every function execution, "
   ]
  },
  {
   "cell_type": "markdown",
   "metadata": {
    "slideshow": {
     "slide_type": "slide"
    }
   },
   "source": [
    "## Characteristics of the Python language\n",
    "\n",
    "- Open-source language, interpreters and ecosystem\n",
    "\n",
    "- Interpreted (but there are tools to compile Python code)\n",
    "\n",
    "- Automatic memory management\n",
    "\n",
    "- Dynamically strongly typed\n",
    "\n",
    "- Gradual learning curve\n",
    "\n",
    "- A philosophy: the [Zen of Python](https://www.python.org/dev/peps/pep-0020/)\n",
    "\n",
    "- Very clean and readable\n",
    "\n",
    "- Indentation defines the blocks\n",
    "\n",
    "- Style coding is important: [pep8](https://www.python.org/dev/peps/pep-0008/)\n"
   ]
  },
  {
   "cell_type": "markdown",
   "metadata": {
    "slideshow": {
     "slide_type": "slide"
    }
   },
   "source": [
    "##  PEP8 (Python Extension Proposal)\n",
    "\n",
    "https://www.python.org/dev/peps/pep-0008/\n",
    "\n",
    "- Code layout\n",
    "- Imports\n",
    "- Whitespace in expressions and statements\n",
    "- Comments\n",
    "- Documentation strings\n",
    "- Naming conventions\n",
    "- Programming recommendations"
   ]
  },
  {
   "cell_type": "markdown",
   "metadata": {
    "slideshow": {
     "slide_type": "subslide"
    }
   },
   "source": [
    "## PEP8: examples of bad and good style practices"
   ]
  },
  {
   "cell_type": "code",
   "execution_count": 1,
   "metadata": {
    "collapsed": true
   },
   "outputs": [],
   "source": [
    "# bad (spaces between operator)\n",
    "number=0\n",
    "# ok\n",
    "number = 0"
   ]
  },
  {
   "cell_type": "code",
   "execution_count": 2,
   "metadata": {
    "collapsed": true
   },
   "outputs": [],
   "source": [
    "# bad (indentation with 2 spaces, has to be 4)\n",
    "if number == 0:\n",
    "  number = 1\n",
    "\n",
    "# ok\n",
    "if number == 0:\n",
    "    number = 1 "
   ]
  },
  {
   "cell_type": "code",
   "execution_count": 3,
   "metadata": {
    "collapsed": true
   },
   "outputs": [],
   "source": [
    "# bad (space after ,)\n",
    "mylist = [1,2,3]\n",
    "\n",
    "# ok\n",
    "mylist = [1, 2, 3]"
   ]
  },
  {
   "cell_type": "markdown",
   "metadata": {
    "slideshow": {
     "slide_type": "slide"
    }
   },
   "source": [
    "## You have to use a good editor!!\n",
    "\n",
    "Python: \n",
    "\n",
    "- (most of the time) interpreted (no compilation) \n",
    "- very dynamic \n",
    "- pep8 (style).\n",
    "- indentation defines the blocks\n",
    "\n",
    "The editor can and has to help you!!\n",
    "\n",
    "- syntax coloring\n",
    "- automatic indentation\n",
    "- code analysis (code analysis powered by pyflakes and pylint)\n",
    "- introspection capabilities such as code completion"
   ]
  },
  {
   "cell_type": "markdown",
   "metadata": {
    "slideshow": {
     "slide_type": "subslide"
    }
   },
   "source": [
    "## Do it yourself: PEP8 checker with Spyder editor\n",
    "\n",
    "In Spyder, open the file `./pyfiles/wrong.py` and see what append. \n",
    "\n",
    "Activate the \"Real time code style analysis (PEP 8)\" (Preferences -> Editor -> Code Introspection/Analysis).\n",
    "\n",
    "Correct the file to remove the warnings."
   ]
  },
  {
   "cell_type": "markdown",
   "metadata": {
    "slideshow": {
     "slide_type": "slide"
    }
   },
   "source": [
    "## Characteristics of the Python language\n",
    "\n",
    "- Open-source language, interpreters and ecosystem\n",
    "\n",
    "- Interpreted (but there are tools to compile Python code)\n",
    "\n",
    "- Automatic memory management\n",
    "\n",
    "- Dynamically strongly typed\n",
    "\n",
    "- Gradual learning curve\n",
    "\n",
    "- A philosophy: the [Zen of Python](https://www.python.org/dev/peps/pep-0020/)\n",
    "\n",
    "- Very clean and readable\n",
    "\n",
    "- Indentation defines the blocks\n",
    "\n",
    "- Style coding is important: [pep8](https://www.python.org/dev/peps/pep-0008/)\n",
    "\n",
    "- Only few [keywords](https://hg.python.org/cpython/file/3.6/Lib/keyword.py) and [built-in functions](https://docs.python.org/3/library/functions.html)\n"
   ]
  },
  {
   "cell_type": "markdown",
   "metadata": {
    "slideshow": {
     "slide_type": "slide"
    }
   },
   "source": [
    "## Keywords"
   ]
  },
  {
   "cell_type": "code",
   "execution_count": 4,
   "metadata": {
    "slideshow": {
     "slide_type": "-"
    }
   },
   "outputs": [
    {
     "name": "stdout",
     "output_type": "stream",
     "text": [
      "\n",
      "Here is a list of the Python keywords.  Enter any keyword to get more help.\n",
      "\n",
      "False               def                 if                  raise\n",
      "None                del                 import              return\n",
      "True                elif                in                  try\n",
      "and                 else                is                  while\n",
      "as                  except              lambda              with\n",
      "assert              finally             nonlocal            yield\n",
      "break               for                 not                 \n",
      "class               from                or                  \n",
      "continue            global              pass                \n",
      "\n"
     ]
    }
   ],
   "source": [
    "help(\"keywords\")\n"
   ]
  },
  {
   "cell_type": "markdown",
   "metadata": {},
   "source": [
    "plus 69 [built-in functions](https://docs.python.org/3/library/functions.html)... plus few [built-in constants](https://docs.python.org/3/library/constants.html)... plus [built-in exceptions](https://docs.python.org/3/library/exceptions.html)!"
   ]
  },
  {
   "cell_type": "markdown",
   "metadata": {
    "slideshow": {
     "slide_type": "slide"
    }
   },
   "source": [
    "#### [Built-in functions](https://docs.python.org/3/library/functions.html) and [built-in exceptions](https://docs.python.org/3/library/exceptions.html):"
   ]
  },
  {
   "cell_type": "code",
   "execution_count": 20,
   "metadata": {},
   "outputs": [
    {
     "name": "stdout",
     "output_type": "stream",
     "text": [
      "\n",
      " 93 \"type\" object(s): ['ArithmeticError', 'AssertionError', 'AttributeError', 'BaseException', 'BlockingIOError', 'BrokenPipeError', 'BufferError', 'BytesWarning', 'ChildProcessError', 'ConnectionAbortedError', 'ConnectionError', 'ConnectionRefusedError', 'ConnectionResetError', 'DeprecationWarning', 'EOFError', 'EnvironmentError', 'Exception', 'FileExistsError', 'FileNotFoundError', 'FloatingPointError', 'FutureWarning', 'GeneratorExit', 'IOError', 'ImportError', 'ImportWarning', 'IndentationError', 'IndexError', 'InterruptedError', 'IsADirectoryError', 'KeyError', 'KeyboardInterrupt', 'LookupError', 'MemoryError', 'ModuleNotFoundError', 'NameError', 'NotADirectoryError', 'NotImplementedError', 'OSError', 'OverflowError', 'PendingDeprecationWarning', 'PermissionError', 'ProcessLookupError', 'RecursionError', 'ReferenceError', 'ResourceWarning', 'RuntimeError', 'RuntimeWarning', 'StopAsyncIteration', 'StopIteration', 'SyntaxError', 'SyntaxWarning', 'SystemError', 'SystemExit', 'TabError', 'TimeoutError', 'TypeError', 'UnboundLocalError', 'UnicodeDecodeError', 'UnicodeEncodeError', 'UnicodeError', 'UnicodeTranslateError', 'UnicodeWarning', 'UserWarning', 'ValueError', 'Warning', 'ZeroDivisionError', '__loader__', 'bool', 'bytearray', 'bytes', 'classmethod', 'complex', 'dict', 'enumerate', 'filter', 'float', 'frozenset', 'int', 'list', 'map', 'memoryview', 'object', 'property', 'range', 'reversed', 'set', 'slice', 'staticmethod', 'str', 'super', 'tuple', 'type', 'zip']\n",
      "\n",
      " 42 \"builtin_function_or_method\" object(s): ['__build_class__', '__import__', 'abs', 'all', 'any', 'ascii', 'bin', 'breakpoint', 'callable', 'chr', 'compile', 'delattr', 'dir', 'divmod', 'eval', 'exec', 'format', 'getattr', 'globals', 'hasattr', 'hash', 'hex', 'id', 'isinstance', 'issubclass', 'iter', 'len', 'locals', 'max', 'min', 'next', 'oct', 'open', 'ord', 'pow', 'print', 'repr', 'round', 'setattr', 'sorted', 'sum', 'vars']\n"
     ]
    }
   ],
   "source": [
    "types = [type, type(sum)]\n",
    "for type_ in types: \n",
    "    names = [\n",
    "        name for name in dir(__builtins__) \n",
    "        if isinstance(getattr(__builtins__, name), type_)\n",
    "    ] \n",
    "    print(f'\\n {len(names)} \"{type_.__name__}\" object(s): {names}')"
   ]
  },
  {
   "cell_type": "markdown",
   "metadata": {
    "slideshow": {
     "slide_type": "slide"
    }
   },
   "source": [
    "## Characteristics of the Python language\n",
    "\n",
    "- Open-source language, interpreters and ecosystem\n",
    "\n",
    "- Interpreted (but there are tools to compile Python code)\n",
    "\n",
    "- Automatic memory management\n",
    "\n",
    "- Dynamically strongly typed\n",
    "\n",
    "- Gradual learning curve\n",
    "\n",
    "- A philosophy: the [Zen of Python](https://www.python.org/dev/peps/pep-0020/)\n",
    "\n",
    "- Very clean and readable\n",
    "\n",
    "- Indentation defines the blocks\n",
    "\n",
    "- Style coding is important: [pep8](https://www.python.org/dev/peps/pep-0008/)\n",
    "\n",
    "- Only few [keywords](https://hg.python.org/cpython/file/3.6/Lib/keyword.py) and [built-in functions](https://docs.python.org/3/library/functions.html)\n",
    "\n",
    "- Errors should never pass silently\n",
    "\n",
    "- Multi-paradigm (sequential, object-oriented, functional)\n",
    "\n",
    "- \"Batteries Included\": [the standard library](https://docs.python.org/3/tutorial/stdlib.html)"
   ]
  }
 ],
 "metadata": {
  "celltoolbar": "Slideshow",
  "kernelspec": {
   "display_name": "Python 3",
   "language": "python",
   "name": "python3"
  },
  "language_info": {
   "codemirror_mode": {
    "name": "ipython",
    "version": 3
   },
   "file_extension": ".py",
   "mimetype": "text/x-python",
   "name": "python",
   "nbconvert_exporter": "python",
   "pygments_lexer": "ipython3",
   "version": "3.7.3"
  }
 },
 "nbformat": 4,
 "nbformat_minor": 2
}
