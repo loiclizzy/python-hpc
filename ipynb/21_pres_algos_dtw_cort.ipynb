{
 "cells": [
  {
   "cell_type": "markdown",
   "metadata": {},
   "source": [
    "A running example\n",
    "================"
   ]
  },
  {
   "cell_type": "markdown",
   "metadata": {},
   "source": [
    "Algorithm on series (*e.g.* time series, character strings, ...)\n",
    "\n",
    "A serie can be either a one dimensional ordered serie of items (e.g. an numerical array, a string).\n",
    "\n",
    "We want to compute a dissimilarity measure between series. The measure can either apply to series of \n",
    "same length or not, and can be a metric (i.e. symetric, d(x, y) = 0 <=> x = y, triangular inequality). \n",
    "\n",
    "We consider two dissimilarity measures with different features. \n",
    "\n",
    "S1 and S2 two series of length |S1| and |S2|\n",
    "\n",
    "- *dtw* dynamic time wrapping, complexity O(|S1|*|S2|)\n",
    "- *cort* normalized cosine distances between derivatives, complexity O(|S1| + |S2|)\n",
    "\n"
   ]
  },
  {
   "cell_type": "markdown",
   "metadata": {},
   "source": [
    "Dynamic Time Wrapping \n",
    "------------------------------------\n",
    "\n",
    "- **Input:** two series, S1 and S2, not necessarilly of same length\n",
    "- **Output:** a dissimilarity measure\n",
    "- **Complexity:** O([S1|*|S2|)\n",
    "- **Metric:** no: does not respect the triangular inequality\n",
    "- **Side product:** an alignment between the series can be stored\n",
    "\n",
    "What do we compute: \n",
    "-------------------------------\n",
    "The transformation (with minimal cost) to transform one serie in the other one. \n",
    "\n",
    "\n",
    "Example of what is computed\n",
    "-------------------------------------------\n",
    "\n"
   ]
  },
  {
   "cell_type": "markdown",
   "metadata": {},
   "source": [
    "Example of result of dtw :\n",
    "-----------------------------------\n",
    "\n",
    "<div align=\"middle\">\n",
    "<img src=\"./fig/dtw_example.png\"  style=\"width: 100%\">\n",
    "</div>"
   ]
  },
  {
   "cell_type": "markdown",
   "metadata": {},
   "source": [
    "\n",
    "Idea of the algorithm\n",
    "------------------------------\n",
    "\n",
    "Inspired from \n",
    "https://riptutorial.com/dynamic-programming/example/25780/introduction-to-dynamic-time-warping\n",
    "\n",
    "\n",
    "Let a and b two series. We have: \n",
    "\n",
    "- dtw is a dynamic programming algorithm: the solution is built incrementally\n",
    "- a table t is incrementally filled.\n",
    "- the value of the cell t[i, j] holds the *distance* between the sub series a[:i] and b[:j] \n",
    "- the value of the cell t[i, j] is computed using the values of cells t[i-1, j], t[i, j-1] and t[i-1, j-1]: \n",
    "\n",
    "t[i, j] = d(i, j) + min(t[i-1, j], t[i-1, j-1], t[i, j-1])\n",
    "\n",
    "where d(i, j) is the distance between s[i] and s[j] (we will use the absolute difference)\n",
    "\n",
    "\n",
    "An example with two series [0, 1, 1, 2, 2, 3, 5] and [0, 1, 2, 3, 5, 5, 5, 6] "
   ]
  },
  {
   "cell_type": "markdown",
   "metadata": {},
   "source": [
    "(image from https://riptutorial.com/dynamic-programming/example/25780/introduction-to-dynamic-time-warping\n",
    "\n",
    "<div align=\"middle\">\n",
    "<img src=\"./fig/dtw_ex_table.jpg\"  style=\"width: 100%\">\n",
    "</div>"
   ]
  },
  {
   "cell_type": "markdown",
   "metadata": {},
   "source": [
    "why 6 in the t[-1, -1] ? \n"
   ]
  },
  {
   "cell_type": "markdown",
   "metadata": {},
   "source": [
    "Easy enought to implement:\n",
    "----------------------------------------"
   ]
  },
  {
   "cell_type": "code",
   "execution_count": 14,
   "metadata": {},
   "outputs": [],
   "source": [
    "import numpy as np\n",
    "def DTWDistance_pure_python(s1, s2):\n",
    "    \"\"\" Computes the dtw between s1 and s2 with distance the absolute distance\n",
    "\n",
    "    :param s1: the first serie (ie an iterable over floats64)\n",
    "    :param s2: the second serie (ie an iterable over floats64)\n",
    "    :returns: the dtw distance\n",
    "    :rtype: float64\n",
    "    \"\"\"\n",
    "    _dtw_mat = np.empty([len(s1), len(s2)])\n",
    "    _dtw_mat[0, 0] = abs(s1[0] - s2[0])\n",
    "\n",
    "    #  two special cases : filling first row and columns\n",
    "    for j in range(1, len(s2)):\n",
    "        dist = abs(s1[0]-s2[j])\n",
    "        _dtw_mat[0, j] = dist + _dtw_mat[0, j-1]\n",
    "\n",
    "    for i in range(1, len(s1)):\n",
    "        dist = abs(s1[i]-s2[0])\n",
    "        _dtw_mat[i, 0] = dist + _dtw_mat[(i-1, 0)]\n",
    "\n",
    "    # filling the matrix\n",
    "    for i in range(1, len(s1)):\n",
    "        for j in range(1, len(s2)):\n",
    "            dist = abs(s1[i]-s2[j])\n",
    "            _dtw_mat[(i, j)] = dist + min(_dtw_mat[i-1, j],\n",
    "                                          _dtw_mat[i, j-1],\n",
    "                                          _dtw_mat[i-1, j-1])\n",
    "\n",
    "    return _dtw_mat[len(s1)-1, len(s2)-1], _dtw_mat\n"
   ]
  },
  {
   "cell_type": "code",
   "execution_count": 21,
   "metadata": {},
   "outputs": [
    {
     "data": {
      "text/plain": [
       "(1.0, array([[ 0.,  0.,  1.,  2.,  4.,  8.],\n",
       "        [ 1.,  1.,  0.,  0.,  1.,  4.],\n",
       "        [ 3.,  3.,  1.,  1.,  0.,  2.],\n",
       "        [ 7.,  7.,  4.,  4.,  2.,  0.],\n",
       "        [11., 11.,  7.,  7.,  4.,  0.],\n",
       "        [15., 15., 10., 10.,  6.,  0.],\n",
       "        [20., 20., 14., 14.,  9.,  1.]]))"
      ]
     },
     "execution_count": 21,
     "metadata": {},
     "output_type": "execute_result"
    }
   ],
   "source": [
    "\n",
    "x = [1, 2, 3, 5, 5, 5, 6]\n",
    "y = [1, 1, 2, 2, 3, 5]\n",
    "nx = len(x)\n",
    "ny = len(y)\n",
    "\n",
    "d, mat = DTWDistance_pure_python(x, y)\n",
    "d, mat"
   ]
  },
  {
   "cell_type": "markdown",
   "metadata": {},
   "source": [
    "\n",
    "Cort \n",
    "-------\n",
    "\n",
    "**Input**: two series S1 and S2 *of same length*\n",
    "\n",
    "**Output:** a dissimilarity measure\n",
    "\n",
    "**Complexity:** O(|S1|+|S2|)\n",
    "\n",
    "**Metric:** yes\n",
    "\n",
    "What do we compute: \n",
    "-------------------------------\n",
    "\n",
    "cosine distance between derivatives. \n",
    "\n",
    "normalize \n",
    "\n",
    "    num = 0.0\n",
    "    sum_square_x = 0.0\n",
    "    sum_square_y = 0.0\n",
    "    for t in range(len(s1) - 1):\n",
    "        slope_1 = s1[t + 1] - s1[t]\n",
    "        slope_2 = s2[t + 1] - s2[t]\n",
    "        num += slope_1 * slope_2\n",
    "        sum_square_x += slope_1 * slope_1\n",
    "        sum_square_y += slope_2 * slope_2\n",
    "    return num / (np.sqrt(sum_square_x * sum_square_y))\n",
    "\n",
    "\n"
   ]
  },
  {
   "cell_type": "markdown",
   "metadata": {},
   "source": [
    "What do we compute:\n",
    "------------------------------\n",
    "\n",
    "<div align=\"middle\">\n",
    "<img src=\"./fig/cort_formule.png\"  style=\"width: 75%\">\n",
    "</div>"
   ]
  },
  {
   "cell_type": "markdown",
   "metadata": {},
   "source": [
    "Easy enought to implement:\n",
    "---------------------------------------"
   ]
  },
  {
   "cell_type": "code",
   "execution_count": 28,
   "metadata": {},
   "outputs": [],
   "source": [
    "from math import sqrt\n",
    "\n",
    "def cort(s1,  s2):\n",
    "    \"\"\" Computes the cort between serie one and two (assuming they have the same length)\n",
    "\n",
    "    :param s1: the first serie (or any iterable over floats64)\n",
    "    :param s2: the second serie (or any iterable over floats64)\n",
    "    :returns: the cort distance\n",
    "    :rtype: float\n",
    "    :precondition: series are assumed to be of same size\n",
    "\n",
    "    \"\"\"\n",
    "    num = 0.0\n",
    "    sum_square_x = 0.0\n",
    "    sum_square_y = 0.0\n",
    "    for t in range(len(s1)-1):\n",
    "        slope_1 = s1[t+1] - s1[t]\n",
    "        slope_2 = s2[t+1] - s2[t]\n",
    "        num = num + slope_1 * slope_2\n",
    "        sum_square_x = sum_square_x + (slope_1*slope_1)\n",
    "        sum_square_y = sum_square_y + (slope_2 * slope_2)\n",
    "    return num/(sqrt(sum_square_x*sum_square_y))"
   ]
  },
  {
   "cell_type": "code",
   "execution_count": 29,
   "metadata": {},
   "outputs": [
    {
     "data": {
      "text/plain": [
       "0.4629100498862757"
      ]
     },
     "execution_count": 29,
     "metadata": {},
     "output_type": "execute_result"
    }
   ],
   "source": [
    "x = [1, 2, 3, 5, 5, 6]\n",
    "y = [1, 1, 2, 2, 3, 5]\n",
    "\n",
    "cort(x,y)"
   ]
  }
 ],
 "metadata": {
  "kernelspec": {
   "display_name": "Python 3",
   "language": "python",
   "name": "python3"
  },
  "language_info": {
   "codemirror_mode": {
    "name": "ipython",
    "version": 3
   },
   "file_extension": ".py",
   "mimetype": "text/x-python",
   "name": "python",
   "nbconvert_exporter": "python",
   "pygments_lexer": "ipython3",
   "version": "3.7.3"
  }
 },
 "nbformat": 4,
 "nbformat_minor": 2
}
