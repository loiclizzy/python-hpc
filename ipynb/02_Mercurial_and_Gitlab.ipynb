{
 "cells": [
  {
   "cell_type": "markdown",
   "metadata": {},
   "source": [
    "# Introduction to Mercurial\n",
    "\n",
    "See https://www.mercurial-scm.org/ and https://www.mercurial-scm.org/guide\n",
    "\n",
    "\n",
    "## Level 0: commands `help`, `init`, `status`, `add`, `remove`, `addremove`, `commit`, `log` and `summary`"
   ]
  },
  {
   "cell_type": "code",
   "execution_count": 1,
   "metadata": {},
   "outputs": [
    {
     "name": "stdout",
     "output_type": "stream",
     "text": [
      "Mercurial Distributed SCM\n",
      "\n",
      "list of commands:\n",
      "\n",
      " add           add the specified files on the next commit\n",
      " addremove     add all new files, delete all missing files\n",
      " annotate      show changeset information by line for each file\n",
      " archive       create an unversioned archive of a repository revision\n",
      " backout       reverse effect of earlier changeset\n",
      " bisect        subdivision search of changesets\n",
      " bookmarks     create a new bookmark or list existing bookmarks\n",
      " branch        set or show the current branch name\n",
      " branches      list repository named branches\n",
      " bundle        create a bundle file\n",
      " cat           output the current or given revision of files\n",
      " clone         make a copy of an existing repository\n",
      " commit        commit the specified files or all outstanding changes\n",
      " config        show combined config settings from all hgrc files\n",
      " copy          mark files as copied for the next commit\n",
      " diff          diff repository (or selected files)\n",
      " export        dump the header and diffs for one or more changesets\n",
      " files         list tracked files\n",
      " forget        forget the specified files on the next commit\n",
      " graft         copy changes from other branches onto the current branch\n",
      " grep          search revision history for a pattern in specified files\n",
      " heads         show branch heads\n",
      " help          show help for a given topic or a help overview\n",
      " identify      identify the working directory or specified revision\n",
      " import        import an ordered set of patches\n",
      " incoming      show new changesets found in source\n",
      " init          create a new repository in the given directory\n",
      " log           show revision history of entire repository or files\n",
      " manifest      output the current or given revision of the project manifest\n",
      " merge         merge another revision into working directory\n",
      " outgoing      show changesets not found in the destination\n",
      " paths         show aliases for remote repositories\n",
      " phase         set or show the current phase name\n",
      " pull          pull changes from the specified source\n",
      " push          push changes to the specified destination\n",
      " recover       roll back an interrupted transaction\n",
      " remove        remove the specified files on the next commit\n",
      " rename        rename files; equivalent of copy + remove\n",
      " resolve       redo merges or set/view the merge status of files\n",
      " revert        restore files to their checkout state\n",
      " root          print the root (top) of the current working directory\n",
      " serve         start stand-alone webserver\n",
      " status        show changed files in the working directory\n",
      " summary       summarize working directory state\n",
      " tag           add one or more tags for the current or given revision\n",
      " tags          list repository tags\n",
      " unbundle      apply one or more bundle files\n",
      " update        update working directory (or switch revisions)\n",
      " verify        verify the integrity of the repository\n",
      " version       output version and copyright information\n",
      "\n",
      "enabled extensions:\n",
      "\n",
      " extdiff       command to allow external programs to compare revisions\n",
      " hggit         push and pull from a Git server\n",
      "\n",
      "additional help topics:\n",
      "\n",
      " bundlespec    Bundle File Formats\n",
      " color         Colorizing Outputs\n",
      " config        Configuration Files\n",
      " dates         Date Formats\n",
      " diffs         Diff Formats\n",
      " environment   Environment Variables\n",
      " extensions    Using Additional Features\n",
      " filesets      Specifying File Sets\n",
      " git           Working with Git Repositories\n",
      " glossary      Glossary\n",
      " hgignore      Syntax for Mercurial Ignore Files\n",
      " hgweb         Configuring hgweb\n",
      " internals     Technical implementation topics\n",
      " merge-tools   Merge Tools\n",
      " pager         Pager Support\n",
      " patterns      File Name Patterns\n",
      " phases        Working with Phases\n",
      " revisions     Specifying Revisions\n",
      " scripting     Using Mercurial from scripts and automation\n",
      " subrepos      Subrepositories\n",
      " templating    Template Usage\n",
      " urls          URL Paths\n",
      "\n",
      "(use 'hg help -v' to show built-in aliases and global options)\n"
     ]
    }
   ],
   "source": [
    "hg help"
   ]
  },
  {
   "cell_type": "code",
   "execution_count": 2,
   "metadata": {},
   "outputs": [],
   "source": [
    "# cleanup\n",
    "rm -rf /tmp/myrepos"
   ]
  },
  {
   "cell_type": "code",
   "execution_count": 3,
   "metadata": {},
   "outputs": [],
   "source": [
    "mkdir -p /tmp/myrepos/myrepo0\n",
    "cd /tmp/myrepos/myrepo0\n",
    "touch file0.txt"
   ]
  },
  {
   "cell_type": "code",
   "execution_count": 4,
   "metadata": {},
   "outputs": [],
   "source": [
    "hg init"
   ]
  },
  {
   "cell_type": "code",
   "execution_count": null,
   "metadata": {},
   "outputs": [],
   "source": []
  },
  {
   "cell_type": "code",
   "execution_count": 5,
   "metadata": {},
   "outputs": [
    {
     "name": "stdout",
     "output_type": "stream",
     "text": [
      "\u001b[0;35;1;4m? \u001b[0m\u001b[0;35;1;4mfile0.txt\u001b[0m\n"
     ]
    }
   ],
   "source": [
    "hg status"
   ]
  },
  {
   "cell_type": "code",
   "execution_count": 6,
   "metadata": {},
   "outputs": [
    {
     "name": "stdout",
     "output_type": "stream",
     "text": [
      "\u001b[0;35;1;4m? \u001b[0m\u001b[0;35;1;4mfile0.txt\u001b[0m\n"
     ]
    }
   ],
   "source": [
    "# equivalent command (shorter)\n",
    "hg st"
   ]
  },
  {
   "cell_type": "code",
   "execution_count": 7,
   "metadata": {},
   "outputs": [
    {
     "name": "stdout",
     "output_type": "stream",
     "text": [
      "adding file0.txt\n"
     ]
    }
   ],
   "source": [
    "hg add"
   ]
  },
  {
   "cell_type": "code",
   "execution_count": 8,
   "metadata": {},
   "outputs": [],
   "source": [
    "hg commit -m \"First commit\""
   ]
  },
  {
   "cell_type": "code",
   "execution_count": 9,
   "metadata": {},
   "outputs": [],
   "source": [
    "hg st"
   ]
  },
  {
   "cell_type": "code",
   "execution_count": 10,
   "metadata": {},
   "outputs": [
    {
     "name": "stdout",
     "output_type": "stream",
     "text": [
      "hg init [-e CMD] [--remotecmd CMD] [DEST]\n",
      "\n",
      "create a new repository in the given directory\n",
      "\n",
      "    Initialize a new repository in the given directory. If the given directory\n",
      "    does not exist, it will be created.\n",
      "\n",
      "    If no directory is given, the current directory is used.\n",
      "\n",
      "    It is possible to specify an \"ssh://\" URL as the destination. See 'hg help\n",
      "    urls' for more information.\n",
      "\n",
      "    Returns 0 on success.\n",
      "\n",
      "options:\n",
      "\n",
      " -e --ssh CMD       specify ssh command to use\n",
      "    --remotecmd CMD specify hg command to run on the remote side\n",
      "    --insecure      do not verify server certificate (ignoring web.cacerts\n",
      "                    config)\n",
      "\n",
      "(some details hidden, use --verbose to show complete help)\n"
     ]
    }
   ],
   "source": [
    "hg help init"
   ]
  },
  {
   "cell_type": "code",
   "execution_count": 11,
   "metadata": {},
   "outputs": [],
   "source": [
    "touch file1.txt"
   ]
  },
  {
   "cell_type": "code",
   "execution_count": 12,
   "metadata": {},
   "outputs": [
    {
     "name": "stdout",
     "output_type": "stream",
     "text": [
      "\u001b[0;35;1;4m? \u001b[0m\u001b[0;35;1;4mfile1.txt\u001b[0m\n"
     ]
    }
   ],
   "source": [
    "hg st"
   ]
  },
  {
   "cell_type": "code",
   "execution_count": 13,
   "metadata": {},
   "outputs": [],
   "source": [
    "rm -f file0.txt"
   ]
  },
  {
   "cell_type": "code",
   "execution_count": 14,
   "metadata": {},
   "outputs": [
    {
     "name": "stdout",
     "output_type": "stream",
     "text": [
      "\u001b[0;36;1;4m! \u001b[0m\u001b[0;36;1;4mfile0.txt\u001b[0m\n",
      "\u001b[0;35;1;4m? \u001b[0m\u001b[0;35;1;4mfile1.txt\u001b[0m\n"
     ]
    }
   ],
   "source": [
    "hg st"
   ]
  },
  {
   "cell_type": "code",
   "execution_count": 15,
   "metadata": {},
   "outputs": [
    {
     "name": "stdout",
     "output_type": "stream",
     "text": [
      "removing file0.txt\n",
      "adding file1.txt\n"
     ]
    }
   ],
   "source": [
    "hg addremove\n",
    "# or \n",
    "# hg addre"
   ]
  },
  {
   "cell_type": "code",
   "execution_count": 16,
   "metadata": {},
   "outputs": [
    {
     "name": "stdout",
     "output_type": "stream",
     "text": [
      "\u001b[0;32;1mA \u001b[0m\u001b[0;32;1mfile1.txt\u001b[0m\n",
      "\u001b[0;31;1mR \u001b[0m\u001b[0;31;1mfile0.txt\u001b[0m\n"
     ]
    }
   ],
   "source": [
    "hg st"
   ]
  },
  {
   "cell_type": "code",
   "execution_count": 17,
   "metadata": {},
   "outputs": [],
   "source": [
    "hg commit -m \"Remove file0 and add file1\""
   ]
  },
  {
   "cell_type": "code",
   "execution_count": 18,
   "metadata": {},
   "outputs": [],
   "source": [
    "hg st"
   ]
  },
  {
   "cell_type": "code",
   "execution_count": 19,
   "metadata": {},
   "outputs": [
    {
     "name": "stdout",
     "output_type": "stream",
     "text": [
      "file1.txt\n"
     ]
    }
   ],
   "source": [
    "ls"
   ]
  },
  {
   "cell_type": "code",
   "execution_count": 20,
   "metadata": {},
   "outputs": [
    {
     "name": "stdout",
     "output_type": "stream",
     "text": [
      "\u001b[0;33mchangeset:   1:5ffb11d5c0a0\u001b[0m\n",
      "tag:         tip\n",
      "user:        paugier <pierre.augier@ens-lyon.org>\n",
      "date:        Tue Nov 21 09:39:40 2017 +0100\n",
      "summary:     Remove file0 and add file1\n",
      "\n",
      "\u001b[0;33mchangeset:   0:418075c03bfc\u001b[0m\n",
      "user:        paugier <pierre.augier@ens-lyon.org>\n",
      "date:        Tue Nov 21 09:39:38 2017 +0100\n",
      "summary:     First commit\n",
      "\n"
     ]
    }
   ],
   "source": [
    "hg log"
   ]
  },
  {
   "cell_type": "code",
   "execution_count": 21,
   "metadata": {},
   "outputs": [
    {
     "name": "stdout",
     "output_type": "stream",
     "text": [
      "\u001b[0;33mparent: 1:5ffb11d5c0a0 \u001b[0mtip\n",
      " Remove file0 and add file1\n",
      "branch: default\n",
      "commit: (clean)\n",
      "update: (current)\n",
      "phases: 2 draft\n"
     ]
    }
   ],
   "source": [
    "hg sum"
   ]
  },
  {
   "cell_type": "markdown",
   "metadata": {},
   "source": [
    "## Level 1.0: command `revert`"
   ]
  },
  {
   "cell_type": "code",
   "execution_count": 22,
   "metadata": {},
   "outputs": [
    {
     "name": "stdout",
     "output_type": "stream",
     "text": [
      "file1.txt\n"
     ]
    }
   ],
   "source": [
    "echo file1.txt"
   ]
  },
  {
   "cell_type": "code",
   "execution_count": 23,
   "metadata": {},
   "outputs": [],
   "source": [
    "echo \"Something wrong\" > file1.txt"
   ]
  },
  {
   "cell_type": "code",
   "execution_count": 24,
   "metadata": {},
   "outputs": [
    {
     "name": "stdout",
     "output_type": "stream",
     "text": [
      "\u001b[0;34;1mM \u001b[0m\u001b[0;34;1mfile1.txt\u001b[0m\n"
     ]
    }
   ],
   "source": [
    "hg st"
   ]
  },
  {
   "cell_type": "code",
   "execution_count": 25,
   "metadata": {},
   "outputs": [],
   "source": [
    "hg revert file1.txt\n",
    "# or to revert all files:\n",
    "# hg revert --all"
   ]
  },
  {
   "cell_type": "code",
   "execution_count": 26,
   "metadata": {},
   "outputs": [
    {
     "name": "stdout",
     "output_type": "stream",
     "text": [
      "file1.txt  file1.txt.orig\n"
     ]
    }
   ],
   "source": [
    "ls"
   ]
  },
  {
   "cell_type": "code",
   "execution_count": 27,
   "metadata": {},
   "outputs": [
    {
     "name": "stdout",
     "output_type": "stream",
     "text": [
      "\u001b[0;35;1;4m? \u001b[0m\u001b[0;35;1;4mfile1.txt.orig\u001b[0m\n"
     ]
    }
   ],
   "source": [
    "hg st"
   ]
  },
  {
   "cell_type": "markdown",
   "metadata": {},
   "source": [
    "## Level 1.1: command `update`"
   ]
  },
  {
   "cell_type": "code",
   "execution_count": 28,
   "metadata": {},
   "outputs": [
    {
     "name": "stdout",
     "output_type": "stream",
     "text": [
      "1 files updated, 0 files merged, 1 files removed, 0 files unresolved\n"
     ]
    }
   ],
   "source": [
    "hg update 0\n",
    "# `update` or just `up`"
   ]
  },
  {
   "cell_type": "code",
   "execution_count": 29,
   "metadata": {},
   "outputs": [
    {
     "name": "stdout",
     "output_type": "stream",
     "text": [
      "file0.txt  file1.txt.orig\n"
     ]
    }
   ],
   "source": [
    "ls"
   ]
  },
  {
   "cell_type": "code",
   "execution_count": 30,
   "metadata": {},
   "outputs": [
    {
     "name": "stdout",
     "output_type": "stream",
     "text": [
      "1 files updated, 0 files merged, 1 files removed, 0 files unresolved\n"
     ]
    }
   ],
   "source": [
    "hg up"
   ]
  },
  {
   "cell_type": "code",
   "execution_count": 31,
   "metadata": {},
   "outputs": [
    {
     "name": "stdout",
     "output_type": "stream",
     "text": [
      "file1.txt  file1.txt.orig\n"
     ]
    }
   ],
   "source": [
    "ls"
   ]
  },
  {
   "cell_type": "code",
   "execution_count": 32,
   "metadata": {},
   "outputs": [],
   "source": [
    "touch file2.txt"
   ]
  },
  {
   "cell_type": "code",
   "execution_count": 33,
   "metadata": {},
   "outputs": [
    {
     "name": "stdout",
     "output_type": "stream",
     "text": [
      "\u001b[0;35;1;4m? \u001b[0m\u001b[0;35;1;4mfile1.txt.orig\u001b[0m\n",
      "\u001b[0;35;1;4m? \u001b[0m\u001b[0;35;1;4mfile2.txt\u001b[0m\n"
     ]
    }
   ],
   "source": [
    "hg st"
   ]
  },
  {
   "cell_type": "code",
   "execution_count": 34,
   "metadata": {},
   "outputs": [
    {
     "name": "stdout",
     "output_type": "stream",
     "text": [
      "adding file1.txt.orig\n",
      "adding file2.txt\n"
     ]
    }
   ],
   "source": [
    "hg add"
   ]
  },
  {
   "cell_type": "code",
   "execution_count": 35,
   "metadata": {},
   "outputs": [],
   "source": [
    "hg commit -m \"Add file 2\""
   ]
  },
  {
   "cell_type": "code",
   "execution_count": 36,
   "metadata": {},
   "outputs": [
    {
     "name": "stdout",
     "output_type": "stream",
     "text": [
      "\u001b[0;33mchangeset:   2:a8245cd3c51a\u001b[0m\n",
      "tag:         tip\n",
      "user:        paugier <pierre.augier@ens-lyon.org>\n",
      "date:        Tue Nov 21 09:39:43 2017 +0100\n",
      "summary:     Add file 2\n",
      "\n",
      "\u001b[0;33mchangeset:   1:5ffb11d5c0a0\u001b[0m\n",
      "user:        paugier <pierre.augier@ens-lyon.org>\n",
      "date:        Tue Nov 21 09:39:40 2017 +0100\n",
      "summary:     Remove file0 and add file1\n",
      "\n",
      "\u001b[0;33mchangeset:   0:418075c03bfc\u001b[0m\n",
      "user:        paugier <pierre.augier@ens-lyon.org>\n",
      "date:        Tue Nov 21 09:39:38 2017 +0100\n",
      "summary:     First commit\n",
      "\n"
     ]
    }
   ],
   "source": [
    "hg log"
   ]
  },
  {
   "cell_type": "markdown",
   "metadata": {},
   "source": [
    "## Level 2: commands `clone`, `push`, `pull`  "
   ]
  },
  {
   "cell_type": "code",
   "execution_count": 37,
   "metadata": {},
   "outputs": [
    {
     "name": "stdout",
     "output_type": "stream",
     "text": [
      "/tmp/myrepos\n"
     ]
    }
   ],
   "source": [
    "cd ..\n",
    "pwd"
   ]
  },
  {
   "cell_type": "code",
   "execution_count": 38,
   "metadata": {},
   "outputs": [
    {
     "name": "stdout",
     "output_type": "stream",
     "text": [
      "updating to branch default\n",
      "3 files updated, 0 files merged, 0 files removed, 0 files unresolved\n"
     ]
    }
   ],
   "source": [
    "hg clone myrepo0 myrepo_web"
   ]
  },
  {
   "cell_type": "code",
   "execution_count": 39,
   "metadata": {},
   "outputs": [],
   "source": [
    "cd myrepo0"
   ]
  },
  {
   "cell_type": "code",
   "execution_count": 40,
   "metadata": {},
   "outputs": [
    {
     "name": "stdout",
     "output_type": "stream",
     "text": [
      "file1.txt  file1.txt.orig  file2.txt\n"
     ]
    }
   ],
   "source": [
    "ls"
   ]
  },
  {
   "cell_type": "code",
   "execution_count": 41,
   "metadata": {},
   "outputs": [
    {
     "name": "stdout",
     "output_type": "stream",
     "text": [
      "\u001b[0;34;1mM \u001b[0m\u001b[0;34;1mfile2.txt\u001b[0m\n"
     ]
    }
   ],
   "source": [
    "echo \"Hello\" > file2.txt\n",
    "hg st"
   ]
  },
  {
   "cell_type": "code",
   "execution_count": 42,
   "metadata": {},
   "outputs": [],
   "source": [
    "hg commit -m \"Improve file2\""
   ]
  },
  {
   "cell_type": "code",
   "execution_count": 43,
   "metadata": {},
   "outputs": [
    {
     "name": "stdout",
     "output_type": "stream",
     "text": [
      "@  \u001b[0;33mchangeset:   3:91b5689b6e52\u001b[0m\n",
      "|  tag:         tip\n",
      "|  user:        paugier <pierre.augier@ens-lyon.org>\n",
      "|  date:        Tue Nov 21 09:39:44 2017 +0100\n",
      "|  summary:     Improve file2\n",
      "|\n",
      "o  \u001b[0;33mchangeset:   2:a8245cd3c51a\u001b[0m\n",
      "|  user:        paugier <pierre.augier@ens-lyon.org>\n",
      "|  date:        Tue Nov 21 09:39:43 2017 +0100\n",
      "|  summary:     Add file 2\n",
      "|\n",
      "o  \u001b[0;33mchangeset:   1:5ffb11d5c0a0\u001b[0m\n",
      "|  user:        paugier <pierre.augier@ens-lyon.org>\n",
      "|  date:        Tue Nov 21 09:39:40 2017 +0100\n",
      "|  summary:     Remove file0 and add file1\n",
      "|\n",
      "o  \u001b[0;33mchangeset:   0:418075c03bfc\u001b[0m\n",
      "   user:        paugier <pierre.augier@ens-lyon.org>\n",
      "   date:        Tue Nov 21 09:39:38 2017 +0100\n",
      "   summary:     First commit\n",
      "\n"
     ]
    }
   ],
   "source": [
    "hg log --graph"
   ]
  },
  {
   "cell_type": "code",
   "execution_count": 44,
   "metadata": {},
   "outputs": [
    {
     "name": "stdout",
     "output_type": "stream",
     "text": [
      "pushing to /tmp/myrepos/myrepo_web\n",
      "searching for changes\n",
      "adding changesets\n",
      "adding manifests\n",
      "adding file changes\n",
      "added 1 changesets with 1 changes to 1 files\n"
     ]
    }
   ],
   "source": [
    "hg push /tmp/myrepos/myrepo_web"
   ]
  },
  {
   "cell_type": "code",
   "execution_count": 45,
   "metadata": {},
   "outputs": [
    {
     "name": "stdout",
     "output_type": "stream",
     "text": [
      "/tmp/myrepos\n",
      "\u001b[0m\u001b[01;34mmyrepo0\u001b[0m  \u001b[01;34mmyrepo_web\u001b[0m\n"
     ]
    }
   ],
   "source": [
    "cd /tmp/myrepos\n",
    "pwd\n",
    "ls"
   ]
  },
  {
   "cell_type": "code",
   "execution_count": 46,
   "metadata": {},
   "outputs": [
    {
     "name": "stdout",
     "output_type": "stream",
     "text": [
      "updating to branch default\n",
      "3 files updated, 0 files merged, 0 files removed, 0 files unresolved\n"
     ]
    }
   ],
   "source": [
    "hg clone myrepo_web myrepo_other_computer"
   ]
  },
  {
   "cell_type": "code",
   "execution_count": 47,
   "metadata": {},
   "outputs": [
    {
     "name": "stdout",
     "output_type": "stream",
     "text": [
      "file1.txt  file1.txt.orig  file2.txt\n"
     ]
    }
   ],
   "source": [
    "cd myrepo_other_computer\n",
    "ls"
   ]
  },
  {
   "cell_type": "code",
   "execution_count": 48,
   "metadata": {},
   "outputs": [
    {
     "name": "stdout",
     "output_type": "stream",
     "text": [
      "Hello\n"
     ]
    }
   ],
   "source": [
    "cat file2.txt"
   ]
  },
  {
   "cell_type": "code",
   "execution_count": 49,
   "metadata": {},
   "outputs": [],
   "source": [
    "echo \"Hello Word!\" > file2.txt"
   ]
  },
  {
   "cell_type": "code",
   "execution_count": 50,
   "metadata": {},
   "outputs": [
    {
     "name": "stdout",
     "output_type": "stream",
     "text": [
      "\u001b[0;34;1mM \u001b[0m\u001b[0;34;1mfile2.txt\u001b[0m\n"
     ]
    }
   ],
   "source": [
    "hg st"
   ]
  },
  {
   "cell_type": "code",
   "execution_count": 51,
   "metadata": {},
   "outputs": [],
   "source": [
    "hg commit -m '\"Hello Word!\" is even nicer'"
   ]
  },
  {
   "cell_type": "code",
   "execution_count": 52,
   "metadata": {},
   "outputs": [],
   "source": [
    "hg st"
   ]
  },
  {
   "cell_type": "code",
   "execution_count": 53,
   "metadata": {},
   "outputs": [
    {
     "name": "stdout",
     "output_type": "stream",
     "text": [
      "pushing to /tmp/myrepos/myrepo_web\n",
      "searching for changes\n",
      "adding changesets\n",
      "adding manifests\n",
      "adding file changes\n",
      "added 1 changesets with 1 changes to 1 files\n"
     ]
    }
   ],
   "source": [
    "hg push /tmp/myrepos/myrepo_web"
   ]
  },
  {
   "cell_type": "code",
   "execution_count": 54,
   "metadata": {},
   "outputs": [],
   "source": [
    "cd ../myrepo0"
   ]
  },
  {
   "cell_type": "code",
   "execution_count": 55,
   "metadata": {},
   "outputs": [
    {
     "name": "stdout",
     "output_type": "stream",
     "text": [
      "Hello\n"
     ]
    }
   ],
   "source": [
    "cat file2.txt"
   ]
  },
  {
   "cell_type": "code",
   "execution_count": 56,
   "metadata": {},
   "outputs": [
    {
     "name": "stdout",
     "output_type": "stream",
     "text": [
      "pulling from /tmp/myrepos/myrepo_web\n",
      "searching for changes\n",
      "adding changesets\n",
      "adding manifests\n",
      "adding file changes\n",
      "added 1 changesets with 1 changes to 1 files\n",
      "(run 'hg update' to get a working copy)\n"
     ]
    }
   ],
   "source": [
    "hg pull /tmp/myrepos/myrepo_web"
   ]
  },
  {
   "cell_type": "code",
   "execution_count": 57,
   "metadata": {},
   "outputs": [
    {
     "name": "stdout",
     "output_type": "stream",
     "text": [
      "1 files updated, 0 files merged, 0 files removed, 0 files unresolved\n"
     ]
    }
   ],
   "source": [
    "hg up"
   ]
  },
  {
   "cell_type": "code",
   "execution_count": 58,
   "metadata": {},
   "outputs": [
    {
     "name": "stdout",
     "output_type": "stream",
     "text": [
      "Hello Word!\n"
     ]
    }
   ],
   "source": [
    "cat file2.txt"
   ]
  }
 ],
 "metadata": {
  "kernelspec": {
   "display_name": "Bash",
   "language": "bash",
   "name": "bash"
  },
  "language_info": {
   "codemirror_mode": "shell",
   "file_extension": ".sh",
   "mimetype": "text/x-sh",
   "name": "bash"
  }
 },
 "nbformat": 4,
 "nbformat_minor": 2
}
