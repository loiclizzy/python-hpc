{
 "cells": [
  {
   "cell_type": "markdown",
   "metadata": {
    "slideshow": {
     "slide_type": "slide"
    }
   },
   "source": [
    "# Introduction to source control management with Mercurial and Gitlab\n",
    "\n",
    "## Why?\n",
    "\n",
    "### Why source control management?\n",
    "\n",
    "Essential tool for scientists and developers!!"
   ]
  },
  {
   "cell_type": "markdown",
   "metadata": {
    "slideshow": {
     "slide_type": "slide"
    }
   },
   "source": [
    "### Why Mercurial?\n",
    "\n",
    "- https://www.mercurial-scm.org/ \n",
    "\n",
    "- https://fluiddyn.readthedocs.io/en/latest/mercurial_bitbucket.html\n",
    "\n",
    "Why not Git?"
   ]
  },
  {
   "cell_type": "raw",
   "metadata": {},
   "source": [
    "<div align=\"middle\">\n",
    "<img src=\"./fig/git.png\"  style=\"width: 30%; margin-top: -30px; margin-bottom: -20px\"> &nbsp;\n",
    "</div>"
   ]
  },
  {
   "cell_type": "markdown",
   "metadata": {
    "slideshow": {
     "slide_type": "-"
    }
   },
   "source": [
    "Git is really too complicated for what we need as scientists / students / teachers / developers of most scientific programs.\n",
    "\n",
    "[Mercurial is more adapted for us in academics.](http://www.legi.grenoble-inp.fr/people/Pierre.Augier/mercurial-as-a-great-version-source-control-management-tool-in-academics.html)"
   ]
  },
  {
   "cell_type": "markdown",
   "metadata": {
    "slideshow": {
     "slide_type": "slide"
    }
   },
   "source": [
    "### Why Gitlab?\n",
    "\n",
    "https://gricad-gitlab.univ-grenoble-alpes.fr\n",
    "\n",
    "### Warning! Gitlab does not natively support Mercurial!\n",
    "\n",
    "For now, we'll have to use a Mercurial extension (hg-git) and it won't be as nice as if we could use a platform natively supporting Mercurial (as for example Bitbucket).\n",
    "\n",
    "But [Heptapod (Gitlab with Mercurial support)](https://octobus.net/blog/2018-09-18-heptapod-announce.html) is coming."
   ]
  },
  {
   "cell_type": "markdown",
   "metadata": {
    "slideshow": {
     "slide_type": "slide"
    }
   },
   "source": [
    "## Level 0: commands `help`, `init`, `status`, `add`, `remove`, `addremove`, `commit`, `log` and `summary`"
   ]
  },
  {
   "cell_type": "code",
   "execution_count": 1,
   "metadata": {},
   "outputs": [
    {
     "name": "stdout",
     "output_type": "stream",
     "text": [
      "Mercurial Distributed SCM\n",
      "\n",
      "list of commands:\n",
      "\n",
      "Repository creation:\n",
      "\n",
      " clone         make a copy of an existing repository\n",
      " init          create a new repository in the given directory\n",
      "\n",
      "Remote repository management:\n",
      "\n",
      " incoming      show new changesets found in source\n",
      " outgoing      show changesets not found in the destination\n",
      " paths         show aliases for remote repositories\n",
      " pull          pull changes from the specified source\n",
      " push          push changes to the specified destination\n",
      " serve         start stand-alone webserver\n",
      "\n",
      "Change creation:\n",
      "\n",
      " absorb        incorporate corrections into the stack of draft changesets\n",
      " commit        commit the specified files or all outstanding changes\n",
      "\n",
      "Change manipulation:\n",
      "\n",
      " backout       reverse effect of earlier changeset\n",
      " graft         copy changes from other branches onto the current branch\n",
      " merge         merge another revision into working directory\n",
      " rebase        move changeset (and descendants) to a different branch\n",
      "\n",
      "Change organization:\n",
      "\n",
      " bookmarks     create a new bookmark or list existing bookmarks\n",
      " branch        set or show the current branch name\n",
      " branches      list repository named branches\n",
      " phase         set or show the current phase name\n",
      " tag           add one or more tags for the current or given revision\n",
      " tags          list repository tags\n",
      "\n",
      "File content management:\n",
      "\n",
      " annotate      show changeset information by line for each file\n",
      " cat           output the current or given revision of files\n",
      " copy          mark files as copied for the next commit\n",
      " diff          diff repository (or selected files)\n",
      " extdiff       use external program to diff repository (or selected files)\n",
      " grep          search revision history for a pattern in specified files\n",
      " meld          use external program to diff repository (or selected files)\n",
      "\n",
      "Change navigation:\n",
      "\n",
      " bisect        subdivision search of changesets\n",
      " heads         show branch heads\n",
      " identify      identify the working directory or specified revision\n",
      " log           show revision history of entire repository or files\n",
      "\n",
      "Working directory management:\n",
      "\n",
      " add           add the specified files on the next commit\n",
      " addremove     add all new files, delete all missing files\n",
      " files         list tracked files\n",
      " forget        forget the specified files on the next commit\n",
      " remove        remove the specified files on the next commit\n",
      " rename        rename files; equivalent of copy + remove\n",
      " resolve       redo merges or set/view the merge status of files\n",
      " revert        restore files to their checkout state\n",
      " root          print the root (top) of the current working directory\n",
      " shelve        save and set aside changes from the working directory\n",
      " status        show changed files in the working directory\n",
      " summary       summarize working directory state\n",
      " unshelve      restore a shelved change to the working directory\n",
      " update        update working directory (or switch revisions)\n",
      "\n",
      "Change import/export:\n",
      "\n",
      " archive       create an unversioned archive of a repository revision\n",
      " bundle        create a bundle file\n",
      " export        dump the header and diffs for one or more changesets\n",
      " import        import an ordered set of patches\n",
      " unbundle      apply one or more bundle files\n",
      "\n",
      "Repository maintenance:\n",
      "\n",
      " churn         histogram of changes to the repository\n",
      " manifest      output the current or given revision of the project manifest\n",
      " recover       roll back an interrupted transaction\n",
      " verify        verify the integrity of the repository\n",
      "\n",
      "Help:\n",
      "\n",
      " config        show combined config settings from all hgrc files\n",
      " help          show help for a given topic or a help overview\n",
      " version       output version and copyright information\n",
      "\n",
      "Uncategorized commands:\n",
      "\n",
      " amend         combine a changeset with updates and replace it with a new one\n",
      " evolve        solve troubled changesets in your repository\n",
      " fold          fold multiple revisions into a single one\n",
      " gclear        clear out the Git cached data\n",
      " gexport       export commits from Mercurial to Git\n",
      " gimport       import commits from Git to Mercurial\n",
      " git-cleanup   clean up Git commit map after history editing\n",
      " gverify       verify that a Mercurial rev matches the corresponding Git rev\n",
      " metaedit      edit commit information\n",
      " next          update to next child revision\n",
      " obslog        show the obsolescence history of the specified revisions\n",
      " pdiff         show diff combining committed and uncommited changes\n",
      " pick          move a commit on the top of working directory parent and\n",
      "               updates to it.\n",
      " previous      update to parent revision\n",
      " prune         mark changesets as obsolete or succeeded by another changeset\n",
      " pstatus       show status combining committed and uncommited changes\n",
      " rewind        rewind a stack of changesets to a previous state\n",
      " split         split a changeset into smaller changesets\n",
      " stack         list all changesets in a topic and other information\n",
      " topics        View current topic, set current topic, change topic for a set\n",
      "               of revisions, or see all topics.\n",
      " touch         create successors identical to their predecessors but the\n",
      "               changeset ID\n",
      " uncommit      move changes from parent revision to working directory\n",
      "\n",
      "enabled extensions:\n",
      "\n",
      " churn         command to display statistics about repository history\n",
      " evolve        extends Mercurial feature related to Changeset Evolution\n",
      " extdiff       command to allow external programs to compare revisions\n",
      " hggit         push and pull from a Git server\n",
      " rebase        command to move sets of revisions to a different ancestor\n",
      " shelve        save and restore changes to the working directory\n",
      " topic         support for topic branches\n",
      "\n",
      "additional help topics:\n",
      "\n",
      "Mercurial identifiers:\n",
      "\n",
      " filesets      Specifying File Sets\n",
      " hgignore      Syntax for Mercurial Ignore Files\n",
      " patterns      File Name Patterns\n",
      " revisions     Specifying Revisions\n",
      " urls          URL Paths\n",
      "\n",
      "Mercurial output:\n",
      "\n",
      " color         Colorizing Outputs\n",
      " dates         Date Formats\n",
      " diffs         Diff Formats\n",
      " templating    Template Usage\n",
      "\n",
      "Mercurial configuration:\n",
      "\n",
      " config        Configuration Files\n",
      " environment   Environment Variables\n",
      " extensions    Using Additional Features\n",
      " flags         Command-line flags\n",
      " hgweb         Configuring hgweb\n",
      " merge-tools   Merge Tools\n",
      " pager         Pager Support\n",
      "\n",
      "Concepts:\n",
      "\n",
      " bundlespec    Bundle File Formats\n",
      " glossary      Glossary\n",
      " phases        Working with Phases\n",
      " subrepos      Subrepositories\n",
      "\n",
      "Miscellaneous:\n",
      "\n",
      " deprecated    Deprecated Features\n",
      " internals     Technical implementation topics\n",
      " scripting     Using Mercurial from scripts and automation\n",
      "\n",
      "Uncategorized topics:\n",
      "\n",
      " evolution     Safely Rewriting History\n",
      " git           Working with Git Repositories\n",
      "\n",
      "(use 'hg help -v' to show built-in aliases and global options)\n"
     ]
    }
   ],
   "source": [
    "hg help"
   ]
  },
  {
   "cell_type": "code",
   "execution_count": 2,
   "metadata": {},
   "outputs": [
    {
     "name": "stdout",
     "output_type": "stream",
     "text": [
      "hg init [-e CMD] [--remotecmd CMD] [DEST]\n",
      "\n",
      "create a new repository in the given directory\n",
      "\n",
      "    Initialize a new repository in the given directory. If the given directory\n",
      "    does not exist, it will be created.\n",
      "\n",
      "    If no directory is given, the current directory is used.\n",
      "\n",
      "    It is possible to specify an \"ssh://\" URL as the destination. See 'hg help\n",
      "    urls' for more information.\n",
      "\n",
      "    Returns 0 on success.\n",
      "\n",
      "options:\n",
      "\n",
      " -e --ssh CMD       specify ssh command to use\n",
      "    --remotecmd CMD specify hg command to run on the remote side\n",
      "    --insecure      do not verify server certificate (ignoring web.cacerts\n",
      "                    config)\n",
      "\n",
      "(some details hidden, use --verbose to show complete help)\n"
     ]
    }
   ],
   "source": [
    "hg help init"
   ]
  },
  {
   "cell_type": "code",
   "execution_count": 3,
   "metadata": {},
   "outputs": [],
   "source": [
    "# cleanup\n",
    "rm -rf /tmp/myrepos"
   ]
  },
  {
   "cell_type": "code",
   "execution_count": 4,
   "metadata": {},
   "outputs": [],
   "source": [
    "mkdir -p /tmp/myrepos/myrepo0\n",
    "cd /tmp/myrepos/myrepo0\n",
    "touch file0.txt"
   ]
  },
  {
   "cell_type": "code",
   "execution_count": 5,
   "metadata": {},
   "outputs": [],
   "source": [
    "hg init"
   ]
  },
  {
   "cell_type": "code",
   "execution_count": 6,
   "metadata": {},
   "outputs": [
    {
     "name": "stdout",
     "output_type": "stream",
     "text": [
      "\u001b[0;35;1;4m? \u001b[0m\u001b[0;35;1;4mfile0.txt\u001b[0m\n"
     ]
    }
   ],
   "source": [
    "hg status"
   ]
  },
  {
   "cell_type": "code",
   "execution_count": 7,
   "metadata": {},
   "outputs": [
    {
     "name": "stdout",
     "output_type": "stream",
     "text": [
      "\u001b[0;35;1;4m? \u001b[0m\u001b[0;35;1;4mfile0.txt\u001b[0m\n"
     ]
    }
   ],
   "source": [
    "# equivalent command (shorter)\n",
    "hg st"
   ]
  },
  {
   "cell_type": "code",
   "execution_count": 8,
   "metadata": {},
   "outputs": [
    {
     "name": "stdout",
     "output_type": "stream",
     "text": [
      "\u001b[0;32madding file0.txt\u001b[0m\n"
     ]
    }
   ],
   "source": [
    "hg add"
   ]
  },
  {
   "cell_type": "code",
   "execution_count": 9,
   "metadata": {},
   "outputs": [
    {
     "name": "stdout",
     "output_type": "stream",
     "text": [
      "\u001b[0;32;1mA \u001b[0m\u001b[0;32;1mfile0.txt\u001b[0m\n"
     ]
    }
   ],
   "source": [
    "hg st"
   ]
  },
  {
   "cell_type": "code",
   "execution_count": 10,
   "metadata": {},
   "outputs": [],
   "source": [
    "hg commit -m \"First commit\""
   ]
  },
  {
   "cell_type": "code",
   "execution_count": 11,
   "metadata": {},
   "outputs": [],
   "source": [
    "hg st"
   ]
  },
  {
   "cell_type": "code",
   "execution_count": 12,
   "metadata": {},
   "outputs": [],
   "source": [
    "touch file1.txt"
   ]
  },
  {
   "cell_type": "code",
   "execution_count": 13,
   "metadata": {},
   "outputs": [
    {
     "name": "stdout",
     "output_type": "stream",
     "text": [
      "\u001b[0;35;1;4m? \u001b[0m\u001b[0;35;1;4mfile1.txt\u001b[0m\n"
     ]
    }
   ],
   "source": [
    "hg st"
   ]
  },
  {
   "cell_type": "code",
   "execution_count": 14,
   "metadata": {},
   "outputs": [],
   "source": [
    "rm -f file0.txt"
   ]
  },
  {
   "cell_type": "code",
   "execution_count": 15,
   "metadata": {},
   "outputs": [
    {
     "name": "stdout",
     "output_type": "stream",
     "text": [
      "\u001b[0;36;1;4m! \u001b[0m\u001b[0;36;1;4mfile0.txt\u001b[0m\n",
      "\u001b[0;35;1;4m? \u001b[0m\u001b[0;35;1;4mfile1.txt\u001b[0m\n"
     ]
    }
   ],
   "source": [
    "hg st"
   ]
  },
  {
   "cell_type": "code",
   "execution_count": 16,
   "metadata": {},
   "outputs": [
    {
     "name": "stdout",
     "output_type": "stream",
     "text": [
      "\u001b[0;31mremoving file0.txt\u001b[0m\n",
      "\u001b[0;32madding file1.txt\u001b[0m\n"
     ]
    }
   ],
   "source": [
    "hg addremove\n",
    "# or \n",
    "# hg addre"
   ]
  },
  {
   "cell_type": "code",
   "execution_count": 17,
   "metadata": {},
   "outputs": [
    {
     "name": "stdout",
     "output_type": "stream",
     "text": [
      "\u001b[0;32;1mA \u001b[0m\u001b[0;32;1mfile1.txt\u001b[0m\n",
      "\u001b[0;31;1mR \u001b[0m\u001b[0;31;1mfile0.txt\u001b[0m\n"
     ]
    }
   ],
   "source": [
    "hg st"
   ]
  },
  {
   "cell_type": "code",
   "execution_count": 18,
   "metadata": {},
   "outputs": [],
   "source": [
    "hg commit -m \"Remove file0 and add file1\""
   ]
  },
  {
   "cell_type": "code",
   "execution_count": 19,
   "metadata": {},
   "outputs": [],
   "source": [
    "hg st"
   ]
  },
  {
   "cell_type": "code",
   "execution_count": 20,
   "metadata": {},
   "outputs": [
    {
     "name": "stdout",
     "output_type": "stream",
     "text": [
      "file1.txt\n"
     ]
    }
   ],
   "source": [
    "ls"
   ]
  },
  {
   "cell_type": "code",
   "execution_count": 21,
   "metadata": {},
   "outputs": [
    {
     "name": "stdout",
     "output_type": "stream",
     "text": [
      "\u001b[0;33mparent: 1:4c7dfaebb15e \u001b[0mtip\n",
      " Remove file0 and add file1\n",
      "branch: default\n",
      "commit: (clean)\n",
      "update: (current)\n",
      "phases: 2 draft\n"
     ]
    }
   ],
   "source": [
    "hg sum"
   ]
  },
  {
   "cell_type": "markdown",
   "metadata": {},
   "source": [
    "Mercurial tells us that we are in the branch \"default\", which is... the default \"named branch\". Note that Mercurial \"named branches\" are used only for long term features or versions of software (for example \"pypy2.7\" and \"pypy3.6\" in Pypy repository) and not for feature branches like branches in Git. For this tutorial, we won't use other named branches and we'll always work in the default branch."
   ]
  },
  {
   "cell_type": "code",
   "execution_count": 22,
   "metadata": {},
   "outputs": [
    {
     "name": "stdout",
     "output_type": "stream",
     "text": [
      "\u001b[0;33mchangeset:   1:4c7dfaebb15e\u001b[0m\n",
      "tag:         tip\n",
      "user:        paugier <pierre.augier@univ-grenoble-alpes.fr>\n",
      "date:        Thu May 23 14:28:56 2019 +0200\n",
      "summary:     Remove file0 and add file1\n",
      "\n",
      "\u001b[0;33mchangeset:   0:8879044fa44a\u001b[0m\n",
      "user:        paugier <pierre.augier@univ-grenoble-alpes.fr>\n",
      "date:        Thu May 23 14:28:54 2019 +0200\n",
      "summary:     First commit\n",
      "\n"
     ]
    }
   ],
   "source": [
    "hg log"
   ]
  },
  {
   "cell_type": "code",
   "execution_count": 23,
   "metadata": {},
   "outputs": [
    {
     "name": "stdout",
     "output_type": "stream",
     "text": [
      "@  \u001b[0;33mchangeset:   1:4c7dfaebb15e\u001b[0m\n",
      "|  tag:         tip\n",
      "|  user:        paugier <pierre.augier@univ-grenoble-alpes.fr>\n",
      "|  date:        Thu May 23 14:28:56 2019 +0200\n",
      "|  summary:     Remove file0 and add file1\n",
      "|\n",
      "o  \u001b[0;33mchangeset:   0:8879044fa44a\u001b[0m\n",
      "   user:        paugier <pierre.augier@univ-grenoble-alpes.fr>\n",
      "   date:        Thu May 23 14:28:54 2019 +0200\n",
      "   summary:     First commit\n",
      "\n"
     ]
    }
   ],
   "source": [
    "hg log --graph"
   ]
  },
  {
   "cell_type": "code",
   "execution_count": 24,
   "metadata": {},
   "outputs": [
    {
     "name": "stdout",
     "output_type": "stream",
     "text": [
      "@  \u001b[0;33mchangeset:   1:4c7dfaebb15e\u001b[0m\n",
      "|  tag:         tip\n",
      "|  user:        paugier <pierre.augier@univ-grenoble-alpes.fr>\n",
      "|  date:        Thu May 23 14:28:56 2019 +0200\n",
      "|  summary:     Remove file0 and add file1\n",
      "|\n",
      "o  \u001b[0;33mchangeset:   0:8879044fa44a\u001b[0m\n",
      "   user:        paugier <pierre.augier@univ-grenoble-alpes.fr>\n",
      "   date:        Thu May 23 14:28:54 2019 +0200\n",
      "   summary:     First commit\n",
      "\n"
     ]
    }
   ],
   "source": [
    "hg log -G"
   ]
  },
  {
   "cell_type": "markdown",
   "metadata": {
    "slideshow": {
     "slide_type": "slide"
    }
   },
   "source": [
    "## Level 1.0: command `revert`"
   ]
  },
  {
   "cell_type": "code",
   "execution_count": 25,
   "metadata": {},
   "outputs": [
    {
     "name": "stdout",
     "output_type": "stream",
     "text": [
      "file1.txt\n"
     ]
    }
   ],
   "source": [
    "echo file1.txt"
   ]
  },
  {
   "cell_type": "code",
   "execution_count": 26,
   "metadata": {},
   "outputs": [],
   "source": [
    "echo \"Something wrong\" > file1.txt"
   ]
  },
  {
   "cell_type": "code",
   "execution_count": 27,
   "metadata": {},
   "outputs": [
    {
     "name": "stdout",
     "output_type": "stream",
     "text": [
      "\u001b[0;34;1mM \u001b[0m\u001b[0;34;1mfile1.txt\u001b[0m\n"
     ]
    }
   ],
   "source": [
    "hg st"
   ]
  },
  {
   "cell_type": "code",
   "execution_count": 28,
   "metadata": {},
   "outputs": [],
   "source": [
    "hg revert file1.txt\n",
    "# or to revert all files:\n",
    "# hg revert --all"
   ]
  },
  {
   "cell_type": "code",
   "execution_count": 29,
   "metadata": {},
   "outputs": [
    {
     "name": "stdout",
     "output_type": "stream",
     "text": [
      "file1.txt  file1.txt.orig\n"
     ]
    }
   ],
   "source": [
    "ls"
   ]
  },
  {
   "cell_type": "code",
   "execution_count": 30,
   "metadata": {},
   "outputs": [
    {
     "name": "stdout",
     "output_type": "stream",
     "text": [
      "\u001b[0;35;1;4m? \u001b[0m\u001b[0;35;1;4mfile1.txt.orig\u001b[0m\n"
     ]
    }
   ],
   "source": [
    "hg st"
   ]
  },
  {
   "cell_type": "code",
   "execution_count": 31,
   "metadata": {},
   "outputs": [],
   "source": [
    "rm -f file1.txt.orig"
   ]
  },
  {
   "cell_type": "markdown",
   "metadata": {
    "slideshow": {
     "slide_type": "slide"
    }
   },
   "source": [
    "## Level 1.1: command `update`"
   ]
  },
  {
   "cell_type": "code",
   "execution_count": 32,
   "metadata": {},
   "outputs": [
    {
     "name": "stdout",
     "output_type": "stream",
     "text": [
      "1 files updated, 0 files merged, 1 files removed, 0 files unresolved\n"
     ]
    }
   ],
   "source": [
    "hg update 0\n",
    "# `update` or just `up`"
   ]
  },
  {
   "cell_type": "code",
   "execution_count": 33,
   "metadata": {},
   "outputs": [
    {
     "name": "stdout",
     "output_type": "stream",
     "text": [
      "\u001b[0;33mparent: 0:8879044fa44a \u001b[0m\n",
      " First commit\n",
      "branch: default\n",
      "commit: (clean)\n",
      "update: 1 new changesets (update)\n",
      "phases: 2 draft\n"
     ]
    }
   ],
   "source": [
    "hg sum"
   ]
  },
  {
   "cell_type": "code",
   "execution_count": 34,
   "metadata": {},
   "outputs": [
    {
     "name": "stdout",
     "output_type": "stream",
     "text": [
      "file0.txt\n"
     ]
    }
   ],
   "source": [
    "ls"
   ]
  },
  {
   "cell_type": "code",
   "execution_count": 35,
   "metadata": {},
   "outputs": [
    {
     "name": "stdout",
     "output_type": "stream",
     "text": [
      "1 files updated, 0 files merged, 1 files removed, 0 files unresolved\n"
     ]
    }
   ],
   "source": [
    "hg up"
   ]
  },
  {
   "cell_type": "code",
   "execution_count": 36,
   "metadata": {},
   "outputs": [
    {
     "name": "stdout",
     "output_type": "stream",
     "text": [
      "\u001b[0;33mparent: 1:4c7dfaebb15e \u001b[0mtip\n",
      " Remove file0 and add file1\n",
      "branch: default\n",
      "commit: (clean)\n",
      "update: (current)\n",
      "phases: 2 draft\n"
     ]
    }
   ],
   "source": [
    "hg sum"
   ]
  },
  {
   "cell_type": "code",
   "execution_count": 37,
   "metadata": {},
   "outputs": [
    {
     "name": "stdout",
     "output_type": "stream",
     "text": [
      "file1.txt\n"
     ]
    }
   ],
   "source": [
    "ls"
   ]
  },
  {
   "cell_type": "code",
   "execution_count": 38,
   "metadata": {},
   "outputs": [],
   "source": [
    "touch file2.txt"
   ]
  },
  {
   "cell_type": "code",
   "execution_count": 39,
   "metadata": {},
   "outputs": [
    {
     "name": "stdout",
     "output_type": "stream",
     "text": [
      "\u001b[0;35;1;4m? \u001b[0m\u001b[0;35;1;4mfile2.txt\u001b[0m\n"
     ]
    }
   ],
   "source": [
    "hg st"
   ]
  },
  {
   "cell_type": "code",
   "execution_count": 40,
   "metadata": {},
   "outputs": [
    {
     "name": "stdout",
     "output_type": "stream",
     "text": [
      "\u001b[0;32madding file2.txt\u001b[0m\n"
     ]
    }
   ],
   "source": [
    "hg add"
   ]
  },
  {
   "cell_type": "code",
   "execution_count": 41,
   "metadata": {},
   "outputs": [],
   "source": [
    "hg commit -m \"Add file 2\""
   ]
  },
  {
   "cell_type": "code",
   "execution_count": 42,
   "metadata": {},
   "outputs": [
    {
     "name": "stdout",
     "output_type": "stream",
     "text": [
      "@  \u001b[0;33mchangeset:   2:c67605445601\u001b[0m\n",
      "|  tag:         tip\n",
      "|  user:        paugier <pierre.augier@univ-grenoble-alpes.fr>\n",
      "|  date:        Thu May 23 14:29:01 2019 +0200\n",
      "|  summary:     Add file 2\n",
      "|\n",
      "o  \u001b[0;33mchangeset:   1:4c7dfaebb15e\u001b[0m\n",
      "|  user:        paugier <pierre.augier@univ-grenoble-alpes.fr>\n",
      "|  date:        Thu May 23 14:28:56 2019 +0200\n",
      "|  summary:     Remove file0 and add file1\n",
      "|\n",
      "o  \u001b[0;33mchangeset:   0:8879044fa44a\u001b[0m\n",
      "   user:        paugier <pierre.augier@univ-grenoble-alpes.fr>\n",
      "   date:        Thu May 23 14:28:54 2019 +0200\n",
      "   summary:     First commit\n",
      "\n"
     ]
    }
   ],
   "source": [
    "hg log -G"
   ]
  },
  {
   "cell_type": "markdown",
   "metadata": {
    "slideshow": {
     "slide_type": "slide"
    }
   },
   "source": [
    "## Level 2: commands `clone`, `push`, `pull`  "
   ]
  },
  {
   "cell_type": "code",
   "execution_count": 43,
   "metadata": {},
   "outputs": [
    {
     "name": "stdout",
     "output_type": "stream",
     "text": [
      "/tmp/myrepos\n"
     ]
    }
   ],
   "source": [
    "cd ..\n",
    "pwd"
   ]
  },
  {
   "cell_type": "code",
   "execution_count": 44,
   "metadata": {},
   "outputs": [
    {
     "name": "stdout",
     "output_type": "stream",
     "text": [
      "updating to branch default\n",
      "2 files updated, 0 files merged, 0 files removed, 0 files unresolved\n"
     ]
    }
   ],
   "source": [
    "hg clone myrepo0 myrepo_web"
   ]
  },
  {
   "cell_type": "code",
   "execution_count": 45,
   "metadata": {},
   "outputs": [],
   "source": [
    "cd myrepo0"
   ]
  },
  {
   "cell_type": "code",
   "execution_count": 46,
   "metadata": {},
   "outputs": [
    {
     "name": "stdout",
     "output_type": "stream",
     "text": [
      "file1.txt  file2.txt\n"
     ]
    }
   ],
   "source": [
    "ls"
   ]
  },
  {
   "cell_type": "code",
   "execution_count": 47,
   "metadata": {},
   "outputs": [
    {
     "name": "stdout",
     "output_type": "stream",
     "text": [
      "\u001b[0;34;1mM \u001b[0m\u001b[0;34;1mfile2.txt\u001b[0m\n"
     ]
    }
   ],
   "source": [
    "echo \"Hello\" > file2.txt\n",
    "hg st"
   ]
  },
  {
   "cell_type": "code",
   "execution_count": 48,
   "metadata": {},
   "outputs": [],
   "source": [
    "hg commit -m \"Improve file2\""
   ]
  },
  {
   "cell_type": "code",
   "execution_count": 49,
   "metadata": {},
   "outputs": [
    {
     "name": "stdout",
     "output_type": "stream",
     "text": [
      "@  \u001b[0;33mchangeset:   3:8839d935ce7e\u001b[0m\n",
      "|  tag:         tip\n",
      "|  user:        paugier <pierre.augier@univ-grenoble-alpes.fr>\n",
      "|  date:        Thu May 23 14:29:03 2019 +0200\n",
      "|  summary:     Improve file2\n",
      "|\n",
      "o  \u001b[0;33mchangeset:   2:c67605445601\u001b[0m\n",
      "|  user:        paugier <pierre.augier@univ-grenoble-alpes.fr>\n",
      "|  date:        Thu May 23 14:29:01 2019 +0200\n",
      "|  summary:     Add file 2\n",
      "|\n",
      "o  \u001b[0;33mchangeset:   1:4c7dfaebb15e\u001b[0m\n",
      "|  user:        paugier <pierre.augier@univ-grenoble-alpes.fr>\n",
      "|  date:        Thu May 23 14:28:56 2019 +0200\n",
      "|  summary:     Remove file0 and add file1\n",
      "|\n",
      "o  \u001b[0;33mchangeset:   0:8879044fa44a\u001b[0m\n",
      "   user:        paugier <pierre.augier@univ-grenoble-alpes.fr>\n",
      "   date:        Thu May 23 14:28:54 2019 +0200\n",
      "   summary:     First commit\n",
      "\n"
     ]
    }
   ],
   "source": [
    "hg log -G"
   ]
  },
  {
   "cell_type": "code",
   "execution_count": 50,
   "metadata": {},
   "outputs": [
    {
     "name": "stdout",
     "output_type": "stream",
     "text": [
      "pushing to /tmp/myrepos/myrepo_web\n",
      "searching for changes\n",
      "adding changesets\n",
      "adding manifests\n",
      "adding file changes\n",
      "added 1 changesets with 1 changes to 1 files\n"
     ]
    }
   ],
   "source": [
    "hg push /tmp/myrepos/myrepo_web"
   ]
  },
  {
   "cell_type": "markdown",
   "metadata": {},
   "source": [
    "At this point, we have 2 repositories."
   ]
  },
  {
   "cell_type": "code",
   "execution_count": 51,
   "metadata": {},
   "outputs": [
    {
     "name": "stdout",
     "output_type": "stream",
     "text": [
      "/tmp/myrepos\n",
      "\u001b[0m\u001b[01;34mmyrepo0\u001b[0m  \u001b[01;34mmyrepo_web\u001b[0m\n"
     ]
    }
   ],
   "source": [
    "cd /tmp/myrepos\n",
    "pwd\n",
    "ls"
   ]
  },
  {
   "cell_type": "markdown",
   "metadata": {},
   "source": [
    "Let's create a new repository from the repo on the web. (Usually, it is done in another computer.)"
   ]
  },
  {
   "cell_type": "code",
   "execution_count": 52,
   "metadata": {},
   "outputs": [
    {
     "name": "stdout",
     "output_type": "stream",
     "text": [
      "updating to branch default\n",
      "2 files updated, 0 files merged, 0 files removed, 0 files unresolved\n"
     ]
    }
   ],
   "source": [
    "hg clone myrepo_web myrepo_other_computer"
   ]
  },
  {
   "cell_type": "code",
   "execution_count": 53,
   "metadata": {},
   "outputs": [
    {
     "name": "stdout",
     "output_type": "stream",
     "text": [
      "file1.txt  file2.txt\n"
     ]
    }
   ],
   "source": [
    "cd myrepo_other_computer\n",
    "ls"
   ]
  },
  {
   "cell_type": "code",
   "execution_count": 54,
   "metadata": {},
   "outputs": [
    {
     "name": "stdout",
     "output_type": "stream",
     "text": [
      "Hello\n"
     ]
    }
   ],
   "source": [
    "cat file2.txt"
   ]
  },
  {
   "cell_type": "code",
   "execution_count": 55,
   "metadata": {},
   "outputs": [],
   "source": [
    "echo \"Hello Word!\" > file2.txt"
   ]
  },
  {
   "cell_type": "code",
   "execution_count": 56,
   "metadata": {},
   "outputs": [
    {
     "name": "stdout",
     "output_type": "stream",
     "text": [
      "\u001b[0;34;1mM \u001b[0m\u001b[0;34;1mfile2.txt\u001b[0m\n"
     ]
    }
   ],
   "source": [
    "hg st"
   ]
  },
  {
   "cell_type": "code",
   "execution_count": 57,
   "metadata": {},
   "outputs": [],
   "source": [
    "hg commit -m '\"Hello Word!\" is even nicer'"
   ]
  },
  {
   "cell_type": "code",
   "execution_count": 58,
   "metadata": {},
   "outputs": [],
   "source": [
    "hg st"
   ]
  },
  {
   "cell_type": "markdown",
   "metadata": {},
   "source": [
    "We push the new changeset towards the default repository (from which this repository has been created), which is the \"web\" repository."
   ]
  },
  {
   "cell_type": "code",
   "execution_count": 59,
   "metadata": {},
   "outputs": [
    {
     "name": "stdout",
     "output_type": "stream",
     "text": [
      "pushing to /tmp/myrepos/myrepo_web\n",
      "searching for changes\n",
      "adding changesets\n",
      "adding manifests\n",
      "adding file changes\n",
      "added 1 changesets with 1 changes to 1 files\n"
     ]
    }
   ],
   "source": [
    "hg push"
   ]
  },
  {
   "cell_type": "markdown",
   "metadata": {},
   "source": [
    "Let's come back to the original repository in the first computer."
   ]
  },
  {
   "cell_type": "code",
   "execution_count": 60,
   "metadata": {},
   "outputs": [],
   "source": [
    "cd ../myrepo0"
   ]
  },
  {
   "cell_type": "code",
   "execution_count": 61,
   "metadata": {},
   "outputs": [
    {
     "name": "stdout",
     "output_type": "stream",
     "text": [
      "Hello\n"
     ]
    }
   ],
   "source": [
    "cat file2.txt"
   ]
  },
  {
   "cell_type": "code",
   "execution_count": 62,
   "metadata": {},
   "outputs": [
    {
     "name": "stdout",
     "output_type": "stream",
     "text": [
      "\u001b[0;33mparent: 3:8839d935ce7e \u001b[0mtip\n",
      " Improve file2\n",
      "branch: default\n",
      "commit: (clean)\n",
      "update: (current)\n"
     ]
    }
   ],
   "source": [
    "hg sum"
   ]
  },
  {
   "cell_type": "code",
   "execution_count": 63,
   "metadata": {},
   "outputs": [
    {
     "name": "stdout",
     "output_type": "stream",
     "text": [
      "pulling from /tmp/myrepos/myrepo_web\n",
      "searching for changes\n",
      "adding changesets\n",
      "adding manifests\n",
      "adding file changes\n",
      "added 1 changesets with 1 changes to 1 files\n",
      "new changesets 7731298d515d\n",
      "(run 'hg update' to get a working copy)\n"
     ]
    }
   ],
   "source": [
    "hg pull /tmp/myrepos/myrepo_web"
   ]
  },
  {
   "cell_type": "code",
   "execution_count": 64,
   "metadata": {},
   "outputs": [
    {
     "name": "stdout",
     "output_type": "stream",
     "text": [
      "1 files updated, 0 files merged, 0 files removed, 0 files unresolved\n"
     ]
    }
   ],
   "source": [
    "hg up"
   ]
  },
  {
   "cell_type": "markdown",
   "metadata": {},
   "source": [
    "We could have just run `hg pull -u` to pull and update to the tip of the branch where we are, i.e. the last commit since the repository is now in a linear state."
   ]
  },
  {
   "cell_type": "code",
   "execution_count": 65,
   "metadata": {},
   "outputs": [
    {
     "name": "stdout",
     "output_type": "stream",
     "text": [
      "\u001b[0;33mparent: 4:7731298d515d \u001b[0mtip\n",
      " \"Hello Word!\" is even nicer\n",
      "branch: default\n",
      "commit: (clean)\n",
      "update: (current)\n"
     ]
    }
   ],
   "source": [
    "hg sum"
   ]
  },
  {
   "cell_type": "code",
   "execution_count": 66,
   "metadata": {},
   "outputs": [
    {
     "name": "stdout",
     "output_type": "stream",
     "text": [
      "Hello Word!\n"
     ]
    }
   ],
   "source": [
    "cat file2.txt"
   ]
  },
  {
   "cell_type": "markdown",
   "metadata": {
    "slideshow": {
     "slide_type": "slide"
    }
   },
   "source": [
    "## Level 3: nonlinear history, unnamed branches and `merge` command  "
   ]
  },
  {
   "cell_type": "markdown",
   "metadata": {},
   "source": [
    "We can now consider the case in which 2 persons (Alice and Bob) work at the same time on the same project. First they both clone the web repository."
   ]
  },
  {
   "cell_type": "code",
   "execution_count": 67,
   "metadata": {},
   "outputs": [
    {
     "name": "stdout",
     "output_type": "stream",
     "text": [
      "updating to branch default\n",
      "2 files updated, 0 files merged, 0 files removed, 0 files unresolved\n"
     ]
    }
   ],
   "source": [
    "# Alice\n",
    "cd /tmp/myrepos/\n",
    "hg clone myrepo_web myrepo_Alice"
   ]
  },
  {
   "cell_type": "code",
   "execution_count": 68,
   "metadata": {},
   "outputs": [
    {
     "name": "stdout",
     "output_type": "stream",
     "text": [
      "updating to branch default\n",
      "2 files updated, 0 files merged, 0 files removed, 0 files unresolved\n"
     ]
    }
   ],
   "source": [
    "# Bob\n",
    "hg clone myrepo_web myrepo_Bob"
   ]
  },
  {
   "cell_type": "markdown",
   "metadata": {},
   "source": [
    "Just for this notebook, we can tell Mercurial who is the owner of Alice's and Bob's repositories. "
   ]
  },
  {
   "cell_type": "code",
   "execution_count": 69,
   "metadata": {},
   "outputs": [],
   "source": [
    "# not useful in real life!\n",
    "echo \"username = Alice <alice@mail.wonderland>\" >> /tmp/myrepos/myrepo_Alice/.hg/hgrc\n",
    "echo \"username = Bob <bob@mail.wonderland>\" >> /tmp/myrepos/myrepo_Bob/.hg/hgrc"
   ]
  },
  {
   "cell_type": "code",
   "execution_count": 70,
   "metadata": {},
   "outputs": [
    {
     "name": "stdout",
     "output_type": "stream",
     "text": [
      "\u001b[0;32madding Alice_file.py\u001b[0m\n",
      "pushing to /tmp/myrepos/myrepo_web\n",
      "searching for changes\n",
      "adding changesets\n",
      "adding manifests\n",
      "adding file changes\n",
      "added 1 changesets with 1 changes to 1 files\n"
     ]
    }
   ],
   "source": [
    "# Alice works\n",
    "cd /tmp/myrepos/myrepo_Alice\n",
    "touch Alice_file.py\n",
    "hg add\n",
    "hg commit -m \"Alice adds a file\"\n",
    "hg push"
   ]
  },
  {
   "cell_type": "code",
   "execution_count": 71,
   "metadata": {
    "tags": [
     "raises-exception"
    ]
   },
   "outputs": [
    {
     "name": "stdout",
     "output_type": "stream",
     "text": [
      "\u001b[0;32madding Bob_file.py\u001b[0m\n"
     ]
    }
   ],
   "source": [
    "# Bob works\n",
    "cd /tmp/myrepos/myrepo_Bob\n",
    "touch Bob_file.py\n",
    "hg add\n",
    "hg commit -m \"Bob adds a file\""
   ]
  },
  {
   "cell_type": "markdown",
   "metadata": {},
   "source": [
    "At this point, `hg push` would lead to the following error:\n",
    "\n",
    "```\n",
    "pushing to /tmp/myrepos/myrepo_web\n",
    "searching for changes\n",
    "remote has heads on branch 'default' that are not known locally: 69b3f39e70ab\n",
    "abort: push creates new remote head 938fc2084593!\n",
    "(pull and merge or see 'hg help push' for details about pushing new heads)\n",
    "```"
   ]
  },
  {
   "cell_type": "markdown",
   "metadata": {},
   "source": [
    "Bob encounters a problem... The remote repository has a commit which is not know locally. Let's first pull this commit."
   ]
  },
  {
   "cell_type": "code",
   "execution_count": 72,
   "metadata": {},
   "outputs": [
    {
     "name": "stdout",
     "output_type": "stream",
     "text": [
      "pulling from /tmp/myrepos/myrepo_web\n",
      "searching for changes\n",
      "adding changesets\n",
      "adding manifests\n",
      "adding file changes\n",
      "added 1 changesets with 1 changes to 1 files (+1 heads)\n",
      "new changesets babf3d5a206f\n",
      "(run 'hg heads' to see heads, 'hg merge' to merge)\n"
     ]
    }
   ],
   "source": [
    "hg pull"
   ]
  },
  {
   "cell_type": "markdown",
   "metadata": {},
   "source": [
    "Now we can examine the situation."
   ]
  },
  {
   "cell_type": "code",
   "execution_count": 73,
   "metadata": {},
   "outputs": [
    {
     "name": "stdout",
     "output_type": "stream",
     "text": [
      "\u001b[0;33mchangeset:   6:babf3d5a206f\u001b[0m\n",
      "tag:         tip\n",
      "parent:      4:7731298d515d\n",
      "user:        Alice <alice@mail.wonderland>\n",
      "date:        Thu May 23 14:29:09 2019 +0200\n",
      "summary:     Alice adds a file\n",
      "\n",
      "\u001b[0;33mchangeset:   5:77110f8956cb\u001b[0m\n",
      "user:        Bob <bob@mail.wonderland>\n",
      "date:        Thu May 23 14:29:10 2019 +0200\n",
      "summary:     Bob adds a file\n",
      "\n"
     ]
    }
   ],
   "source": [
    "hg heads"
   ]
  },
  {
   "cell_type": "code",
   "execution_count": 74,
   "metadata": {},
   "outputs": [
    {
     "name": "stdout",
     "output_type": "stream",
     "text": [
      "o  \u001b[0;33mchangeset:   6:babf3d5a206f\u001b[0m\n",
      "|  tag:         tip\n",
      "|  parent:      4:7731298d515d\n",
      "|  user:        Alice <alice@mail.wonderland>\n",
      "|  date:        Thu May 23 14:29:09 2019 +0200\n",
      "|  summary:     Alice adds a file\n",
      "|\n",
      "| @  \u001b[0;33mchangeset:   5:77110f8956cb\u001b[0m\n",
      "|/   user:        Bob <bob@mail.wonderland>\n",
      "|    date:        Thu May 23 14:29:10 2019 +0200\n",
      "|    summary:     Bob adds a file\n",
      "|\n",
      "o  \u001b[0;33mchangeset:   4:7731298d515d\u001b[0m\n",
      "|  user:        paugier <pierre.augier@univ-grenoble-alpes.fr>\n",
      "|  date:        Thu May 23 14:29:05 2019 +0200\n",
      "|  summary:     \"Hello Word!\" is even nicer\n",
      "|\n",
      "o  \u001b[0;33mchangeset:   3:8839d935ce7e\u001b[0m\n",
      "|  user:        paugier <pierre.augier@univ-grenoble-alpes.fr>\n",
      "~  date:        Thu May 23 14:29:03 2019 +0200\n",
      "   summary:     Improve file2\n",
      "\n"
     ]
    }
   ],
   "source": [
    "hg log -G -l 4"
   ]
  },
  {
   "cell_type": "markdown",
   "metadata": {},
   "source": [
    "We have 2 \"unnamed branches\" (in the \"named branch\" default), i.e. 2 different commits with the same parent (changeset 4).\n",
    "\n",
    "A simple way to avoid this situation is to pull just before a commit and to make sure to commit from the last commit in the shared repository.\n",
    "\n",
    "There are different ways to solve this problem. The nicest would be to move changeset 5 above changeset 6 (actually change the parent of changeset 5 to changeset 6). It's very simple to do with the command `hg rebase -s 5 -d 6` (`-s` and `-d` mean source and destination, respectively). It is nice since it leads to a linear state but it is a little bit too complicated (history rewriting).\n",
    "\n",
    "In the error log, Mercurial tells us about the simple way to solve the situation: pull and merge. Let's try that."
   ]
  },
  {
   "cell_type": "code",
   "execution_count": 75,
   "metadata": {},
   "outputs": [
    {
     "name": "stdout",
     "output_type": "stream",
     "text": [
      "1 files updated, 0 files merged, 0 files removed, 0 files unresolved\n",
      "(branch merge, don't forget to commit)\n"
     ]
    }
   ],
   "source": [
    "hg merge"
   ]
  },
  {
   "cell_type": "code",
   "execution_count": 76,
   "metadata": {},
   "outputs": [
    {
     "name": "stdout",
     "output_type": "stream",
     "text": [
      "\u001b[0;33mparent: 5:77110f8956cb \u001b[0m\n",
      " Bob adds a file\n",
      "\u001b[0;33mparent: 6:babf3d5a206f \u001b[0mtip\n",
      " Alice adds a file\n",
      "branch: default\n",
      "commit: \u001b[0;34;1m1 modified\u001b[0m (merge)\n",
      "update: (current)\n",
      "phases: 1 draft\n"
     ]
    }
   ],
   "source": [
    "hg sum"
   ]
  },
  {
   "cell_type": "code",
   "execution_count": 77,
   "metadata": {},
   "outputs": [
    {
     "name": "stdout",
     "output_type": "stream",
     "text": [
      "\u001b[0;34;1mM \u001b[0m\u001b[0;34;1mAlice_file.py\u001b[0m\n",
      "# The repository is in an unfinished *merge* state.\n",
      "\n",
      "# To continue:    hg commit\n",
      "# To abort:       hg merge --abort\n",
      "\n"
     ]
    }
   ],
   "source": [
    "hg st"
   ]
  },
  {
   "cell_type": "code",
   "execution_count": 78,
   "metadata": {},
   "outputs": [
    {
     "name": "stdout",
     "output_type": "stream",
     "text": [
      "Alice_file.py  Bob_file.py  file1.txt  file2.txt\n"
     ]
    }
   ],
   "source": [
    "ls"
   ]
  },
  {
   "cell_type": "code",
   "execution_count": 79,
   "metadata": {},
   "outputs": [],
   "source": [
    "hg commit -m \"Merge Alice and Bob commits\""
   ]
  },
  {
   "cell_type": "code",
   "execution_count": 80,
   "metadata": {},
   "outputs": [
    {
     "name": "stdout",
     "output_type": "stream",
     "text": [
      "@    \u001b[0;33mchangeset:   7:08314eada178\u001b[0m\n",
      "|\\   tag:         tip\n",
      "| |  parent:      5:77110f8956cb\n",
      "| |  parent:      6:babf3d5a206f\n",
      "| |  user:        Bob <bob@mail.wonderland>\n",
      "| |  date:        Thu May 23 14:29:12 2019 +0200\n",
      "| |  summary:     Merge Alice and Bob commits\n",
      "| |\n",
      "| o  \u001b[0;33mchangeset:   6:babf3d5a206f\u001b[0m\n",
      "| |  parent:      4:7731298d515d\n",
      "| |  user:        Alice <alice@mail.wonderland>\n",
      "| |  date:        Thu May 23 14:29:09 2019 +0200\n",
      "| |  summary:     Alice adds a file\n",
      "| |\n",
      "o |  \u001b[0;33mchangeset:   5:77110f8956cb\u001b[0m\n",
      "|/   user:        Bob <bob@mail.wonderland>\n",
      "|    date:        Thu May 23 14:29:10 2019 +0200\n",
      "|    summary:     Bob adds a file\n",
      "|\n",
      "o  \u001b[0;33mchangeset:   4:7731298d515d\u001b[0m\n",
      "|  user:        paugier <pierre.augier@univ-grenoble-alpes.fr>\n",
      "~  date:        Thu May 23 14:29:05 2019 +0200\n",
      "   summary:     \"Hello Word!\" is even nicer\n",
      "\n"
     ]
    }
   ],
   "source": [
    "hg log -G -l 4"
   ]
  },
  {
   "cell_type": "markdown",
   "metadata": {},
   "source": [
    "Note that the history is no longer linear. However, the repository is now in a good state so we should be able to push in the remote repository."
   ]
  },
  {
   "cell_type": "code",
   "execution_count": 81,
   "metadata": {},
   "outputs": [
    {
     "name": "stdout",
     "output_type": "stream",
     "text": [
      "pushing to /tmp/myrepos/myrepo_web\n",
      "searching for changes\n",
      "adding changesets\n",
      "adding manifests\n",
      "adding file changes\n",
      "added 2 changesets with 1 changes to 1 files\n"
     ]
    }
   ],
   "source": [
    "hg push"
   ]
  },
  {
   "cell_type": "markdown",
   "metadata": {},
   "source": [
    "And Alice can get Bob's file."
   ]
  },
  {
   "cell_type": "code",
   "execution_count": 82,
   "metadata": {},
   "outputs": [
    {
     "name": "stdout",
     "output_type": "stream",
     "text": [
      "pulling from /tmp/myrepos/myrepo_web\n",
      "searching for changes\n",
      "adding changesets\n",
      "adding manifests\n",
      "adding file changes\n",
      "added 2 changesets with 1 changes to 1 files\n",
      "new changesets 77110f8956cb:08314eada178\n",
      "1 files updated, 0 files merged, 0 files removed, 0 files unresolved\n"
     ]
    }
   ],
   "source": [
    "# Alice works\n",
    "cd /tmp/myrepos/myrepo_Alice\n",
    "hg pull -u"
   ]
  },
  {
   "cell_type": "code",
   "execution_count": 83,
   "metadata": {},
   "outputs": [
    {
     "name": "stdout",
     "output_type": "stream",
     "text": [
      "\u001b[0;33mparent: 7:08314eada178 \u001b[0mtip\n",
      " Merge Alice and Bob commits\n",
      "branch: default\n",
      "commit: (clean)\n",
      "update: (current)\n"
     ]
    }
   ],
   "source": [
    "hg sum"
   ]
  },
  {
   "cell_type": "code",
   "execution_count": 84,
   "metadata": {},
   "outputs": [
    {
     "name": "stdout",
     "output_type": "stream",
     "text": [
      "Alice_file.py  Bob_file.py  file1.txt  file2.txt\n"
     ]
    }
   ],
   "source": [
    "ls"
   ]
  }
 ],
 "metadata": {
  "kernelspec": {
   "display_name": "Bash",
   "language": "bash",
   "name": "bash"
  },
  "language_info": {
   "codemirror_mode": "shell",
   "file_extension": ".sh",
   "mimetype": "text/x-sh",
   "name": "bash"
  }
 },
 "nbformat": 4,
 "nbformat_minor": 2
}
