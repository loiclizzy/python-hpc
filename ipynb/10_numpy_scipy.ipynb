{
 "cells": [
  {
   "cell_type": "markdown",
   "metadata": {
    "slideshow": {
     "slide_type": "slide"
    }
   },
   "source": [
    "# Python training UGA 2017\n",
    "\n",
    "**A training to acquire strong basis in Python to use it efficiently**\n",
    "\n",
    "Pierre Augier (LEGI), Cyrille Bonamy (LEGI), Eric Maldonado (Irstea), Franck Thollard (ISTerre), Oliver Henriot (GRICAD), Christophe Picard (LJK), Loïc Huder (ISTerre)\n",
    "\n",
    "# Python scientific ecosystem\n",
    "# A short introduction to Numpy, Scipy and Pandas"
   ]
  },
  {
   "cell_type": "markdown",
   "metadata": {
    "slideshow": {
     "slide_type": "slide"
    }
   },
   "source": [
    "## Python scientific ecosystem\n",
    "\n",
    "There are a lot of very good Python packages for sciences. The fundamental packages are in particular:\n",
    "- [numpy](http://www.numpy.org/): numerical computing with powerful numerical arrays objects, and routines to manipulate them.\n",
    "- [scipy](http://www.scipy.org/): high-level numerical routines. Optimization, regression, interpolation, etc.\n",
    "- [matplotlib](http://matplotlib.org/): 2D-3D visualization, “publication-ready” plots.\n",
    "\n",
    "With `IPython` and `Spyder`, Python plus these fundamental scientific packages constitutes a very good alternative to Matlab, that is technically very similar (using the libraries Blas and Lapack). Matlab has a JustInTime (JIT) compiler so that Matlab code is generally faster than Python. However, we will see that Numpy is already quite efficient for standard operations and other Python tools (for example `pypy`, `cython`, `numba`, `pythran`, `theano`...) can be used to optimize the code to reach the performance of optimized Matlab code.\n",
    "\n",
    "The advantage of Python over Matlab is its high polyvalency (and nicer syntax) and there are notably several other scientific Python packages (see our notebook `pres13_doc_applications.ipynb`):"
   ]
  },
  {
   "cell_type": "markdown",
   "metadata": {
    "slideshow": {
     "slide_type": "skip"
    }
   },
   "source": [
    "- [sympy](http://www.sympy.org) for symbolic computing,\n",
    "- [pandas](http://pandas.pydata.org/), [statsmodels](http://www.statsmodels.org), [seaborn](http://seaborn.pydata.org/) for statistics,\n",
    "- [h5py](http://www.h5py.org/), [h5netcdf](https://pypi.python.org/pypi/h5netcdf) for hdf5 and netcdf files,\n",
    "- [mpi4py](https://pypi.python.org/pypi/mpi4py) for MPI communications,\n",
    "- [opencv](https://pypi.python.org/pypi/opencv-python), [scikit-image](http://scikit-image.org/) for image processing,\n",
    "- [pyopencl](https://pypi.python.org/pypi/pyopencl), [pycuda](https://mathema.tician.de/software/pycuda/), [theano](http://deeplearning.net/software/theano/), [tensorflow](https://www.tensorflow.org/) for speed and GPU computing,\n",
    "- [scikit-learn](http://scikit-learn.org), [keras](https://keras.io/), [mxnet](http://mxnet.io/) for machine learning,\n",
    "- [bokeh](http://bokeh.pydata.org) for display data efficiently,\n",
    "- [mayavi](http://docs.enthought.com/mayavi/mayavi/) for 3D visualization,\n",
    "- [qtpy](https://pypi.python.org/pypi/QtPy), [kivy](https://kivy.org) for GUI frameworks\n",
    "- ..."
   ]
  },
  {
   "cell_type": "markdown",
   "metadata": {
    "slideshow": {
     "slide_type": "slide"
    }
   },
   "source": [
    "## A short introduction on NumPy\n",
    "\n",
    "Code using `numpy` usually starts with the import statement"
   ]
  },
  {
   "cell_type": "code",
   "execution_count": 1,
   "metadata": {},
   "outputs": [],
   "source": [
    "import numpy as np"
   ]
  },
  {
   "cell_type": "markdown",
   "metadata": {},
   "source": [
    "NumPy provides the type `np.ndarray`. Such array are multidimensionnal sequences of homogeneous elements. They can be created for example with the commands:"
   ]
  },
  {
   "cell_type": "code",
   "execution_count": 2,
   "metadata": {},
   "outputs": [
    {
     "data": {
      "text/plain": [
       "array([10. , 12.5, 15. , 17.5, 20. ])"
      ]
     },
     "execution_count": 2,
     "metadata": {},
     "output_type": "execute_result"
    }
   ],
   "source": [
    "# from a list\n",
    "l = [10.0, 12.5, 15.0, 17.5, 20.0]\n",
    "np.array(l)"
   ]
  },
  {
   "cell_type": "code",
   "execution_count": 3,
   "metadata": {},
   "outputs": [
    {
     "data": {
      "text/plain": [
       "array([1.27880790e-316, 0.00000000e+000, 6.91986808e-310, 1.57378525e-316])"
      ]
     },
     "execution_count": 3,
     "metadata": {},
     "output_type": "execute_result"
    }
   ],
   "source": [
    "# fast but the values can be anything\n",
    "np.empty(4)"
   ]
  },
  {
   "cell_type": "code",
   "execution_count": 4,
   "metadata": {
    "scrolled": true
   },
   "outputs": [
    {
     "data": {
      "text/plain": [
       "array([[0., 0., 0., 0., 0., 0.],\n",
       "       [0., 0., 0., 0., 0., 0.]])"
      ]
     },
     "execution_count": 4,
     "metadata": {},
     "output_type": "execute_result"
    }
   ],
   "source": [
    "# slower than np.empty but the values are all 0.\n",
    "np.zeros([2, 6])"
   ]
  },
  {
   "cell_type": "code",
   "execution_count": 5,
   "metadata": {},
   "outputs": [
    {
     "name": "stdout",
     "output_type": "stream",
     "text": [
      "(2, 3, 4) 24 float64\n"
     ]
    },
    {
     "data": {
      "text/plain": [
       "array([[[1., 1., 1., 1.],\n",
       "        [1., 1., 1., 1.],\n",
       "        [1., 1., 1., 1.]],\n",
       "\n",
       "       [[1., 1., 1., 1.],\n",
       "        [1., 1., 1., 1.],\n",
       "        [1., 1., 1., 1.]]])"
      ]
     },
     "execution_count": 5,
     "metadata": {},
     "output_type": "execute_result"
    }
   ],
   "source": [
    "# multidimensional array\n",
    "a = np.ones([2, 3, 4])\n",
    "print(a.shape, a.size, a.dtype)\n",
    "a"
   ]
  },
  {
   "cell_type": "code",
   "execution_count": 6,
   "metadata": {},
   "outputs": [
    {
     "data": {
      "text/plain": [
       "array([0, 1, 2, 3])"
      ]
     },
     "execution_count": 6,
     "metadata": {},
     "output_type": "execute_result"
    }
   ],
   "source": [
    "# like range but produce 1D numpy array\n",
    "np.arange(4)"
   ]
  },
  {
   "cell_type": "code",
   "execution_count": 7,
   "metadata": {},
   "outputs": [
    {
     "data": {
      "text/plain": [
       "array([0., 1., 2., 3.])"
      ]
     },
     "execution_count": 7,
     "metadata": {},
     "output_type": "execute_result"
    }
   ],
   "source": [
    "# np.arange can produce arrays of floats\n",
    "np.arange(4.)"
   ]
  },
  {
   "cell_type": "code",
   "execution_count": 8,
   "metadata": {},
   "outputs": [
    {
     "data": {
      "text/plain": [
       "array([10. , 12.5, 15. , 17.5, 20. ])"
      ]
     },
     "execution_count": 8,
     "metadata": {},
     "output_type": "execute_result"
    }
   ],
   "source": [
    "# another convenient function to generate 1D arrays\n",
    "np.linspace(10, 20, 5)"
   ]
  },
  {
   "cell_type": "markdown",
   "metadata": {},
   "source": [
    "A NumPy array can be easily converted to a Python list."
   ]
  },
  {
   "cell_type": "code",
   "execution_count": 9,
   "metadata": {},
   "outputs": [
    {
     "data": {
      "text/plain": [
       "[10.0, 12.5, 15.0, 17.5, 20.0]"
      ]
     },
     "execution_count": 9,
     "metadata": {},
     "output_type": "execute_result"
    }
   ],
   "source": [
    "a = np.linspace(10, 20 ,5)\n",
    "list(a)"
   ]
  },
  {
   "cell_type": "code",
   "execution_count": 10,
   "metadata": {},
   "outputs": [
    {
     "data": {
      "text/plain": [
       "[10.0, 12.5, 15.0, 17.5, 20.0]"
      ]
     },
     "execution_count": 10,
     "metadata": {},
     "output_type": "execute_result"
    }
   ],
   "source": [
    "# Or even better\n",
    "a.tolist()"
   ]
  },
  {
   "cell_type": "markdown",
   "metadata": {
    "slideshow": {
     "slide_type": "slide"
    }
   },
   "source": [
    "# NumPy efficiency\n",
    "Beside some convenient functions for the manipulation of data in arrays of arbritrary dimensions, `numpy` can be much more efficient than pure Python."
   ]
  },
  {
   "cell_type": "code",
   "execution_count": 11,
   "metadata": {},
   "outputs": [
    {
     "name": "stdout",
     "output_type": "stream",
     "text": [
      "15.6 µs ± 1.59 µs per loop (mean ± std. dev. of 7 runs, 10000 loops each)\n"
     ]
    }
   ],
   "source": [
    "n = 1000\n",
    "# we use the ipython magic command %timeit\n",
    "%timeit list(range(n))"
   ]
  },
  {
   "cell_type": "code",
   "execution_count": 12,
   "metadata": {},
   "outputs": [],
   "source": [
    "%%capture timeit_python\n",
    "# to capture the result of the command timeit in the variable timeit_python\n",
    "# Pure Python\n",
    "%timeit list(range(n))"
   ]
  },
  {
   "cell_type": "code",
   "execution_count": 13,
   "metadata": {},
   "outputs": [],
   "source": [
    "%%capture timeit_numpy\n",
    "# numpy\n",
    "%timeit np.arange(n)"
   ]
  },
  {
   "cell_type": "code",
   "execution_count": 14,
   "metadata": {},
   "outputs": [],
   "source": [
    "def compute_time_in_second(timeit_result):\n",
    "    string = timeit_result.stdout\n",
    "    print(string)\n",
    "    for line in string.split('\\n'):\n",
    "        words = line.split(' ')\n",
    "        if len(words) > 1:\n",
    "            time = float(words[0])\n",
    "            unit = words[1]\n",
    "    if unit == 'ms':\n",
    "        time *= 1e-3\n",
    "    elif unit == 'us':\n",
    "        time *= 1e-6\n",
    "    elif unit == 'ns':\n",
    "        time *= 1e-9\n",
    "    return time\n",
    "\n",
    "def compare_times(string, timeit_python, timeit_numpy):\n",
    "    time_python = compute_time_in_second(timeit_python)\n",
    "    time_numpy = compute_time_in_second(timeit_numpy)\n",
    "\n",
    "    print(string + ': ratio times (Python / NumPy): ', \n",
    "          time_python/time_numpy)"
   ]
  },
  {
   "cell_type": "code",
   "execution_count": 15,
   "metadata": {},
   "outputs": [
    {
     "name": "stdout",
     "output_type": "stream",
     "text": [
      "12.7 us +- 1.14 us per loop (mean +- std. dev. of 7 runs, 100000 loops each)\n",
      "\n",
      "1.31 us +- 112 ns per loop (mean +- std. dev. of 7 runs, 1000000 loops each)\n",
      "\n",
      "Creation of object: ratio times (Python / NumPy):  9.694656488549617\n"
     ]
    }
   ],
   "source": [
    "compare_times('Creation of object', timeit_python, timeit_numpy)"
   ]
  },
  {
   "cell_type": "code",
   "execution_count": 16,
   "metadata": {},
   "outputs": [],
   "source": [
    "n = 200000\n",
    "python_r_1 = range(n)\n",
    "python_r_2 = range(n)\n",
    "\n",
    "numpy_a_1 = np.arange(n)\n",
    "numpy_a_2 = np.arange(n)"
   ]
  },
  {
   "cell_type": "code",
   "execution_count": 17,
   "metadata": {},
   "outputs": [],
   "source": [
    "%%capture timeit_python\n",
    "%%timeit\n",
    "# Regular Python\n",
    "[(x + y) for x, y in zip(python_r_1, python_r_2)]"
   ]
  },
  {
   "cell_type": "code",
   "execution_count": 18,
   "metadata": {},
   "outputs": [
    {
     "name": "stdout",
     "output_type": "stream",
     "text": [
      "16.6 ms +- 220 us per loop (mean +- std. dev. of 7 runs, 100 loops each)\n",
      "\n"
     ]
    }
   ],
   "source": [
    "print(timeit_python)"
   ]
  },
  {
   "cell_type": "code",
   "execution_count": 19,
   "metadata": {},
   "outputs": [],
   "source": [
    "%%capture timeit_numpy\n",
    "%%timeit\n",
    "#Numpy\n",
    "numpy_a_1 + numpy_a_2"
   ]
  },
  {
   "cell_type": "code",
   "execution_count": 20,
   "metadata": {},
   "outputs": [
    {
     "name": "stdout",
     "output_type": "stream",
     "text": [
      "246 us +- 16.7 us per loop (mean +- std. dev. of 7 runs, 1000 loops each)\n",
      "\n"
     ]
    }
   ],
   "source": [
    "print(timeit_numpy)"
   ]
  },
  {
   "cell_type": "code",
   "execution_count": 21,
   "metadata": {},
   "outputs": [
    {
     "name": "stdout",
     "output_type": "stream",
     "text": [
      "16.6 ms +- 220 us per loop (mean +- std. dev. of 7 runs, 100 loops each)\n",
      "\n",
      "246 us +- 16.7 us per loop (mean +- std. dev. of 7 runs, 1000 loops each)\n",
      "\n",
      "Additions: ratio times (Python / NumPy):  67.47967479674797\n"
     ]
    }
   ],
   "source": [
    "compare_times('Additions', timeit_python, timeit_numpy)"
   ]
  },
  {
   "cell_type": "markdown",
   "metadata": {},
   "source": [
    "This shows that when you need to perform mathematical operations on a lot of homogeneous numbers, it is more efficient to use `numpy` arrays."
   ]
  },
  {
   "cell_type": "markdown",
   "metadata": {
    "slideshow": {
     "slide_type": "slide"
    }
   },
   "source": [
    "# Manipulating NumPy arrays"
   ]
  },
  {
   "cell_type": "markdown",
   "metadata": {},
   "source": [
    "## Access elements\n",
    "Elements in a `numpy` array can be accessed using indexing and slicing in any dimension. It also offers the same functionalities available in Fortan or Matlab.\n",
    "\n",
    "### Indexes and slices\n",
    "For example, we can create an array `A` and perform any kind of selection operations on it."
   ]
  },
  {
   "cell_type": "code",
   "execution_count": 22,
   "metadata": {},
   "outputs": [
    {
     "data": {
      "text/plain": [
       "array([[0.89925962, 0.31519992, 0.17170063, 0.06102236, 0.6055506 ],\n",
       "       [0.43365108, 0.67461267, 0.34962124, 0.75648088, 0.53096922],\n",
       "       [0.65643503, 0.4723704 , 0.77202087, 0.50192904, 0.14067726],\n",
       "       [0.80709755, 0.2314217 , 0.65465368, 0.28459125, 0.54727527]])"
      ]
     },
     "execution_count": 22,
     "metadata": {},
     "output_type": "execute_result"
    }
   ],
   "source": [
    "A = np.random.random([4, 5])\n",
    "A"
   ]
  },
  {
   "cell_type": "code",
   "execution_count": 23,
   "metadata": {},
   "outputs": [
    {
     "data": {
      "text/plain": [
       "0.4336510750584107"
      ]
     },
     "execution_count": 23,
     "metadata": {},
     "output_type": "execute_result"
    }
   ],
   "source": [
    "# Get the element from second line, first column\n",
    "A[1, 0]"
   ]
  },
  {
   "cell_type": "code",
   "execution_count": 24,
   "metadata": {},
   "outputs": [
    {
     "data": {
      "text/plain": [
       "array([[0.89925962, 0.31519992, 0.17170063, 0.06102236, 0.6055506 ],\n",
       "       [0.43365108, 0.67461267, 0.34962124, 0.75648088, 0.53096922]])"
      ]
     },
     "execution_count": 24,
     "metadata": {},
     "output_type": "execute_result"
    }
   ],
   "source": [
    "# Get the first two lines\n",
    "A[:2]"
   ]
  },
  {
   "cell_type": "code",
   "execution_count": 25,
   "metadata": {},
   "outputs": [
    {
     "data": {
      "text/plain": [
       "array([0.6055506 , 0.53096922, 0.14067726, 0.54727527])"
      ]
     },
     "execution_count": 25,
     "metadata": {},
     "output_type": "execute_result"
    }
   ],
   "source": [
    "# Get the last column\n",
    "A[:, -1]"
   ]
  },
  {
   "cell_type": "code",
   "execution_count": 26,
   "metadata": {},
   "outputs": [
    {
     "data": {
      "text/plain": [
       "array([[0.89925962, 0.17170063, 0.6055506 ],\n",
       "       [0.43365108, 0.34962124, 0.53096922]])"
      ]
     },
     "execution_count": 26,
     "metadata": {},
     "output_type": "execute_result"
    }
   ],
   "source": [
    "# Get the first two lines and the columns with an even index\n",
    "A[:2, ::2]"
   ]
  },
  {
   "cell_type": "markdown",
   "metadata": {
    "slideshow": {
     "slide_type": "slide"
    }
   },
   "source": [
    "### Using a mask to select elements validating a condition:"
   ]
  },
  {
   "cell_type": "code",
   "execution_count": 27,
   "metadata": {},
   "outputs": [
    {
     "name": "stdout",
     "output_type": "stream",
     "text": [
      "[[ True False False False  True]\n",
      " [False  True False  True  True]\n",
      " [ True False  True  True False]\n",
      " [ True False  True False  True]]\n",
      "[0.89925962 0.6055506  0.67461267 0.75648088 0.53096922 0.65643503\n",
      " 0.77202087 0.50192904 0.80709755 0.65465368 0.54727527]\n"
     ]
    }
   ],
   "source": [
    "cond = A > 0.5\n",
    "print(cond)\n",
    "print(A[cond])"
   ]
  },
  {
   "cell_type": "markdown",
   "metadata": {},
   "source": [
    "The mask is in fact a particular case of the advanced indexing capabilities provided by NumPy. For example, it is even possible to use lists for indexing:"
   ]
  },
  {
   "cell_type": "code",
   "execution_count": 28,
   "metadata": {},
   "outputs": [
    {
     "name": "stdout",
     "output_type": "stream",
     "text": [
      "[[0.89925962 0.31519992 0.17170063 0.06102236 0.6055506 ]\n",
      " [0.43365108 0.67461267 0.34962124 0.75648088 0.53096922]\n",
      " [0.65643503 0.4723704  0.77202087 0.50192904 0.14067726]\n",
      " [0.80709755 0.2314217  0.65465368 0.28459125 0.54727527]]\n"
     ]
    },
    {
     "data": {
      "text/plain": [
       "array([[0.89925962, 0.31519992, 0.6055506 ],\n",
       "       [0.43365108, 0.67461267, 0.53096922],\n",
       "       [0.65643503, 0.4723704 , 0.14067726],\n",
       "       [0.80709755, 0.2314217 , 0.54727527]])"
      ]
     },
     "execution_count": 28,
     "metadata": {},
     "output_type": "execute_result"
    }
   ],
   "source": [
    "# Selecting only particular columns\n",
    "print(A)\n",
    "A[:, [0, 1, 4]]"
   ]
  },
  {
   "cell_type": "markdown",
   "metadata": {
    "slideshow": {
     "slide_type": "slide"
    }
   },
   "source": [
    "## Perform array manipulations\n",
    "### Apply arithmetic operations to whole arrays (element-wise):"
   ]
  },
  {
   "cell_type": "code",
   "execution_count": 29,
   "metadata": {},
   "outputs": [
    {
     "data": {
      "text/plain": [
       "array([[34.80126403, 28.25135024, 26.7464874 , 25.61394735, 31.42219749],\n",
       "       [29.52456401, 32.20122896, 28.61844741, 33.13707212, 30.59162046],\n",
       "       [31.99525724, 29.94683782, 33.31622493, 30.27122313, 26.42656267],\n",
       "       [33.72238198, 27.36777304, 31.97510827, 27.92690466, 30.77226288]])"
      ]
     },
     "execution_count": 29,
     "metadata": {},
     "output_type": "execute_result"
    }
   ],
   "source": [
    "(A+5)**2"
   ]
  },
  {
   "cell_type": "markdown",
   "metadata": {},
   "source": [
    "### Apply functions element-wise:"
   ]
  },
  {
   "cell_type": "code",
   "execution_count": 30,
   "metadata": {},
   "outputs": [
    {
     "data": {
      "text/plain": [
       "array([[2.45778274, 1.37053329, 1.18732233, 1.06292268, 1.83226077],\n",
       "       [1.54288042, 1.9632724 , 1.41853016, 2.13076459, 1.70057974],\n",
       "       [1.92790714, 1.60379132, 2.16413527, 1.65190478, 1.15105309],\n",
       "       [2.24139301, 1.26039064, 1.92447592, 1.3292186 , 1.72853679]])"
      ]
     },
     "execution_count": 30,
     "metadata": {},
     "output_type": "execute_result"
    }
   ],
   "source": [
    "np.exp(A) # With numpy arrays, use the functions from numpy !"
   ]
  },
  {
   "cell_type": "markdown",
   "metadata": {},
   "source": [
    "### Setting parts of arrays"
   ]
  },
  {
   "cell_type": "code",
   "execution_count": 31,
   "metadata": {},
   "outputs": [
    {
     "name": "stdout",
     "output_type": "stream",
     "text": [
      "[[0.         0.31519992 0.17170063 0.06102236 0.6055506 ]\n",
      " [0.         0.67461267 0.34962124 0.75648088 0.53096922]\n",
      " [0.         0.4723704  0.77202087 0.50192904 0.14067726]\n",
      " [0.         0.2314217  0.65465368 0.28459125 0.54727527]]\n"
     ]
    }
   ],
   "source": [
    "A[:, 0] = 0.\n",
    "print(A)"
   ]
  },
  {
   "cell_type": "code",
   "execution_count": 32,
   "metadata": {},
   "outputs": [
    {
     "name": "stdout",
     "output_type": "stream",
     "text": [
      "[[ 0.          3.17258959  5.82409047 16.387435    1.65138967]\n",
      " [ 0.          1.48233207  2.86023812  1.32191048  1.88334836]\n",
      " [ 0.          2.11698277  1.29530177  1.99231351  7.10846954]\n",
      " [ 0.          4.32111589  1.5275252   3.51381149  1.82723405]]\n"
     ]
    }
   ],
   "source": [
    "# BONUS: Safe element-wise inverse with masks\n",
    "cond = (A != 0)\n",
    "A[cond] = 1./A[cond]\n",
    "print(A)"
   ]
  },
  {
   "cell_type": "markdown",
   "metadata": {
    "slideshow": {
     "slide_type": "slide"
    }
   },
   "source": [
    "### Attributes and methods of `np.ndarray` (see the [doc](https://docs.scipy.org/doc/numpy/reference/generated/numpy.ndarray.html#numpy.ndarray))"
   ]
  },
  {
   "cell_type": "code",
   "execution_count": 33,
   "metadata": {},
   "outputs": [
    {
     "name": "stdout",
     "output_type": "stream",
     "text": [
      "['T', 'all', 'any', 'argmax', 'argmin', 'argpartition', 'argsort', 'astype', 'base', 'byteswap', 'choose', 'clip', 'compress', 'conj', 'conjugate', 'copy', 'ctypes', 'cumprod', 'cumsum', 'data', 'diagonal', 'dot', 'dtype', 'dump', 'dumps', 'fill', 'flags', 'flat', 'flatten', 'getfield', 'imag', 'item', 'itemset', 'itemsize', 'max', 'mean', 'min', 'nbytes', 'ndim', 'newbyteorder', 'nonzero', 'partition', 'prod', 'ptp', 'put', 'ravel', 'real', 'repeat', 'reshape', 'resize', 'round', 'searchsorted', 'setfield', 'setflags', 'shape', 'size', 'sort', 'squeeze', 'std', 'strides', 'sum', 'swapaxes', 'take', 'tobytes', 'tofile', 'tolist', 'tostring', 'trace', 'transpose', 'var', 'view']\n"
     ]
    }
   ],
   "source": [
    "print([s for s in dir(A) if not s.startswith('__')])"
   ]
  },
  {
   "cell_type": "code",
   "execution_count": 34,
   "metadata": {},
   "outputs": [
    {
     "name": "stdout",
     "output_type": "stream",
     "text": [
      "[[ 0.          3.17258959  5.82409047 16.387435    1.65138967]\n",
      " [ 0.          1.48233207  2.86023812  1.32191048  1.88334836]\n",
      " [ 0.          2.11698277  1.29530177  1.99231351  7.10846954]\n",
      " [ 0.          4.32111589  1.5275252   3.51381149  1.82723405]]\n",
      "Mean value 2.9143043986324475\n",
      "Mean line [0.         2.77325508 2.87678889 5.80386762 3.1176104 ]\n",
      "Mean column [5.40710095 1.50956581 2.50261352 2.23793733]\n"
     ]
    }
   ],
   "source": [
    "# Ex1: Get the mean through different dimensions\n",
    "print(A)\n",
    "print('Mean value', A.mean())\n",
    "print('Mean line', A.mean(axis=0))\n",
    "print('Mean column', A.mean(axis=1))"
   ]
  },
  {
   "cell_type": "code",
   "execution_count": 35,
   "metadata": {},
   "outputs": [
    {
     "name": "stdout",
     "output_type": "stream",
     "text": [
      "[[ 0.          3.17258959  5.82409047 16.387435    1.65138967]\n",
      " [ 0.          1.48233207  2.86023812  1.32191048  1.88334836]\n",
      " [ 0.          2.11698277  1.29530177  1.99231351  7.10846954]\n",
      " [ 0.          4.32111589  1.5275252   3.51381149  1.82723405]] (4, 5)\n",
      "[ 0.          3.17258959  5.82409047 16.387435    1.65138967  0.\n",
      "  1.48233207  2.86023812  1.32191048  1.88334836  0.          2.11698277\n",
      "  1.29530177  1.99231351  7.10846954  0.          4.32111589  1.5275252\n",
      "  3.51381149  1.82723405] (20,)\n"
     ]
    }
   ],
   "source": [
    "# Ex2: Convert a 2D array in 1D keeping all elements\n",
    "print(A, A.shape)\n",
    "A_flat = A.flatten()\n",
    "print(A_flat, A_flat.shape)"
   ]
  },
  {
   "cell_type": "markdown",
   "metadata": {
    "slideshow": {
     "slide_type": "subslide"
    }
   },
   "source": [
    "### Remark: dot product"
   ]
  },
  {
   "cell_type": "code",
   "execution_count": 36,
   "metadata": {},
   "outputs": [
    {
     "name": "stdout",
     "output_type": "stream",
     "text": [
      "[ 0.  1.  2.  3.  4.  5.  6.  7.  8.  9. 10.]\n",
      "385.0\n"
     ]
    }
   ],
   "source": [
    "b = np.linspace(0, 10, 11)\n",
    "c = b @ b\n",
    "# before 3.5:\n",
    "# c = b.dot(b)\n",
    "print(b)\n",
    "print(c)"
   ]
  },
  {
   "cell_type": "markdown",
   "metadata": {},
   "source": [
    "#### For Matlab users\n",
    "\n",
    "|     ` `       | Matlab | Numpy |\n",
    "| ------------- | ------ | ----- |\n",
    "| element wise  |  `.*`  |  `*`  |\n",
    "|  dot product  |  `*`   |  `@`  |"
   ]
  },
  {
   "cell_type": "markdown",
   "metadata": {
    "slideshow": {
     "slide_type": "slide"
    }
   },
   "source": [
    "### To finish: `dtypes` and sub-packages"
   ]
  },
  {
   "cell_type": "markdown",
   "metadata": {},
   "source": [
    "`numpy` arrays can also be sorted, even when they are composed of complex data if the type of the columns are explicitly stated with `dtypes`."
   ]
  },
  {
   "cell_type": "code",
   "execution_count": 37,
   "metadata": {},
   "outputs": [
    {
     "name": "stdout",
     "output_type": "stream",
     "text": [
      "[(b'Germany', 233, 357021, 81799600)\n",
      " (b'United Kingdom', 256, 243610, 62262000)\n",
      " (b'Belgium', 337,  30510, 11007020)\n",
      " (b'Netherlands', 393,  41526, 16928800)]\n"
     ]
    }
   ],
   "source": [
    "dtypes = np.dtype([('country', 'S20'), ('density', 'i4'), \n",
    "                  ('area', 'i4'), ('population', 'i4')])\n",
    "x = np.array([('Netherlands', 393, 41526, 16928800),\n",
    "              ('Belgium', 337, 30510, 11007020),\n",
    "              ('United Kingdom', 256, 243610, 62262000),\n",
    "              ('Germany', 233, 357021, 81799600)], \n",
    "             dtype=dtypes)\n",
    "arr = np.array(x, dtype=dtypes)\n",
    "arr.sort(order='density')\n",
    "print(arr)"
   ]
  },
  {
   "cell_type": "markdown",
   "metadata": {},
   "source": [
    "In the previous example, we manipulated a one dimensional array containing quadruplets of data. This functionality can be used to load images into arrays and save arrays to images.\n",
    "\n",
    "It can also be used when loading data of different types from a file with `np.genfromtxt`."
   ]
  },
  {
   "cell_type": "markdown",
   "metadata": {
    "slideshow": {
     "slide_type": "subslide"
    }
   },
   "source": [
    "#### NumPy and SciPy sub-packages:\n",
    "\n",
    "We already saw `numpy.random` to generate `numpy` arrays filled with random values. This submodule also provides functions related to distributions (Poisson, gaussian, etc.) and permutations."
   ]
  },
  {
   "cell_type": "markdown",
   "metadata": {},
   "source": [
    "To perform linear algebra with dense matrices, we can use the submodule `numpy.linalg`. For instance, in order to compute the determinant of a random matrix, we use the method `det`"
   ]
  },
  {
   "cell_type": "code",
   "execution_count": 38,
   "metadata": {},
   "outputs": [
    {
     "name": "stdout",
     "output_type": "stream",
     "text": [
      "[[0.47138506 0.41353868 0.09441948 0.225147   0.82335198]\n",
      " [0.04490952 0.14682972 0.31792846 0.22918746 0.73823443]\n",
      " [0.50485749 0.99705961 0.51896582 0.93318595 0.11375617]\n",
      " [0.37148317 0.0477689  0.29061475 0.41826056 0.47950005]\n",
      " [0.70324502 0.82838271 0.92172528 0.79532669 0.56698101]]\n"
     ]
    },
    {
     "data": {
      "text/plain": [
       "0.06968780805887545"
      ]
     },
     "execution_count": 38,
     "metadata": {},
     "output_type": "execute_result"
    }
   ],
   "source": [
    "A = np.random.random([5,5])\n",
    "print(A)\n",
    "np.linalg.det(A)"
   ]
  },
  {
   "cell_type": "code",
   "execution_count": 39,
   "metadata": {},
   "outputs": [
    {
     "name": "stdout",
     "output_type": "stream",
     "text": [
      "[[0.14682972 0.31792846]\n",
      " [0.99705961 0.51896582]]\n"
     ]
    },
    {
     "data": {
      "text/plain": [
       "array([[-2.15522717,  1.32033369],\n",
       "       [ 4.14071576, -0.6097731 ]])"
      ]
     },
     "execution_count": 39,
     "metadata": {},
     "output_type": "execute_result"
    }
   ],
   "source": [
    "squared_subA = A[1:3, 1:3]\n",
    "print(squared_subA)\n",
    "np.linalg.inv(squared_subA)"
   ]
  },
  {
   "cell_type": "markdown",
   "metadata": {},
   "source": [
    "If the data are sparse matrices, instead of using `numpy`, it is recommended to use `scipy`."
   ]
  },
  {
   "cell_type": "code",
   "execution_count": 40,
   "metadata": {},
   "outputs": [
    {
     "name": "stdout",
     "output_type": "stream",
     "text": [
      "  (0, 0)\t1\n",
      "  (0, 1)\t2\n",
      "  (1, 2)\t3\n",
      "  (2, 0)\t4\n",
      "  (2, 2)\t5\n"
     ]
    }
   ],
   "source": [
    "from scipy.sparse import csr_matrix\n",
    "print(csr_matrix([[1, 2, 0], [0, 0, 3], [4, 0, 5]]))"
   ]
  },
  {
   "cell_type": "markdown",
   "metadata": {},
   "source": [
    "#### SciPy or NumPy ?\n",
    "`scipy` also provides a submodule for linear algebra `scipy.linalg`. It provides an extension of `numpy.linalg`.\n",
    "\n",
    "For more info, see the related FAQ entry: https://www.scipy.org/scipylib/faq.html#why-both-numpy-linalg-and-scipy-linalg-what-s-the-difference."
   ]
  }
 ],
 "metadata": {
  "celltoolbar": "Diaporama",
  "kernelspec": {
   "display_name": "Python 3",
   "language": "python",
   "name": "python3"
  },
  "language_info": {
   "codemirror_mode": {
    "name": "ipython",
    "version": 3
   },
   "file_extension": ".py",
   "mimetype": "text/x-python",
   "name": "python",
   "nbconvert_exporter": "python",
   "pygments_lexer": "ipython3",
   "version": "3.7.2"
  }
 },
 "nbformat": 4,
 "nbformat_minor": 2
}
