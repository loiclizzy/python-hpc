{
 "cells": [
  {
   "cell_type": "markdown",
   "metadata": {
    "slideshow": {
     "slide_type": "slide"
    }
   },
   "source": [
    "# Python for High Performance Computing\n",
    "\n",
    "**A training to scale up Python code **\n",
    "\n",
    "Pierre Augier (LEGI), Cyrille Bonamy (LEGI), Eric Maldonado (Irstea), Franck Thollard (ISTerre), Christophe Picard (LJK), Loïc Huder (ISTerre)"
   ]
  },
  {
   "cell_type": "markdown",
   "metadata": {
    "slideshow": {
     "slide_type": "slide"
    }
   },
   "source": [
    "# Python for High Performance Computing\n",
    "\n",
    "- Day 0: Python language\n",
    "\n",
    "- Day 1: Numpy / Scipy / Pandas + Visualization\n",
    "\n",
    "- Day 2: Packaging, documentation, intro HPC, profiling\n",
    "\n",
    "- Day 3 and 4: Wrapping, Python accelerators, parallel computing + personal projects"
   ]
  },
  {
   "cell_type": "markdown",
   "metadata": {},
   "source": [
    "https://python.univ-grenoble-alpes.fr/\n",
    "python@univ-grenoble-alpes.fr\n",
    "    \n",
    "<div><img style=\"float: left;margin-left : 70px\" src='fig/logo_maimosine.png' height=\"100\" width=\"100\"/><img style=\"float: left; margin-left : 10px\" src='fig/logo_sari.png' height=\"80\" width=\"80\"/><img style=\"float: left; margin-left : 10px\" src='fig/logo_gricad.png' height=\"80\" width=\"80\"/> <img style=\"float: left; margin-left : 10px\" src='fig/logo_UGA.png' height=\"80\" width=\"80\"/> <img style=\"float: left; margin-left : 10px\" src='fig/logo_devlog.png' height=\"80\" width=\"80\"/> <img style=\"float: left; margin-left : 10px\" src='fig/logo_CNRS.jpg' height=\"80\" width=\"80\"/> <img style=\"float: left; margin-left : 10px\" src='fig/logo_data_institute.jpg' height=\"140\" width=\"140\"/></div>"
   ]
  },
  {
   "cell_type": "markdown",
   "metadata": {
    "slideshow": {
     "slide_type": "slide"
    }
   },
   "source": [
    "# Formations\n",
    "\n",
    "## Python Initiation\n",
    "    - début mars : formation initiation CNRS/UGA\n",
    "    - début avril : formation initiation Collège Ecole Doctorale/MaiMoSiNE \n",
    "## Python calcul\n",
    "    - 12,13,17,18,19 Juin \n",
    "    @Doctorants - Inscription : https://www.adum.fr/script/formations.pl?mod=217234&site=UDG\n",
    "    @autres - Inscription : https://www.maimosine.fr/animation-scientifique/article/s-inscrire-a-une-formation\n",
    "   \n",
    "## Séminaire Machine Learning, IA, Deep Learning \n",
    "    - 6 juin 9h Auditorium IMAG\n",
    "    - Scikit-Learn, Keras entre autres\n",
    "    \n",
    "## Conf\n",
    "    - GeoPython 24 - 26 juin, Suisse \n",
    "    - Euroscipy 2019 takes place 2-6 September 2019 in Bilbao, Spain\n",
    "    \n",
    "https://python.univ-grenoble-alpes.fr/\n",
    "\n",
    "(Pierre Augier - Franck Thollard - Raphaël Bacher - Cyrille Bonamy - Loic Huder - Eric Maldonado )\n",
    "    \n",
    "<div><img style=\"float: left;margin-left : 70px\" src='fig/logo_maimosine.png' height=\"100\" width=\"100\"/><img style=\"float: left; margin-left : 10px\" src='fig/logo_sari.png' height=\"80\" width=\"80\"/><img style=\"float: left; margin-left : 10px\" src='fig/logo_gricad.png' height=\"80\" width=\"80\"/> <img style=\"float: left; margin-left : 10px\" src='fig/logo_UGA.png' height=\"80\" width=\"80\"/> <img style=\"float: left; margin-left : 10px\" src='fig/logo_devlog.png' height=\"80\" width=\"80\"/> <img style=\"float: left; margin-left : 10px\" src='fig/logo_CNRS.jpg' height=\"80\" width=\"80\"/> <img style=\"float: left; margin-left : 10px\" src='fig/logo_data_institute.jpg' height=\"140\" width=\"140\"/></div>"
   ]
  },
  {
   "cell_type": "markdown",
   "metadata": {
    "slideshow": {
     "slide_type": "slide"
    }
   },
   "source": [
    "# Working sessions\n",
    "<span style=\"color:red\">Prochaine Session 20 Juin 10h @IMAG</span>\n",
    "\n",
    "Présentation du moteur de workflow snakemake sur les serveurs de calcul du mesocentre CIMENT/GRICAD. (Florent Chuffard)\n",
    "\n",
    "- Numpy, Scipy (mini-eigen)     - Jupyter(lab)\n",
    "- Matplotlib, other plotting tools: plotly, bokeh, altair,...\n",
    "- GIS and maps (cartopy, basemap, ...)\n",
    "- Sympy, sage - xarray, dask - Communication with machines / instruments, IoT\n",
    "- Pandas, statmodels, bayesian stuff (Pymc, Emcee,...)   - Machine learning: scikit-learn,...\n",
    "- Deep learning: tensorflow (keras), pytorch,...\n",
    "- Scikit-image, imageio, pillow, tifffile, opencv - HPC: mpi4py, h5py, h5netcdf, FFT, clusters, GPU\n",
    "- Performance: cython, numba, pythran, swig\n",
    "- GUI: PyQt, kivy, tk - Tests - Database - Package, deployment tool\n",
    "- IDE: spyder, pycharm, eclipse(pydev), vim - Retour d'expériences de bascule sous Python\n",
    "<span style=\"color:red\">Recherche contributeurs également !</span>\n",
    "\n",
    "<div><img style=\"float: left;margin-left : 70px\" src='fig/logo_maimosine.png' height=\"100\" width=\"100\"/><img style=\"float: left; margin-left : 10px\" src='fig/logo_sari.png' height=\"80\" width=\"80\"/><img style=\"float: left; margin-left : 10px\" src='fig/logo_gricad.png' height=\"80\" width=\"80\"/> <img style=\"float: left; margin-left : 10px\" src='fig/logo_UGA.png' height=\"80\" width=\"80\"/> <img style=\"float: left; margin-left : 10px\" src='fig/logo_devlog.png' height=\"80\" width=\"80\"/> <img style=\"float: left; margin-left : 10px\" src='fig/logo_CNRS.jpg' height=\"80\" width=\"80\"/> <img style=\"float: left; margin-left : 10px\" src='fig/logo_data_institute.jpg' height=\"140\" width=\"140\"/></div>\n"
   ]
  }
 ],
 "metadata": {
  "celltoolbar": "Slideshow",
  "kernelspec": {
   "display_name": "Python 3",
   "language": "python",
   "name": "python3"
  },
  "language_info": {
   "codemirror_mode": {
    "name": "ipython",
    "version": 3
   },
   "file_extension": ".py",
   "mimetype": "text/x-python",
   "name": "python",
   "nbconvert_exporter": "python",
   "pygments_lexer": "ipython3",
   "version": "3.6.5"
  }
 },
 "nbformat": 4,
 "nbformat_minor": 2
}
