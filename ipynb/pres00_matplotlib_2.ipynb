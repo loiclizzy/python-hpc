{
 "cells": [
  {
   "cell_type": "markdown",
   "metadata": {
    "collapsed": true
   },
   "source": [
    "# Advanced matplotlib\n",
    "\n",
    "Pierre Augier (LEGI), Cyrille Bonamy (LEGI), Eric Maldonado (Irstea), Franck Thollard (ISTerre), Christophe Picard (LJK), Loïc Huder (ISTerre)"
   ]
  },
  {
   "cell_type": "markdown",
   "metadata": {},
   "source": [
    "## Introduction\n",
    "This is the second part of the introductive presentation given in the [Python initiation training](https://gricad-gitlab.univ-grenoble-alpes.fr/python-uga/py-training-2017/blob/master/ipynb/pres111_intro_matplotlib.ipynb). \n",
    "\n",
    "The aim is to present more advanced usecases of matplotlib."
   ]
  },
  {
   "cell_type": "markdown",
   "metadata": {},
   "source": [
    "## Quick reminders"
   ]
  },
  {
   "cell_type": "code",
   "execution_count": null,
   "metadata": {},
   "outputs": [],
   "source": [
    "import numpy as np\n",
    "import matplotlib.pyplot as plt"
   ]
  },
  {
   "cell_type": "markdown",
   "metadata": {},
   "source": [
    "## Object-oriented plots\n",
    "\n",
    "In matplotlib plots, **everything** is an object. It is therefore possible to change every aspects of the figure by acting on the appropriate objects."
   ]
  },
  {
   "cell_type": "markdown",
   "metadata": {},
   "source": [
    "### Subplots (gridspec)"
   ]
  },
  {
   "cell_type": "code",
   "execution_count": null,
   "metadata": {},
   "outputs": [],
   "source": [
    "import matplotlib.gridspec as gridspec\n",
    "\n",
    "fig = plt.figure()\n",
    "gs = gridspec.GridSpec(2, 2, figure=fig) # 2 rows and 2 columns\n",
    "X = np.arange(-3, 3, 0.01)*np.pi\n",
    "ax1 = fig.add_subplot(gs[0,0]) # 1st row, 1st column\n",
    "ax2 = fig.add_subplot(gs[1,0]) # 2nd row, 1st column\n",
    "ax3 = fig.add_subplot(gs[:,1]) # all rows, 2nd column\n",
    "ax1.plot(X, np.cos(2*X), color=\"red\")\n",
    "ax2.plot(X, np.sin(2*X), color=\"magenta\")\n",
    "ax3.plot(X, X**2)"
   ]
  },
  {
   "cell_type": "markdown",
   "metadata": {},
   "source": [
    "## Interactivity"
   ]
  },
  {
   "cell_type": "markdown",
   "metadata": {},
   "source": [
    "## Animations\n",
    "\n",
    "From the matplotlib page (https://matplotlib.org/api/animation_api.html):\n",
    "> The easiest way to make a live animation in matplotlib is to use one of the Animation classes.\n",
    "><table>\n",
    "    <tr><td>FuncAnimation</td><td>Makes an animation by repeatedly calling a function func.</td></tr>\n",
    "    <tr><td>ArtistAnimation</td><td>Animation using a fixed set of Artist objects.</td></tr>\n",
    "</table>"
   ]
  },
  {
   "cell_type": "markdown",
   "metadata": {},
   "source": [
    "### Example from matplotlib page\n",
    "This example uses `FuncAnimation` to animate the plot of a sin function.\n",
    "\n",
    "The animation consists in making repeated calls to the `update` function that adds at each frame a datapoint to the plot."
   ]
  },
  {
   "cell_type": "code",
   "execution_count": null,
   "metadata": {},
   "outputs": [],
   "source": [
    "from matplotlib import animation\n",
    "\n",
    "fig, ax = plt.subplots()\n",
    "xdata, ydata = [], []\n",
    "ln, = plt.plot([], [], 'ro')\n",
    "\n",
    "def init():\n",
    "    ax.set_xlim(0, 2*np.pi)\n",
    "    ax.set_ylim(-1, 1)\n",
    "    return ln,\n",
    "\n",
    "def update(frame):\n",
    "    xdata.append(frame)\n",
    "    ydata.append(np.sin(frame))\n",
    "    ln.set_data(xdata, ydata)\n",
    "    return ln,\n",
    "\n",
    "ani = animation.FuncAnimation(fig, update, frames=np.linspace(0, 2*np.pi, 128),\n",
    "                    init_func=init, blit=True)\n",
    "plt.show()\n"
   ]
  },
  {
   "cell_type": "markdown",
   "metadata": {},
   "source": [
    "The previous code executed in a regular Python script should display the animation without problem. In a Jupyter Notebook, it is necessary to use IPython to display it in HTML."
   ]
  },
  {
   "cell_type": "code",
   "execution_count": null,
   "metadata": {},
   "outputs": [],
   "source": [
    "from IPython.display import HTML\n",
    "\n",
    "HTML(ani.to_jshtml())"
   ]
  },
  {
   "cell_type": "markdown",
   "metadata": {},
   "source": [
    "### Stroop test\n",
    "The [Stroop effect](http://en.wikipedia.org/wiki/Stroop_effect) is when a psychological cause inteferes with the reaction time of a task.\n",
    "\n",
    "A common demonstration of this effect (called a Stroop test) is reading a word decribing a color that is written in another color. This usually takes longer than reading a non-colored word.\n",
    "\n",
    "Ex: <div style='text-align:center; font-size:36px'><span style='color:blue'>RED</span> vs. <span style='color:blue'>BIRD</span></div>\n",
    "\n",
    "_Funfact: As this test relies on the significance of the words, people that are more used to English should find the test more difficult !_\n",
    "\n",
    "In this part, we show how `matplotlib` animations can generate a Stroop test that shows random colour words in random colors at random positions.\n",
    "\n",
    "#### With `FuncAnimation`\n",
    "We will generate a single object `word` whose position, color and text will be updated by the repeatedly called function."
   ]
  },
  {
   "cell_type": "code",
   "execution_count": null,
   "metadata": {},
   "outputs": [],
   "source": [
    "import random\n",
    "\n",
    "def generate_random_colored_word(words, colors):\n",
    "    displayed_text = random.choice(words).upper()\n",
    "    text_color = random.choice(colors)\n",
    "    xy_position = (random.random(), random.random())\n",
    "    return xy_position, displayed_text, text_color\n",
    "\n",
    "\n",
    "def update(frame):\n",
    "    xy_position, displayed_text, text_color = generate_random_colored_word(wordset, colorset)\n",
    "    word.set_position(xy_position)\n",
    "    word.set_color(text_color)\n",
    "    word.set_text(displayed_text)\n",
    "    return word\n",
    "\n",
    "fig, ax = plt.subplots()\n",
    "\n",
    "colorset = ['red', 'blue', 'yellow', 'green', 'purple']\n",
    "wordset = colorset\n",
    "\n",
    "xy_position, displayed_text, text_color = generate_random_colored_word(wordset, colorset)\n",
    "word = ax.annotate(displayed_text, xy_position, xycoords='axes fraction', color=text_color, size=36)\n",
    "\n",
    "ani = animation.FuncAnimation(fig, update, interval=1000)\n",
    "plt.show()"
   ]
  },
  {
   "cell_type": "code",
   "execution_count": null,
   "metadata": {},
   "outputs": [],
   "source": [
    "from IPython.display import HTML\n",
    "\n",
    "HTML(ani.to_jshtml())"
   ]
  },
  {
   "cell_type": "markdown",
   "metadata": {},
   "source": [
    "#### With `ArtistAnimation`\n",
    "Rather than updating through a function, `ArtistAnimation` requires to generate first all the `Artists` that will be displayed during the whole animation. \n",
    "\n",
    "A list of `Artists` must therefore be supplied for each frame. Then, all frame lists must be compiled in a single list (of lists) that will be given in argument of `ArtistAnimation`.\n",
    "\n",
    "In our case, to reproduce the behaviour above, we need to have only one word per frame. Each frame will therefore have a list of a single element (the colored word for this frame)."
   ]
  },
  {
   "cell_type": "code",
   "execution_count": null,
   "metadata": {},
   "outputs": [],
   "source": [
    "fig, ax = plt.subplots()\n",
    "\n",
    "N_frames = 200\n",
    "words = []\n",
    "\n",
    "colorset = ['red', 'blue', 'yellow', 'green', 'purple']\n",
    "wordset = colorset\n",
    "\n",
    "# Generate the list of lists of Artists.\n",
    "for i in range(N_frames):\n",
    "    xy_position, displayed_text, text_color = generate_random_colored_word(wordset, colorset)\n",
    "    # The list of the frame contains only a single word\n",
    "    frame_artists = [ax.annotate(displayed_text, xy_position, xycoords='axes fraction', color=text_color, size=36)]\n",
    "    words.append(frame_artists)\n",
    "\n",
    "ani = animation.ArtistAnimation(fig, words, interval=1000)\n",
    "plt.show()"
   ]
  },
  {
   "cell_type": "code",
   "execution_count": null,
   "metadata": {},
   "outputs": [],
   "source": [
    "from IPython.display import HTML\n",
    "\n",
    "HTML(ani.to_jshtml())"
   ]
  },
  {
   "cell_type": "markdown",
   "metadata": {},
   "source": [
    "#### Example with multiple `Artists`: two words at once from two wordsets !"
   ]
  },
  {
   "cell_type": "code",
   "execution_count": null,
   "metadata": {},
   "outputs": [],
   "source": [
    "# We can remove the axes for a cleaner test\n",
    "fig = plt.figure()\n",
    "ax = fig.add_subplot(111, frameon=False)\n",
    "ax.set_xticks([])\n",
    "ax.set_yticks([])\n",
    "\n",
    "N_frames = 200\n",
    "words = []\n",
    "\n",
    "colorset = ['red', 'blue', 'yellow', 'green', 'purple']\n",
    "wordset = colorset\n",
    "wordset2 = ['bed', 'glue', 'mellow', 'grain', 'people']\n",
    "\n",
    "# Generate the list of lists of Artists.\n",
    "for i in range(N_frames):\n",
    "    xy_position, displayed_text, text_color = generate_random_colored_word(wordset, colorset)\n",
    "    xy_position2, displayed_text2, text_color2 = generate_random_colored_word(wordset2, colorset)\n",
    "    # The list of the frame contains only a single word\n",
    "    frame_artists = [ax.annotate(displayed_text, xy_position, xycoords='axes fraction', color=text_color, size=36),\n",
    "                     ax.annotate(displayed_text2, xy_position2, xycoords='axes fraction', color=text_color2, size=36)]\n",
    "    words.append(frame_artists)\n",
    "\n",
    "ani = animation.ArtistAnimation(fig, words, interval=1000)\n",
    "plt.show()"
   ]
  },
  {
   "cell_type": "code",
   "execution_count": null,
   "metadata": {},
   "outputs": [],
   "source": [
    "from IPython.display import HTML\n",
    "\n",
    "HTML(ani.to_jshtml())"
   ]
  }
 ],
 "metadata": {
  "kernelspec": {
   "display_name": "Python 3",
   "language": "python",
   "name": "python3"
  },
  "language_info": {
   "codemirror_mode": {
    "name": "ipython",
    "version": 3
   },
   "file_extension": ".py",
   "mimetype": "text/x-python",
   "name": "python",
   "nbconvert_exporter": "python",
   "pygments_lexer": "ipython3",
   "version": "3.6.7"
  }
 },
 "nbformat": 4,
 "nbformat_minor": 1
}
