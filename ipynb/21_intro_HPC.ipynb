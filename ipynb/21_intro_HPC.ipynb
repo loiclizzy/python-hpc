{
 "cells": [
  {
   "cell_type": "code",
   "execution_count": 1,
   "metadata": {
    "collapsed": true,
    "slideshow": {
     "slide_type": "skip"
    }
   },
   "outputs": [],
   "source": [
    "# this ipython command loads a special backend for notebooks\n",
    "%matplotlib notebook\n",
    "import matplotlib.pyplot as plt\n",
    "import numpy as np\n",
    "\n",
    "from IPython.core.display import display as display_base, HTML\n",
    "\n",
    "# https://stackoverflow.com/questions/21356014/how-can-i-insert-a-new-tag-into-a-beautifulsoup-object\n",
    "\n",
    "# https://github.com/lepture/mistune\n",
    "import mistune\n",
    "markdown = mistune.Markdown()\n",
    "\n",
    "def display(code):\n",
    "    return display_base(HTML(code))"
   ]
  },
  {
   "cell_type": "markdown",
   "metadata": {
    "slideshow": {
     "slide_type": "slide"
    }
   },
   "source": [
    "# Overview of the Python HPC landscape 🚀"
   ]
  },
  {
   "cell_type": "markdown",
   "metadata": {},
   "source": [
    "<div align=\"middle\"> Python, only a great glue language? </div>"
   ]
  },
  {
   "cell_type": "markdown",
   "metadata": {},
   "source": [
    "<div align=\"middle\"> Pierre Augier </div>"
   ]
  },
  {
   "cell_type": "raw",
   "metadata": {},
   "source": [
    "<div align=\"middle\">\n",
    "<img src=\"./fig/logo_CNRS.jpg\"  style=\"width: 10%\"> &nbsp; &nbsp;\n",
    "<img src=\"./fig/logo_LEGI.jpg\"  style=\"width: 15%\"> &nbsp; &nbsp;\n",
    "<img src=\"./fig/logo-uga-vo-cmjn.jpg\"  style=\"width: 15%\">\n",
    "</div>"
   ]
  },
  {
   "cell_type": "markdown",
   "metadata": {
    "slideshow": {
     "slide_type": "slide"
    }
   },
   "source": [
    "# Python for High-Performance Computing?\n",
    "\n",
    "1. *Fast prototyping* (Numpy!)\n",
    "\n",
    "2. *Popular*:\n",
    "\n",
    "    - Well-known\n",
    "    \n",
    "    - Several great libraries\n",
    "\n",
    "3. *Share ideas* between developers / scientists\n",
    "\n",
    "    - Popularity counts\n",
    "\n",
    "    - Readability counts\n",
    "\n",
    "    - Expressivity counts\n",
    "    \n",
    "4. Anyway, one needs a good and well-known *scripting language* so yes!\n",
    "\n",
    "   (even considering Julia)\n",
    "   \n",
    "### *Where / when should we stop ?*\n",
    "   "
   ]
  },
  {
   "cell_type": "markdown",
   "metadata": {
    "slideshow": {
     "slide_type": "slide"
    }
   },
   "source": [
    "# Python & fast prototyping...\n",
    "\n",
    "## The software engineering method for scientists 👩‍🔬 👨‍🔬 and HPC\n",
    "\n",
    "1. Fast prototyping\n",
    "\n",
    "2. Solidify **as needed**\n",
    "\n",
    "    * ↗ code quality\n",
    "    \n",
    "    * [testing](https://docs.pytest.org) \n",
    "    \n",
    "    * refactoring    \n",
    "    \n",
    "    * [type hints](https://docs.python.org/3/library/typing.html) and [type checking](http://mypy-lang.org/)\n",
    "    \n",
    "    * ↗ performances for bottlenecks (profile ⏱ !)\n",
    "    \n",
    "Again and again: `(1, 2)`, `(1, 2)`, ...\n"
   ]
  },
  {
   "cell_type": "markdown",
   "metadata": {
    "slideshow": {
     "slide_type": "slide"
    }
   },
   "source": [
    "## Python: a programming language, compromises ⚖️\n",
    "\n",
    "Designed for fast prototyping & \"glue\" codes together\n",
    "\n",
    "- Generalist + easy to learn ⇒ huge and diverse community 👨🏿‍🎓🕵🏼 👩🏼‍🎓 👩🏽‍🏫👨🏽‍💻👩🏾‍🔬 🎅🏼 🌎 🌍 🌏\n",
    "\n",
    "- Expressivity and readability\n",
    "\n",
    "- Not oriented towards high performance \n",
    "\n",
    "  (fast and easy dev, easy debug, correctness)\n",
    "\n",
    "    - Highly dynamic 🐒 + introspection (`inspect.stack()`)\n",
    "\n",
    "    - Automatic memory management 💾\n",
    "\n",
    "    - All objects encapsulated 🥥 (PyObject, C struct) \n",
    "    \n",
    "    - Objects accessible through \"references\" ➡️ \n",
    "    \n",
    "    - Usually interpreted \n",
    "    "
   ]
  },
  {
   "cell_type": "markdown",
   "metadata": {
    "slideshow": {
     "slide_type": "slide"
    }
   },
   "source": [
    "## Python interpreters\n",
    "\n",
    "\n",
    "### [CPython](https://github.com/python/cpython) <img src=\"./fig/logo_python.png\" align=\"left\" style=\"width: 7%; margin-bottom: 2px; margin-right: 5px;\">\n",
    "\n",
    "Interpreted (nearly) instruction per instruction, (nearly) no code optimization\n",
    "\n",
    "The numerical stack (Numpy, Scipy, Scikits, ...) based on the CPython C API (CPython implementation details)!\n",
    "\n",
    "<br>\n",
    "\n",
    "### [PyPy](https://pypy.org/) <img src=\"./fig/logo_pypy.png\" align=\"left\" style=\"width: 7%; margin-bottom: 0px; margin-right: 5px;\">\n",
    "\n",
    "Optimized implementation with tracing Just-In-Time compilation\n",
    "\n",
    "[\"Abstractions for free\"](https://www.youtube.com/watch?v=NQfpHQII2cU)\n",
    "\n",
    "The CPython C API is an issue! PyPy can't accelerate Numpy code!\n",
    "\n",
    "<br>\n",
    "\n",
    "### [Micropython](http://micropython.org/) <img src=\"./fig/logo_micropython.jpeg\" align=\"left\" style=\"width: 7%; margin-bottom: 0px; margin-right: 5px;\">\n",
    "\n",
    "For microcontrollers"
   ]
  },
  {
   "cell_type": "markdown",
   "metadata": {
    "slideshow": {
     "slide_type": "slide"
    }
   },
   "source": [
    "## Python & performance\n",
    "\n",
    "### References and PyObjects"
   ]
  },
  {
   "cell_type": "code",
   "execution_count": 2,
   "metadata": {},
   "outputs": [],
   "source": [
    "mylist = [1, 3, 5]"
   ]
  },
  {
   "cell_type": "markdown",
   "metadata": {},
   "source": [
    "`list`: array of references towards PyObjects"
   ]
  },
  {
   "cell_type": "markdown",
   "metadata": {},
   "source": [
    "### The C / Python border"
   ]
  },
  {
   "cell_type": "code",
   "execution_count": 3,
   "metadata": {},
   "outputs": [
    {
     "name": "stdout",
     "output_type": "stream",
     "text": [
      "4\n"
     ]
    }
   ],
   "source": [
    "arr = 2 * np.arange(10)\n",
    "print(arr[2])"
   ]
  },
  {
   "cell_type": "markdown",
   "metadata": {
    "slideshow": {
     "slide_type": "slide"
    }
   },
   "source": [
    "## Python & performance\n",
    "\n",
    "### Python interpreters bad at crunching numbers"
   ]
  },
  {
   "cell_type": "markdown",
   "metadata": {
    "slideshow": {
     "slide_type": "-"
    }
   },
   "source": [
    "Pure Python terrible 🐢 (except with PyPy)..."
   ]
  },
  {
   "cell_type": "code",
   "execution_count": 4,
   "metadata": {},
   "outputs": [],
   "source": [
    "from math import sqrt\n",
    "my_const = 10.\n",
    "result = [elem * sqrt(my_const * 2 * elem**2) for elem in range(1000)]"
   ]
  },
  {
   "cell_type": "markdown",
   "metadata": {
    "slideshow": {
     "slide_type": "fragment"
    }
   },
   "source": [
    "but even this is not *very* efficient (temporary objects)..."
   ]
  },
  {
   "cell_type": "code",
   "execution_count": 5,
   "metadata": {},
   "outputs": [],
   "source": [
    "import numpy as np\n",
    "a = np.arange(1000)\n",
    "result = a * np.sqrt(my_const * 2 * a**2)"
   ]
  },
  {
   "cell_type": "markdown",
   "metadata": {},
   "source": [
    "Even slightly worth with PyPy 🙁"
   ]
  },
  {
   "cell_type": "markdown",
   "metadata": {
    "slideshow": {
     "slide_type": "slide"
    }
   },
   "source": [
    "## Is Python efficient enough?"
   ]
  },
  {
   "cell_type": "markdown",
   "metadata": {
    "slideshow": {
     "slide_type": "-"
    }
   },
   "source": [
    "Python is known to be slow... But what does it mean?\n",
    "\n",
    "<p class=\"small\"><br></p>\n",
    "\n",
    "### Efficiency / inefficiency: depends on tasks ⏱\n",
    "\n",
    "<p class=\"small\"><br></p>\n",
    "\n",
    "### When is it inefficient? Especially for number crunching 🔢 ...\n",
    "\n",
    "<p class=\"small\"><br></p>\n",
    "\n",
    "### Can we write efficient scientific code in 🐍 ?"
   ]
  },
  {
   "cell_type": "markdown",
   "metadata": {
    "slideshow": {
     "slide_type": "slide"
    }
   },
   "source": [
    "## Book"
   ]
  },
  {
   "cell_type": "raw",
   "metadata": {},
   "source": [
    "<div align=\"middle\">\n",
    "<img src=\"./fig/high-perf-python-book.jpg\"  style=\"width: 35%; margin-top: 0px;\">\n",
    "</div>"
   ]
  },
  {
   "cell_type": "markdown",
   "metadata": {},
   "source": [
    "See also https://faster-cpython.readthedocs.io/"
   ]
  },
  {
   "cell_type": "markdown",
   "metadata": {
    "slideshow": {
     "slide_type": "slide"
    }
   },
   "source": [
    "# Performance (generalities)\n",
    "\n",
    "### Measure ⏱, don't guess! Profile to find the bottlenecks.\n",
    "\n",
    "Cprofile (pstats, SnakeViz), line-profiler, [`perf`](https://pypi.org/project/perf/), [perf_events](https://perf.wiki.kernel.org)\n",
    "\n",
    "<p class=\"small\"><br></p>\n",
    "\n",
    "### Do not optimize everything!\n",
    "\n",
    "- *\"Premature optimization is the root of all evil\"* (Donald Knuth)\n",
    "\n",
    "- 80 / 20 rule, efficiency important for expensive things and NOT for small things\n",
    "\n",
    "<p class=\"small\"><br></p>\n",
    "\n",
    "### CPU or IO bounded problems\n",
    "\n",
    "<p class=\"small\"><br></p>\n",
    "\n",
    "### Use the *right algorithms* and the right data structures!\n",
    "\n",
    "For example, using Numpy arrays instead of Python lists...\n",
    "\n",
    "<p class=\"small\"><br></p>\n",
    "\n",
    "### Unittests before optimizing to maintain correctness!\n",
    "\n",
    "`unittest`, `pytest`"
   ]
  },
  {
   "cell_type": "markdown",
   "metadata": {
    "slideshow": {
     "slide_type": "slide"
    }
   },
   "source": [
    "## \"Crunching numbers\" and computers architectures"
   ]
  },
  {
   "cell_type": "raw",
   "metadata": {},
   "source": [
    "<div align=\"middle\">\n",
    "<img src=\"./fig/modern-hardware-1.png\"  style=\"width: 30%; margin-top: -30px; margin-bottom: -50px\"> &nbsp;\n",
    "</div>"
   ]
  },
  {
   "cell_type": "markdown",
   "metadata": {
    "slideshow": {
     "slide_type": "-"
    }
   },
   "source": [
    "### CPU optimizations\n",
    "\n",
    "- pipelining, hyper-threading, vectorization, advanced instructions (simd), ...\n",
    "\n",
    "- important to get data aligned in memory (arrays)"
   ]
  },
  {
   "cell_type": "markdown",
   "metadata": {
    "slideshow": {
     "slide_type": "slide"
    }
   },
   "source": [
    "# Proper compilation needed for high efficiency !\n",
    "\n",
    "<p class=\"small\"><br></p>\n",
    "\n",
    "## Compilation to virtual machine instructions\n",
    "\n",
    "What does CPython (`compile`, \"byte code\", nearly no optimization, see `dis` module)\n",
    "\n",
    "<p class=\"small\"><br></p>\n",
    "\n",
    "## Compilation to machine instructions\n",
    "\n",
    "- Just-in-time \n",
    "\n",
    "  Has to be fast (warm up), can be hardware specific\n",
    "\n",
    "- Ahead-of-time \n",
    "\n",
    "  Can be slow, hardware specific or more general to distribute binaries\n",
    "\n",
    "*Compilers are usually good for optimizations!* Better than most humans...\n",
    "\n",
    "\n",
    "<p class=\"small\"><br></p>\n",
    "\n",
    "## Transpilation\n",
    "\n",
    "From one language to another language (for example Python to C++)"
   ]
  },
  {
   "cell_type": "markdown",
   "metadata": {
    "slideshow": {
     "slide_type": "slide"
    }
   },
   "source": [
    "# Parallelism\n",
    "\n",
    "## Hardware: \n",
    "\n",
    "- Multicore CPU\n",
    "\n",
    "- Multi nodes super computers (MPI)\n",
    "\n",
    "- GPU (Nvidia: Cuda, Cupy) / Intel Xeon Phi\n",
    "\n",
    "<p class=\"small\"><br></p>\n",
    "\n",
    "## Different problems\n",
    "\n",
    "- CPU bounded (need to use cores at the same time)\n",
    "\n",
    "- IO bounded (wait for IO)"
   ]
  },
  {
   "cell_type": "markdown",
   "metadata": {
    "slideshow": {
     "slide_type": "slide"
    }
   },
   "source": [
    "## Different parallel strategies"
   ]
  },
  {
   "cell_type": "markdown",
   "metadata": {
    "slideshow": {
     "slide_type": "-"
    }
   },
   "source": [
    "### IO bounded: one process + `async`/`await`\n",
    "\n",
    "<p class=\"small\"><br></p>\n",
    "\n",
    "Cooperative concurrency\n",
    "\n",
    "<p class=\"small\"><br></p>\n",
    "\n",
    "Functions able to pause\n",
    "\n",
    "<p class=\"small\"><br></p>\n",
    "\n",
    "`asyncio`, [`trio`](https://trio.readthedocs.io)"
   ]
  },
  {
   "cell_type": "raw",
   "metadata": {
    "slideshow": {
     "slide_type": "-"
    }
   },
   "source": [
    "<div align=\"middle\">\n",
    "<img src=\"./fig/logo_trio.png\"  style=\"width: 15%\">\n",
    "</div>"
   ]
  },
  {
   "cell_type": "markdown",
   "metadata": {
    "slideshow": {
     "slide_type": "slide"
    }
   },
   "source": [
    "## Different parallel strategies\n",
    "\n",
    "### One process split in light subprocesses called threads 👩🏼‍🔧 👨🏼‍🔧👩🏼‍🔧 👨🏼‍🔧\n",
    "\n",
    "- handled by the OS\n",
    "\n",
    "- share memory and can use at the same time different CPU cores\n",
    "\n",
    "How?\n",
    "\n",
    "- OpenMP (Natively in C / C++ / Fortran. For Python: Pythran, Cython, ...)\n",
    "\n",
    "- In Python: `threading` and `concurrent.futures`"
   ]
  },
  {
   "cell_type": "markdown",
   "metadata": {
    "slideshow": {
     "slide_type": "fragment"
    }
   },
   "source": [
    "**⚠️ in Python, one interpreter per process (~) and the Global Interpreter Lock (GIL)...**\n",
    "\n",
    "- In a Python program, different threads can run at the same time (and take advantage of multicore)\n",
    "\n",
    "- But... the Python interpreter runs the Python bytecodes sequentially !\n",
    "\n",
    "    - *Terrible* 🐌 for CPU bounded *if the Python interpreter is used a lot* !\n",
    "\n",
    "    - *No problem* for IO bounded !"
   ]
  },
  {
   "cell_type": "markdown",
   "metadata": {
    "slideshow": {
     "slide_type": "slide"
    }
   },
   "source": [
    "## Different parallel strategies\n",
    "\n",
    "### One program, $n$ processes 👩🏼‍🔧 👨🏼‍🔧👩🏼‍🔧 👨🏼‍🔧\n",
    "\n",
    "### Exchange data: \n",
    "\n",
    "Very efficient and no problem with Python!\n",
    "\n",
    "- With MPI: mpi4py and h5py parallel\n",
    "  \n",
    "- multiprocessing\n",
    "\n",
    "- [ZeroMQ](http://zeromq.org/)"
   ]
  },
  {
   "cell_type": "markdown",
   "metadata": {
    "slideshow": {
     "slide_type": "fragment"
    }
   },
   "source": [
    "## 2 other packages for parallel computing with Python\n",
    "\n",
    "- dask\n",
    "- joblib"
   ]
  },
  {
   "cell_type": "markdown",
   "metadata": {
    "slideshow": {
     "slide_type": "slide"
    }
   },
   "source": [
    "# Python for HPC: first *a glue language*\n",
    "\n",
    "Many tools to interact with static languages: \n",
    "\n",
    "&emsp;&emsp;&emsp;&emsp; ctypes, cffi, cython, cppyy, pybind11, f2py, pyo3, ..."
   ]
  },
  {
   "cell_type": "markdown",
   "metadata": {
    "slideshow": {
     "slide_type": "-"
    }
   },
   "source": [
    "Glue together pieces of native code (C, Fortran, C++, Rust, ...) with a nice syntax\n",
    "\n",
    "&emsp;&emsp;&emsp;&emsp; ⇒ Numpy, Scipy, ..."
   ]
  },
  {
   "cell_type": "markdown",
   "metadata": {
    "slideshow": {
     "slide_type": "-"
    }
   },
   "source": [
    "Remarks:\n",
    "\n",
    "- Numpy: great syntax for expressing algorithms, (nearly) as much information as in Fortran\n",
    "\n",
    "- Performance of `a @ b` (Numpy) versus `a * b` (Julia)? "
   ]
  },
  {
   "cell_type": "markdown",
   "metadata": {
    "slideshow": {
     "slide_type": "fragment"
    }
   },
   "source": [
    "&emsp;&emsp;&emsp;&emsp;&emsp;&emsp;&emsp;&emsp; Same! The same library is called! (often OpenBlas or MKL)"
   ]
  },
  {
   "cell_type": "markdown",
   "metadata": {
    "slideshow": {
     "slide_type": "slide"
    }
   },
   "source": [
    "## General principle for perf with Python (not fully valid for PyPy): \n",
    "\n",
    "Don't use too often the Python interpreter (and small Python objects) for computationally demanding tasks."
   ]
  },
  {
   "cell_type": "markdown",
   "metadata": {
    "slideshow": {
     "slide_type": "-"
    }
   },
   "source": [
    "Pure Python \n",
    "\n",
    "&emsp;&emsp;&emsp;&emsp; → Numpy \n",
    "\n",
    "&emsp;&emsp;&emsp;&emsp;&emsp;&emsp;&emsp;&emsp; → Numpy without too many loops (vectorized) \n",
    "\n",
    "&emsp;&emsp;&emsp;&emsp;&emsp;&emsp;&emsp;&emsp;&emsp;&emsp;&emsp;&emsp;→ C extensions"
   ]
  },
  {
   "cell_type": "markdown",
   "metadata": {
    "slideshow": {
     "slide_type": "-"
    }
   },
   "source": [
    "But ⚠️ ⚠️ ⚠️ writting a C extension by hand is **not a good idea** ! ⚠️ ⚠️ ⚠️\n",
    "\n",
    "### *No need to quit the Python language to avoid using too much the Python interpreter* !"
   ]
  },
  {
   "cell_type": "markdown",
   "metadata": {
    "slideshow": {
     "slide_type": "slide"
    }
   },
   "source": [
    "# Tools to \n",
    "\n",
    "- compile Python \n",
    "\n",
    "- write C extensions without writing C\n",
    "\n",
    "Cython, Numba, Pythran, Transonic, PyTorch, ...\n"
   ]
  },
  {
   "cell_type": "markdown",
   "metadata": {
    "slideshow": {
     "slide_type": "slide"
    }
   },
   "source": [
    "# First conclusions\n",
    "\n",
    "- Python great language & ecosystem for sciences & data"
   ]
  },
  {
   "cell_type": "markdown",
   "metadata": {
    "slideshow": {
     "slide_type": "-"
    }
   },
   "source": [
    "- Performance issues, especially for crunching numbers 🔢\n",
    "\n",
    "  *⇒ need to accelerate the \"numerical kernels\"*"
   ]
  },
  {
   "cell_type": "markdown",
   "metadata": {
    "slideshow": {
     "slide_type": "-"
    }
   },
   "source": [
    "- Many good accelerators and compilers for Python-Numpy code\n",
    "\n",
    "  - All have pros and cons!\n",
    "\n",
    "  **⇒ We shouldn't have to write specialized code for one accelerator!**"
   ]
  },
  {
   "cell_type": "markdown",
   "metadata": {
    "slideshow": {
     "slide_type": "-"
    }
   },
   "source": [
    "- Other languages don't replace Python for sciences\n",
    "\n",
    "  - Modern C++ is great and very complementary 💑 with Python\n",
    "  \n",
    "  - Julia is interesting but not the heaven on earth"
   ]
  }
 ],
 "metadata": {
  "kernelspec": {
   "display_name": "Python 3",
   "language": "python",
   "name": "python3"
  },
  "language_info": {
   "codemirror_mode": {
    "name": "ipython",
    "version": 3
   },
   "file_extension": ".py",
   "mimetype": "text/x-python",
   "name": "python",
   "nbconvert_exporter": "python",
   "pygments_lexer": "ipython3",
   "version": "3.7.3"
  }
 },
 "nbformat": 4,
 "nbformat_minor": 2
}
