{
 "cells": [
  {
   "cell_type": "markdown",
   "metadata": {
    "deletable": true,
    "editable": true,
    "slideshow": {
     "slide_type": "slide"
    }
   },
   "source": [
    "# Python training UGA 2017\n",
    "\n",
    "**A training to acquire strong basis in Python to use it efficiently**\n",
    "\n",
    "Pierre Augier (LEGI), Cyrille Bonamy (LEGI), Eric Maldonado (Irstea), Franck Thollard (ISTERRE), Christophe Picard (LJK)\n",
    "\n",
    "# Packaging, documentation, testing (and argparse)\n",
    "\n",
    "Let's write your own package with a command line tool!"
   ]
  },
  {
   "cell_type": "markdown",
   "metadata": {
    "deletable": true,
    "editable": true,
    "slideshow": {
     "slide_type": "slide"
    }
   },
   "source": [
    "## Goal\n",
    "\n",
    "The goal of this session is produce a small package providing a command line application (or actually what you want!).\n",
    "\n",
    "You will have to organize your code in different files in a package."
   ]
  },
  {
   "cell_type": "markdown",
   "metadata": {
    "deletable": true,
    "editable": true,
    "slideshow": {
     "slide_type": "slide"
    }
   },
   "source": [
    "A template projet folder is provided (`pyfiles/mypackuga`). Let's first analyze its content.\n",
    "\n",
    "There are 1 folder (mypackuga) and 4 files:\n",
    "\n",
    "- README.rst\n",
    "\n",
    "  This file is writen in the markup language \"restructuredtext\". It should contain a description of the package and instructions how to install it.\n",
    "\n",
    "- LICENSE.txt\n",
    "\n",
    "  This file is important! Don't forget it in your project. It contains the license.\n",
    "  \n",
    "- setup.cfg\n",
    "\n",
    "  This file contains information on the package (its name, the version, a short description, ...)\n",
    "  \n",
    "- setup.py\n",
    "\n",
    "  This is the file to be executed to install the project.\n",
    "  \n",
    "The directory `mypackuga` is the package. It contains the code."
   ]
  },
  {
   "cell_type": "markdown",
   "metadata": {
    "slideshow": {
     "slide_type": "slide"
    }
   },
   "source": [
    "## Installation\n",
    "\n",
    "Install the package with:\n",
    "\n",
    "```bash\n",
    "cd pyfiles/mypackuga\n",
    "cat README.rst\n",
    "python setup.py develop\n",
    "```\n",
    "\n",
    "The command line utility `mypackuga-raccoon` should be available. Try it!\n",
    "\n",
    "```bash\n",
    "# to get the help\n",
    "mypackuga-raccoon -h\n",
    "# to call the program\n",
    "mypackuga-raccoon\n",
    "# to see where is the corresponding file\n",
    "which mypackuga-raccoon\n",
    "```"
   ]
  },
  {
   "cell_type": "markdown",
   "metadata": {
    "slideshow": {
     "slide_type": "slide"
    }
   },
   "source": [
    "## Documentation of the package\n",
    "\n",
    "- File `README.rst` or `README.md`\n",
    "\n",
    "- Directory `doc` in the root directory\n",
    "\n",
    "- Documentation mainly written in the code (in docstrings)\n",
    "\n",
    "- Automatically generated with the tool [Sphinx](http://www.sphinx-doc.org) (start by running `sphinx-quickstart`)\n",
    "\n",
    "- [Readthedocs](https://readthedocs.org/)\n",
    "\n"
   ]
  },
  {
   "cell_type": "markdown",
   "metadata": {
    "slideshow": {
     "slide_type": "slide"
    }
   },
   "source": [
    "## Testing with pytest\n",
    "\n",
    "- Python files starting with `test_`\n",
    "\n",
    "- Execute the test with the command `pytest` (see also `pytest -h`)"
   ]
  },
  {
   "cell_type": "markdown",
   "metadata": {
    "slideshow": {
     "slide_type": "slide"
    }
   },
   "source": [
    "## Analyze the content of the code\n",
    "\n",
    "Read the content of the files. Try to understand what is written.\n",
    "\n",
    "## Modify the package.\n",
    "\n",
    "Modify the code to use your functions from the command line tool. Use more than one file and `import` statements.\n",
    "\n",
    "Do whatever will be useful for you! Change the names of the package and the command-line application!"
   ]
  }
 ],
 "metadata": {
  "celltoolbar": "Slideshow",
  "kernelspec": {
   "display_name": "Python 3",
   "language": "python",
   "name": "python3"
  },
  "language_info": {
   "codemirror_mode": {
    "name": "ipython",
    "version": 3
   },
   "file_extension": ".py",
   "mimetype": "text/x-python",
   "name": "python",
   "nbconvert_exporter": "python",
   "pygments_lexer": "ipython3",
   "version": "3.7.3"
  }
 },
 "nbformat": 4,
 "nbformat_minor": 2
}
