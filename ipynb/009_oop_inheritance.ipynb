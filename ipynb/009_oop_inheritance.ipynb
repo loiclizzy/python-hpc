{
 "cells": [
  {
   "cell_type": "markdown",
   "metadata": {
    "slideshow": {
     "slide_type": "slide"
    }
   },
   "source": [
    "# Python training UGA 2017\n",
    "\n",
    "**A training to acquire strong basis in Python to use it efficiently**\n",
    "\n",
    "Pierre Augier (LEGI), Cyrille Bonamy (LEGI), Eric Maldonado (Irstea), Franck Thollard (ISTerre), Christophe Picard (LJK), Loïc Huder (ISTerre)\n",
    "\n",
    "# Object-oriented programming: inheritance\n",
    "\n",
    "See https://docs.python.org/3/tutorial/classes.html\n",
    "\n",
    "Python is also a Object-oriented language. Object-oriented programming is very useful and used in many libraries so it is very useful to understand how the simple Object-oriented mechanisms work in Python."
   ]
  },
  {
   "cell_type": "markdown",
   "metadata": {
    "slideshow": {
     "slide_type": "slide"
    }
   },
   "source": [
    "For some problems, Object-oriented programming is a very efficient paradigm. Many libraries use it so it is necessary to understand how it works in Python to really use these libraries.\n",
    "\n",
    "# Concepts\n",
    "\n",
    "## Object\n",
    "An object is an entity that has state and behavior. Objects are the basic elements of object oriented system.\n",
    "\n",
    "## Class\n",
    "Classes are \"families\" of objects. A class describes how are organized its objects and how they work."
   ]
  },
  {
   "cell_type": "markdown",
   "metadata": {
    "slideshow": {
     "slide_type": "slide"
    }
   },
   "source": [
    "## Example of problem: Simulate populations of honeybees\n",
    "\n",
    "<img src=\"https://static.independent.co.uk/s3fs-public/styles/story_large/public/thumbnails/image/2013/06/05/18/web-bees-epa.jpg\" title=\"bee\" alt=\"image bee\" width=\"30%\">\n",
    "\n",
    "#### Hierarchy of honeybees\n",
    "\n",
    "The \"adult\" bees can be:\n",
    "\n",
    "- queen\n",
    "- workers\n",
    "- fertile males\n",
    "\n",
    "Each type of adult bee have different characteristics, behaviors, activities and tasks."
   ]
  },
  {
   "cell_type": "markdown",
   "metadata": {
    "slideshow": {
     "slide_type": "slide"
    }
   },
   "source": [
    "## Class definition\n",
    "A class is a logical entity which contains attributes and have some behavior.  When a class is defined, we need to specify its name, its dependencies (the class inherits from at least one other class), its attributes and its methods."
   ]
  },
  {
   "cell_type": "code",
   "execution_count": 1,
   "metadata": {},
   "outputs": [],
   "source": [
    "class AdultBee(object):\n",
    "    kind = None\n",
    "    limit_age = 50.\n",
    "\n",
    "    def __init__(self, mother, father, tag=None):\n",
    "        self.mother = mother\n",
    "        self.father = father\n",
    "        \n",
    "        if tag is None:\n",
    "            self.tag = (self.mother.tag, self.father.tag)\n",
    "        else:\n",
    "            self.tag = tag\n",
    "        \n",
    "        # age in days\n",
    "        self.age = 0.\n",
    "        self.living = True\n",
    "        \n",
    "    def act_and_envolve(self, duration=1):\n",
    "        \"\"\"Time stepping method\"\"\"\n",
    "        self.age += duration\n",
    "        if self.age > self.limit_age:\n",
    "            self.die()\n",
    "    \n",
    "    def die(self):\n",
    "        self.living = False        "
   ]
  },
  {
   "cell_type": "markdown",
   "metadata": {},
   "source": [
    "The first line states that instances of the class `AdultBee` will be Python objects. The class `AdultBee` inherits from the class `object`.\n",
    "\n",
    "The first line could have been replaced by the less explicit `class AdultBee:`. Actually, in Python 3, the classes that do not inherit explicitly from another class automatically inherit from the class `object`.\n",
    "\n",
    "- `kind` and `limit_age` are **class variables**,\n",
    "- `mother`, `father`, `tag` and `living` are **instance variables**,\n",
    "- `__init__` is a **\"special\" method**,\n",
    "- `act_and_envolve` and `die` are **methods**.\n"
   ]
  },
  {
   "cell_type": "markdown",
   "metadata": {
    "slideshow": {
     "slide_type": "subslide"
    }
   },
   "source": [
    "### Instantiation of a class\n",
    "\n",
    "We can create objects `AdultBee`. We say that we *instantiate objects of the class `AdultBee`*."
   ]
  },
  {
   "cell_type": "code",
   "execution_count": 2,
   "metadata": {},
   "outputs": [],
   "source": [
    "bee0 = AdultBee('mother0', 'father0', tag='0')\n",
    "bee1 = AdultBee('mother1', 'father1', tag='1')\n",
    "\n",
    "bee_second_generation0 = AdultBee(bee0, bee1)\n",
    "bee_second_generation1 = AdultBee(bee0, bee1)\n",
    "\n",
    "bee_third_generation = AdultBee(\n",
    "    bee_second_generation0, bee_second_generation1)\n",
    "\n",
    "bees = [bee0, bee1, bee_second_generation0, bee_second_generation1, bee_third_generation]"
   ]
  },
  {
   "cell_type": "markdown",
   "metadata": {},
   "source": [
    "In this example, we manipulate the notions of class, object (instance), abstraction and encapsulation...\n",
    "\n",
    "#### Syntax to create an object"
   ]
  },
  {
   "cell_type": "code",
   "execution_count": 3,
   "metadata": {},
   "outputs": [],
   "source": [
    "bee2 = AdultBee('mother2', 'father2', tag='2')"
   ]
  },
  {
   "cell_type": "markdown",
   "metadata": {},
   "source": [
    "#### What happens...\n",
    "\n",
    "- the Python object is first created\n",
    "- the object is initialized, i.e. the method `__init__` is automatically called like this (for `bee0`): \n",
    "\n",
    "```python\n",
    "AdultBee.__init__(bee0, 'mother0', 'father0', tag='0')\n",
    "```"
   ]
  },
  {
   "cell_type": "markdown",
   "metadata": {
    "slideshow": {
     "slide_type": "subslide"
    }
   },
   "source": [
    "### Special methods and attributes\n",
    "\n",
    "In Python, methods or attributes that starts with `__` are \"special\". Such methods and attributes are used internally by Python. They define how the class works internally.\n",
    "\n",
    "For example the method `__init__` is automatically called by Python during the instantiation of an object with the arguments used for the instantiation. \n",
    "\n",
    "### Protected methods and attributes (no notion of public, private, virtual as in C++)\n",
    "\n",
    "Attributes and methods whose names start with `_` are said to be \"protected\". It is just a name convention. It tells the users that they should not use these objects directly."
   ]
  },
  {
   "cell_type": "markdown",
   "metadata": {
    "slideshow": {
     "slide_type": "fragment"
    }
   },
   "source": [
    "###  Warning for C++ developers\n",
    "`__init__` is NOT the constructor. The real constructor is `__new__`. This method is called to really create the Python object and it really returns the object.  Usually, we do not need to redefine it.  Python `__init__` and C++ constructor have to be used in very different ways. Only the `__init__` method of the class is automatically called by Python during the instantiation. Nothing like the Russian dolls C++ mechanism. All methods in Python are effectively virtual.\n"
   ]
  },
  {
   "cell_type": "markdown",
   "metadata": {
    "slideshow": {
     "slide_type": "slide"
    }
   },
   "source": [
    "### Use the objects (instances)"
   ]
  },
  {
   "cell_type": "code",
   "execution_count": 4,
   "metadata": {},
   "outputs": [
    {
     "name": "stdout",
     "output_type": "stream",
     "text": [
      "second generation: ('0', '1')\n",
      "third generation;  (('0', '1'), ('0', '1'))\n",
      "warning: consanguinity...\n"
     ]
    }
   ],
   "source": [
    "print('second generation:', bee_second_generation0.tag)\n",
    "print('third generation; ', bee_third_generation.tag)\n",
    "print('warning: consanguinity...')"
   ]
  },
  {
   "cell_type": "code",
   "execution_count": 5,
   "metadata": {},
   "outputs": [
    {
     "name": "stdout",
     "output_type": "stream",
     "text": [
      "After 100 days, no more bees :-(\n"
     ]
    }
   ],
   "source": [
    "# 100 days\n",
    "for i in range(100):\n",
    "    for bee in bees:\n",
    "        bee.act_and_envolve()\n",
    "    bees = [bee for bee in bees if bee.living]\n",
    "        \n",
    "if len(bees) == 0:\n",
    "    print('After 100 days, no more bees :-(')"
   ]
  },
  {
   "cell_type": "markdown",
   "metadata": {
    "slideshow": {
     "slide_type": "slide"
    }
   },
   "source": [
    "## Inheritance"
   ]
  },
  {
   "cell_type": "markdown",
   "metadata": {},
   "source": [
    "To indicate the dependency to another class, we put the parent class in parenthesis in the definition. The class `QueenBee` inherits from the class `AdultBee`"
   ]
  },
  {
   "cell_type": "code",
   "execution_count": 6,
   "metadata": {},
   "outputs": [],
   "source": [
    "class QueenBee(AdultBee):\n",
    "    kind = 'queen'\n",
    "    limit_age = 4*365\n",
    "    \n",
    "    def act_and_envolve(self, duration=1):\n",
    "        \"\"\"Time stepping method\"\"\"\n",
    "        super().act_and_envolve(duration)\n",
    "        print('I am the Queen!')\n",
    "\n",
    "class WorkerBee(AdultBee):\n",
    "    kind = 'worker'\n",
    "    # actually it depends on the season...\n",
    "    limit_age = 6*7\n",
    "    def dance(self):\n",
    "        print('I communicate by dancing')\n",
    "    def make_honey(self):\n",
    "        print('I make honey')"
   ]
  },
  {
   "cell_type": "markdown",
   "metadata": {},
   "source": [
    "- The methods that are not rewritten are automatically inherited from the parent class.\n",
    "- The methods that are rewritten are completely replaced. To use the method of the parent class, it has to be called explicitly (for example with the `super()` function).\n",
    "\n",
    "We see that we do not need to rewrite all methods. For example the method `__init__` of the class `QueenBee` is the method `__init__` of the class `AdultBee`."
   ]
  },
  {
   "cell_type": "markdown",
   "metadata": {
    "slideshow": {
     "slide_type": "subslide"
    }
   },
   "source": [
    "The class `AdultBee` that we defined is also derived from a more generic class that is called `object`. Let's check the content of the class `QueenBee`."
   ]
  },
  {
   "cell_type": "code",
   "execution_count": 7,
   "metadata": {},
   "outputs": [
    {
     "name": "stdout",
     "output_type": "stream",
     "text": [
      "['__class__', '__delattr__', '__dict__', '__dir__', '__doc__', '__eq__', '__format__', '__ge__', '__getattribute__', '__gt__', '__hash__', '__init__', '__init_subclass__', '__le__', '__lt__', '__module__', '__ne__', '__new__', '__reduce__', '__reduce_ex__', '__repr__', '__setattr__', '__sizeof__', '__str__', '__subclasshook__', '__weakref__', 'act_and_envolve', 'age', 'die', 'father', 'kind', 'limit_age', 'living', 'mother', 'tag']\n"
     ]
    }
   ],
   "source": [
    "queen = QueenBee('mother0', 'father0', tag='0')\n",
    "\n",
    "print(dir(queen))"
   ]
  },
  {
   "cell_type": "markdown",
   "metadata": {},
   "source": [
    "All the methods that star with the prefix `__` are inherited from the class `object`. All classes in Python3 inherit from `object`."
   ]
  },
  {
   "cell_type": "code",
   "execution_count": 8,
   "metadata": {},
   "outputs": [
    {
     "name": "stdout",
     "output_type": "stream",
     "text": [
      "I am the Queen!\n"
     ]
    }
   ],
   "source": [
    "queen.act_and_envolve()"
   ]
  },
  {
   "cell_type": "markdown",
   "metadata": {
    "slideshow": {
     "slide_type": "subslide"
    }
   },
   "source": [
    "### `super` function\n",
    "\n",
    "We have used the function `super()` like this to call a function of the parent class:\n",
    "\n",
    "```python\n",
    "super().act_and_envolve(duration)\n",
    "```\n",
    "\n",
    "Remark: the python 2 syntax was more complicated. We would have to write:\n",
    "\n",
    "```python\n",
    "super(QueenBee, self).act_and_envolve(duration)\n",
    "```\n",
    "\n",
    "Remark: we can also call the method explicitly:\n",
    "\n",
    "```\n",
    "AdultBee.act_and_envolve(self, duration)\n",
    "```"
   ]
  },
  {
   "cell_type": "markdown",
   "metadata": {
    "slideshow": {
     "slide_type": "slide"
    }
   },
   "source": [
    "## Remark: the exceptions are classes...\n",
    "\n",
    "We can define our own exceptions classes inheriting from an exception class."
   ]
  },
  {
   "cell_type": "code",
   "execution_count": 9,
   "metadata": {},
   "outputs": [
    {
     "name": "stdout",
     "output_type": "stream",
     "text": [
      "A ValueError was raised\n"
     ]
    }
   ],
   "source": [
    "class MyValueError(ValueError):\n",
    "    pass\n",
    "\n",
    "def myfunc():\n",
    "    raise MyValueError('oops')\n",
    "    \n",
    "try:\n",
    "    myfunc()\n",
    "except OSError:\n",
    "    print('An OSError was raised')\n",
    "except ValueError:\n",
    "    print('A ValueError was raised')"
   ]
  },
  {
   "cell_type": "markdown",
   "metadata": {
    "slideshow": {
     "slide_type": "slide"
    }
   },
   "source": [
    "## Static methods and class methods (advanced)"
   ]
  },
  {
   "cell_type": "markdown",
   "metadata": {},
   "source": [
    "### \"Class methods\"\n",
    "\n",
    "When we simply define a method in a class, it is a instance method, i.e. the first argument of the method (`self`) points toward the instance used to call the method. This is the normal and most common mechanism.\n",
    "\n",
    "We could also define methods that work for the class using the decorator `@classmethod`:"
   ]
  },
  {
   "cell_type": "code",
   "execution_count": 10,
   "metadata": {},
   "outputs": [
    {
     "name": "stdout",
     "output_type": "stream",
     "text": [
      "The role for this class is student.\n"
     ]
    }
   ],
   "source": [
    "class Person(object):\n",
    "    def __init__(self):\n",
    "        pass\n",
    "\n",
    "class Student(Person):\n",
    "    role = 'student'\n",
    "\n",
    "    @classmethod\n",
    "    def show_role(cls):\n",
    "        print('The role for this class is ' +\n",
    "              cls.role + '.')\n",
    "\n",
    "Student.show_role()"
   ]
  },
  {
   "cell_type": "markdown",
   "metadata": {
    "slideshow": {
     "slide_type": "subslide"
    }
   },
   "source": [
    "### \"Static methods\" and class variables\n",
    "\n",
    "For some situation we don't even need to explicitly use the class or an instance. We can use static methods."
   ]
  },
  {
   "cell_type": "code",
   "execution_count": 11,
   "metadata": {},
   "outputs": [],
   "source": [
    "class IdPerson(Person):\n",
    "    count = 0\n",
    "    def __init__(self, name):\n",
    "        self.name = name\n",
    "        self.id = IdPerson.count\n",
    "        IdPerson.count += 1\n",
    "        \n",
    "    @staticmethod\n",
    "    def show_nb_person():\n",
    "        print('Number of persons created: ', IdPerson.count)"
   ]
  },
  {
   "cell_type": "code",
   "execution_count": 12,
   "metadata": {},
   "outputs": [
    {
     "name": "stdout",
     "output_type": "stream",
     "text": [
      "Number of persons created:  4\n"
     ]
    }
   ],
   "source": [
    "p1 = IdPerson('Maya')\n",
    "p2 = IdPerson('Cyrille')\n",
    "p3 = IdPerson('Olivier')\n",
    "p4 = IdPerson('Franck')\n",
    "\n",
    "IdPerson.show_nb_person()"
   ]
  }
 ],
 "metadata": {
  "celltoolbar": "Diaporama",
  "kernelspec": {
   "display_name": "Python 3",
   "language": "python",
   "name": "python3"
  },
  "language_info": {
   "codemirror_mode": {
    "name": "ipython",
    "version": 3
   },
   "file_extension": ".py",
   "mimetype": "text/x-python",
   "name": "python",
   "nbconvert_exporter": "python",
   "pygments_lexer": "ipython3",
   "version": "3.7.3"
  }
 },
 "nbformat": 4,
 "nbformat_minor": 2
}
