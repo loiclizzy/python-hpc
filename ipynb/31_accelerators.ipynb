{
 "cells": [
  {
   "cell_type": "markdown",
   "metadata": {},
   "source": [
    "# Python accelerators"
   ]
  },
  {
   "cell_type": "markdown",
   "metadata": {
    "slideshow": {
     "slide_type": "slide"
    }
   },
   "source": [
    "## General principle for perf with Python (not fully valid for PyPy): \n",
    "\n",
    "Don't use too often the Python interpreter (and small Python objects) for computationally demanding tasks."
   ]
  },
  {
   "cell_type": "markdown",
   "metadata": {
    "slideshow": {
     "slide_type": "-"
    }
   },
   "source": [
    "Pure Python \n",
    "\n",
    "&emsp;&emsp;&emsp;&emsp; → Numpy \n",
    "\n",
    "&emsp;&emsp;&emsp;&emsp;&emsp;&emsp;&emsp;&emsp; → Numpy without too many loops (vectorized) \n",
    "\n",
    "&emsp;&emsp;&emsp;&emsp;&emsp;&emsp;&emsp;&emsp;&emsp;&emsp;&emsp;&emsp;→ C extensions"
   ]
  },
  {
   "cell_type": "markdown",
   "metadata": {
    "slideshow": {
     "slide_type": "-"
    }
   },
   "source": [
    "But ⚠️ ⚠️ ⚠️ writting a C extension by hand is **not a good idea** ! ⚠️ ⚠️ ⚠️\n",
    "\n",
    "### *No need to quit the Python language to avoid using too much the Python interpreter* !"
   ]
  },
  {
   "cell_type": "markdown",
   "metadata": {
    "slideshow": {
     "slide_type": "slide"
    }
   },
   "source": [
    "# Tools to \n",
    "\n",
    "- compile Python \n",
    "\n",
    "- write C extensions without writing C\n",
    "\n",
    "Cython, Numba, Pythran, Transonic, ...\n"
   ]
  },
  {
   "cell_type": "raw",
   "metadata": {
    "slideshow": {
     "slide_type": "slide"
    }
   },
   "source": [
    "<div align=\"middle\">\n",
    "<img src=\"./fig/logo_cython.jpg\"  style=\"width: 30%\">\n",
    "</div>"
   ]
  },
  {
   "cell_type": "markdown",
   "metadata": {
    "slideshow": {
     "slide_type": "-"
    }
   },
   "source": [
    "- Langage: superset of Python\n",
    "\n",
    "- A great mix of Python / C / CPython C API! \n",
    "\n",
    "  Very powerfull but a tool for experts!\n",
    "\n",
    "- Easy to study where the interpreter is used (`cython --annotate`).\n",
    "\n",
    "- Very mature\n",
    "\n",
    "- Now able to use Pythran internally..."
   ]
  },
  {
   "cell_type": "markdown",
   "metadata": {
    "slideshow": {
     "slide_type": "-"
    }
   },
   "source": [
    "My experience: large Cython extensions difficult to maintain"
   ]
  },
  {
   "cell_type": "markdown",
   "metadata": {
    "slideshow": {
     "slide_type": "slide"
    }
   },
   "source": [
    "## Numba: (per-method) JIT for Python-Numpy code"
   ]
  },
  {
   "cell_type": "raw",
   "metadata": {},
   "source": [
    "<div align=\"middle\">\n",
    "<img src=\"./fig/logo_numba.png\"  style=\"width: 18%\">\n",
    "</div>"
   ]
  },
  {
   "cell_type": "markdown",
   "metadata": {
    "slideshow": {
     "slide_type": "-"
    }
   },
   "source": [
    "- Very simple to use (just add few decorators) 🙂"
   ]
  },
  {
   "cell_type": "code",
   "execution_count": 6,
   "metadata": {},
   "outputs": [],
   "source": [
    "from numba import jit\n",
    "\n",
    "@jit\n",
    "def myfunc(x):\n",
    "    return x**2"
   ]
  },
  {
   "cell_type": "markdown",
   "metadata": {
    "slideshow": {
     "slide_type": "-"
    }
   },
   "source": [
    "- \"nopython\" mode (fast and no GIL) 🙂\n",
    "\n",
    "- Also a \"python\" mode 🙂\n",
    "\n",
    "- GPU and Cupy 😀\n",
    "\n",
    "- Methods (of classes) 🙂"
   ]
  },
  {
   "cell_type": "markdown",
   "metadata": {
    "slideshow": {
     "slide_type": "slide"
    }
   },
   "source": [
    "## Python decorators"
   ]
  },
  {
   "cell_type": "code",
   "execution_count": 7,
   "metadata": {},
   "outputs": [],
   "source": [
    "def mydecorator(func):\n",
    "    # do something with the function\n",
    "    print(func)\n",
    "    # return a(nother) function\n",
    "    return func"
   ]
  },
  {
   "cell_type": "code",
   "execution_count": 8,
   "metadata": {},
   "outputs": [
    {
     "name": "stdout",
     "output_type": "stream",
     "text": [
      "<function myfunc at 0x7fc5bd76f378>\n"
     ]
    }
   ],
   "source": [
    "@mydecorator\n",
    "def myfunc(x):\n",
    "    return x**2"
   ]
  },
  {
   "cell_type": "markdown",
   "metadata": {},
   "source": [
    "This mysterious syntax with `@` is just syntaxic sugar for:"
   ]
  },
  {
   "cell_type": "code",
   "execution_count": 9,
   "metadata": {},
   "outputs": [
    {
     "name": "stdout",
     "output_type": "stream",
     "text": [
      "<function myfunc at 0x7fc5bd76f598>\n"
     ]
    }
   ],
   "source": [
    "def myfunc(x):\n",
    "    return x**2\n",
    "\n",
    "myfunc = mydecorator(myfunc)"
   ]
  },
  {
   "cell_type": "markdown",
   "metadata": {
    "slideshow": {
     "slide_type": "slide"
    }
   },
   "source": [
    "## Numba: (per-method) JIT for Python-Numpy code"
   ]
  },
  {
   "cell_type": "raw",
   "metadata": {},
   "source": [
    "<div align=\"middle\">\n",
    "<img src=\"./fig/logo_numba.png\"  style=\"width: 18%\">\n",
    "</div>"
   ]
  },
  {
   "cell_type": "markdown",
   "metadata": {
    "slideshow": {
     "slide_type": "-"
    }
   },
   "source": [
    "- Sometimes not as much efficient as it could be 🙁\n",
    "\n",
    "  (usually slower than Pythran / Julia / C++)\n",
    "\n",
    "<p class=\"small\"><br></p>\n",
    "\n",
    "- Only JIT 🙁\n",
    "\n",
    "<p class=\"small\"><br></p>\n",
    "\n",
    "- Not good to optimize high-level NumPy code 🙁"
   ]
  },
  {
   "cell_type": "markdown",
   "metadata": {
    "slideshow": {
     "slide_type": "slide"
    }
   },
   "source": [
    "## Pythran: AOT compiler for module using Python-Numpy\n",
    "\n",
    "Transpiles Python to efficient C++"
   ]
  },
  {
   "cell_type": "raw",
   "metadata": {},
   "source": [
    "<div align=\"middle\">\n",
    "<img src=\"./fig/logo_Pythran.jpeg\"  style=\"width: 15%; margin-top: -20px;\">\n",
    "</div>"
   ]
  },
  {
   "cell_type": "markdown",
   "metadata": {
    "slideshow": {
     "slide_type": "-"
    }
   },
   "source": [
    "- Good to optimize *high-level NumPy code* 😎\n",
    "\n",
    "- Extensions never use the Python interpreter (pure C++ ⇒ no GIL) 🙂\n",
    "\n",
    "- Can produce C++ that can be used without Python\n",
    "\n",
    "- Usually **very efficient** (sometimes faster than Julia)\n",
    "\n",
    "    - High and low level optimizations\n",
    "    \n",
    "      (Python optimizations and C++ compilation)\n",
    "\n",
    "    - SIMD 🤩 (with [xsimd](https://github.com/QuantStack/xsimd)) \n",
    "\n",
    "    - Understand OpenMP instructions 🤗 !\n",
    "\n",
    "- Can [use and make PyCapsules](https://serge-sans-paille.github.io/pythran-stories/the-capsule-corporation.html) (functions operating in the native word) 🙂"
   ]
  },
  {
   "cell_type": "markdown",
   "metadata": {
    "slideshow": {
     "slide_type": "slide"
    }
   },
   "source": [
    "### High level transformations"
   ]
  },
  {
   "cell_type": "code",
   "execution_count": 10,
   "metadata": {
    "slideshow": {
     "slide_type": "skip"
    }
   },
   "outputs": [],
   "source": [
    "from black import format_str, FileMode\n",
    "from pythran.toolchain import generate_py\n",
    "import gast as ast\n",
    "import astunparse\n",
    "\n",
    "def print_optimized(src):    \n",
    "    optimized_py = generate_py(\"bar\", src)\n",
    "    tree = ast.parse(optimized_py)\n",
    "    for node in tree.body:\n",
    "        if isinstance(node, ast.FunctionDef):\n",
    "            fdef = node\n",
    "            fdef.body = [node for node in fdef.body[:-1] if not isinstance(node, ast.Pass)] + [fdef.body[-1]]\n",
    "    optimized_code = astunparse.unparse(tree)\n",
    "    print(format_str(optimized_code, mode=FileMode(line_length=82)))\n"
   ]
  },
  {
   "cell_type": "code",
   "execution_count": 11,
   "metadata": {
    "slideshow": {
     "slide_type": "-"
    }
   },
   "outputs": [
    {
     "name": "stdout",
     "output_type": "stream",
     "text": [
      "def f(x):\n",
      "    return 0\n",
      "\n"
     ]
    }
   ],
   "source": [
    "# calcul of range\n",
    "print_optimized(\"\"\"\n",
    "def f(x):\n",
    "    y = 1 if x else 2\n",
    "    return y == 3\n",
    "\"\"\")"
   ]
  },
  {
   "cell_type": "code",
   "execution_count": 12,
   "metadata": {},
   "outputs": [
    {
     "name": "stdout",
     "output_type": "stream",
     "text": [
      "def foo(a):\n",
      "    return a + 1\n",
      "\n",
      "\n",
      "def bar(b, c):\n",
      "    return ((b + 1), ((2 * c) + 1))\n",
      "\n"
     ]
    }
   ],
   "source": [
    "# inlining\n",
    "print_optimized(\"\"\"\n",
    "def foo(a):\n",
    "    return  a + 1\n",
    "def bar(b, c):\n",
    "    return foo(b), foo(2 * c)\n",
    "\"\"\")"
   ]
  },
  {
   "cell_type": "code",
   "execution_count": 13,
   "metadata": {
    "slideshow": {
     "slide_type": "slide"
    }
   },
   "outputs": [
    {
     "name": "stdout",
     "output_type": "stream",
     "text": [
      "def foo():\n",
      "    ret = 0\n",
      "    ret += 1\n",
      "    ret += 2\n",
      "    ret += 3\n",
      "    ret += 2\n",
      "    ret += 4\n",
      "    ret += 6\n",
      "    return ret\n",
      "\n"
     ]
    }
   ],
   "source": [
    "# unroll loops\n",
    "print_optimized(\"\"\"\n",
    "def foo():\n",
    "    ret = 0\n",
    "    for i in range(1, 3):\n",
    "        for j in range(1, 4):\n",
    "            ret += i * j\n",
    "    return ret\n",
    "\"\"\")"
   ]
  },
  {
   "cell_type": "code",
   "execution_count": 14,
   "metadata": {
    "slideshow": {
     "slide_type": "slide"
    }
   },
   "outputs": [
    {
     "name": "stdout",
     "output_type": "stream",
     "text": [
      "import functools as __pythran_import_functools\n",
      "\n",
      "\n",
      "def fib(n):\n",
      "    return n if (n < 2) else (fib((n - 1)) + fib((n - 2)))\n",
      "\n",
      "\n",
      "def bar():\n",
      "    return [1, 1, 21, 6765]\n",
      "\n",
      "\n",
      "def bar_lambda0(i):\n",
      "    return fib(i)\n",
      "\n"
     ]
    }
   ],
   "source": [
    "# constant propagation\n",
    "print_optimized(\"\"\"\n",
    "def fib(n):\n",
    "    return n if n< 2 else fib(n-1) + fib(n-2)\n",
    "    \n",
    "def bar(): \n",
    "    return [fib(i) for i in [1, 2, 8, 20]]\n",
    "\"\"\")"
   ]
  },
  {
   "cell_type": "code",
   "execution_count": 15,
   "metadata": {
    "slideshow": {
     "slide_type": "slide"
    }
   },
   "outputs": [
    {
     "name": "stdout",
     "output_type": "stream",
     "text": [
      "import numpy as __pythran_import_numpy\n",
      "\n",
      "\n",
      "def wsum(v, w, x, y, z):\n",
      "    return __builtin__.sum(\n",
      "        ((v * 0.1), (w * 0.2), (x * 0.3), (y * 0.2), (z * 0.1))\n",
      "    )\n",
      "\n"
     ]
    }
   ],
   "source": [
    "# advanced transformations\n",
    "print_optimized(\"\"\"\n",
    "import numpy as np\n",
    "def wsum(v, w, x, y, z):\n",
    "    return sum(np.array([v, w, x, y, z]) * (.1, .2, .3, .2, .1))\n",
    "\"\"\")"
   ]
  },
  {
   "cell_type": "markdown",
   "metadata": {
    "slideshow": {
     "slide_type": "slide"
    }
   },
   "source": [
    "## Pythran: AOT compiler for module using Python-Numpy\n",
    "\n",
    "- Compile only full modules (⇒ refactoring needed 🙁)"
   ]
  },
  {
   "cell_type": "markdown",
   "metadata": {
    "slideshow": {
     "slide_type": "-"
    }
   },
   "source": [
    "- Only \"nopython\" mode\n",
    "\n",
    "    * limited to a subset of Python\n",
    "    \n",
    "        - only homogeneous list / dict 🤷‍♀️\n",
    "        - no methods (of classes) 😢 and user-defined class\n",
    "    \n",
    "    * limited to few extension packages (Numpy + bits of Scipy)\n",
    "    \n",
    "    * pythranized functions can't call Python functions"
   ]
  },
  {
   "cell_type": "markdown",
   "metadata": {
    "slideshow": {
     "slide_type": "-"
    }
   },
   "source": [
    "- No JIT: need types (written manually in comments)\n",
    "\n",
    "- Lengthy ⌛️ and memory intensive compilations (especially with gcc, less with clang)\n",
    "\n",
    "- Debugging 🐜 Pythran requires C++ skills!\n",
    "\n",
    "- No GPU (maybe with [OpenMP 4](https://www.openmp.org/updates/openmp-accelerator-support-gpus/)?)\n",
    "\n",
    "- <img src=\"./fig/logo_intel.png\" alt=\"Intel\" align=\"left\" style=\"width: 7%; margin-bottom: 2px; margin-right: 5px;\"> compilers unable to compile Pythran C++11 👎"
   ]
  },
  {
   "cell_type": "markdown",
   "metadata": {
    "slideshow": {
     "slide_type": "slide"
    }
   },
   "source": [
    "# First conclusions\n",
    "\n",
    "- Python great language & ecosystem for sciences & data"
   ]
  },
  {
   "cell_type": "markdown",
   "metadata": {
    "slideshow": {
     "slide_type": "-"
    }
   },
   "source": [
    "- Performance issues, especially for crunching numbers 🔢\n",
    "\n",
    "  *⇒ need to accelerate the \"numerical kernels\"*"
   ]
  },
  {
   "cell_type": "markdown",
   "metadata": {
    "slideshow": {
     "slide_type": "-"
    }
   },
   "source": [
    "- Many good accelerators and compilers for Python-Numpy code\n",
    "\n",
    "  - All have pros and cons!\n",
    "\n",
    "  **⇒ We shouldn't have to write specialized code for one accelerator!**"
   ]
  },
  {
   "cell_type": "markdown",
   "metadata": {
    "slideshow": {
     "slide_type": "slide"
    }
   },
   "source": [
    "# Make your numerical Python code fly at transonic speed 🚀 !\n",
    "\n",
    "## Transonic is landing 🛬 !\n",
    "\n",
    "*Pure Python package (>= 3.6) to easily accelerate modern Python-Numpy code with different accelerators*\n",
    "\n",
    "**Work in progress!** Current state: one backend based on Pythran!"
   ]
  },
  {
   "cell_type": "markdown",
   "metadata": {},
   "source": [
    "<div align=\"middle\">\n",
    "    <a href=\"https://transonic.readthedocs.io\">https://transonic.readthedocs.io</a>    \n",
    "</div>"
   ]
  },
  {
   "cell_type": "markdown",
   "metadata": {
    "slideshow": {
     "slide_type": "-"
    }
   },
   "source": [
    "- Keep your Python-Numpy code clean and \"natural\" 🧘\n",
    "\n",
    "- Clean type annotations (🐍 3)\n",
    "\n",
    "- Easily mix Python code and compiled functions\n",
    "\n",
    "- JIT based on AOT compilers\n",
    "\n",
    "- Methods (of classes) and blocks of code\n"
   ]
  },
  {
   "cell_type": "markdown",
   "metadata": {
    "slideshow": {
     "slide_type": "slide"
    }
   },
   "source": [
    "## Transonic: examples from real-life packages\n",
    "\n",
    "- JIT (`@jit`)\n",
    "\n",
    "  [fluidsim/solvers/plate2d/output/correlations_freq.py](https://bitbucket.org/fluiddyn/fluidsim/src/default/fluidsim/solvers/plate2d/output/correlations_freq.py)\n",
    "\n",
    "- AOT compilation for functions and methods (`@boost`)\n",
    "\n",
    "  [fluidfft/fft3d/operators.py](https://bitbucket.org/fluiddyn/fluidfft/src/default/fluidfft/fft3d/operators.py)\n",
    "\n",
    "- Blocks of code (with `if ts.is_transpiled:`)\n",
    "\n",
    "  [fluidsim/base/time_stepping/pseudo_spect.py](https://bitbucket.org/fluiddyn/fluidsim/src/default/fluidsim/base/time_stepping/pseudo_spect.py)\n",
    "  \n",
    "- Parallelism with a class (adapted from Olivier Borderies)\n",
    "\n",
    "  [omp/tsp.py](https://gitlab.com/paugier/tsp-pythran/blob/fluid-omp/tsp.py) (OpenMP) and\n",
    "  [tsp_concurrent.py](https://gitlab.com/paugier/tsp-pythran/blob/fluid/tsp_concurrent.py) (concurrent - threads)\n",
    "  \n",
    "  Also compatible with MPI!\n",
    " \n",
    "Works also well in *simple scripts* and *IPython / Jupyter*."
   ]
  },
  {
   "cell_type": "markdown",
   "metadata": {
    "slideshow": {
     "slide_type": "slide"
    }
   },
   "source": [
    "## Transonic: how does it work?\n",
    "\n",
    "- AST analyses (using [Beniget](https://github.com/serge-sans-paille/beniget), no import at compilation time)"
   ]
  },
  {
   "cell_type": "code",
   "execution_count": 24,
   "metadata": {},
   "outputs": [
    {
     "name": "stdout",
     "output_type": "stream",
     "text": [
      "Beniget is a great_tool\n"
     ]
    }
   ],
   "source": [
    "# abstract syntax tree\n",
    "import ast\n",
    "tree = ast.parse(\"great_tool = 'Beniget'\")\n",
    "assign = tree.body[0]\n",
    "print(f\"{assign.value.s} is a {assign.targets[0].id}\")"
   ]
  },
  {
   "cell_type": "markdown",
   "metadata": {
    "slideshow": {
     "slide_type": "-"
    }
   },
   "source": [
    "- Write the (Pythran) files when needed\n",
    "\n",
    "- Compile the (Pythran) files when needed\n",
    "\n",
    "- Use the fast solutions when available"
   ]
  },
  {
   "cell_type": "markdown",
   "metadata": {
    "slideshow": {
     "slide_type": "slide"
    }
   },
   "source": [
    "# Cupy\n",
    "\n",
    "https://cupy.chainer.org/\n",
    "\n",
    "Numpy API executed on GPU (Cuda)"
   ]
  },
  {
   "cell_type": "markdown",
   "metadata": {
    "slideshow": {
     "slide_type": "slide"
    }
   },
   "source": [
    "# PyTorch\n",
    "\n",
    "https://pytorch.org/"
   ]
  }
 ],
 "metadata": {
  "kernelspec": {
   "display_name": "Python 3",
   "language": "python",
   "name": "python3"
  },
  "language_info": {
   "codemirror_mode": {
    "name": "ipython",
    "version": 3
   },
   "file_extension": ".py",
   "mimetype": "text/x-python",
   "name": "python",
   "nbconvert_exporter": "python",
   "pygments_lexer": "ipython3",
   "version": "3.7.3"
  }
 },
 "nbformat": 4,
 "nbformat_minor": 2
}
