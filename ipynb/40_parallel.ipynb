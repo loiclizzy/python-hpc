{
 "cells": [
  {
   "cell_type": "markdown",
   "metadata": {
    "slideshow": {
     "slide_type": "slide"
    }
   },
   "source": [
    "# Parallel computing (CPU bounded)\n",
    "\n",
    "Pierre Augier (LEGI), Cyrille Bonamy (LEGI), Eric Maldonado (Irstea), Franck Thollard (ISTerre), Christophe Picard (LJK), Loïc Huder (ISTerre)\n"
   ]
  },
  {
   "cell_type": "markdown",
   "metadata": {
    "slideshow": {
     "slide_type": "slide"
    }
   },
   "source": [
    "# Parallelism\n",
    "\n",
    "## Hardware: \n",
    "\n",
    "- Multicore CPU\n",
    "\n",
    "- Multi nodes super computers (MPI)\n",
    "\n",
    "- GPU (Nvidia: Cuda, Cupy) / Intel Xeon Phi\n",
    "\n",
    "<p class=\"small\"><br></p>\n",
    "\n",
    "## Different problems\n",
    "\n",
    "- CPU bounded (need to use cores at the same time)\n",
    "\n",
    "- IO bounded (wait for IO)"
   ]
  },
  {
   "cell_type": "markdown",
   "metadata": {
    "slideshow": {
     "slide_type": "slide"
    }
   },
   "source": [
    "## Different parallel strategies\n",
    "\n",
    "### One process split in light subprocesses called threads 👩🏼‍🔧 👨🏼‍🔧👩🏼‍🔧 👨🏼‍🔧\n",
    "\n",
    "- handled by the OS\n",
    "\n",
    "- share memory and can use at the same time different CPU cores\n",
    "\n",
    "How?\n",
    "\n",
    "- OpenMP (Natively in C / C++ / Fortran. For Python: Pythran, Cython, ...)\n",
    "\n",
    "- In Python: `threading` and `concurrent.futures`"
   ]
  },
  {
   "cell_type": "markdown",
   "metadata": {
    "slideshow": {
     "slide_type": "fragment"
    }
   },
   "source": [
    "**⚠️ in Python, one interpreter per process (~) and the Global Interpreter Lock (GIL)...**\n",
    "\n",
    "- In a Python program, different threads can run at the same time (and take advantage of multicore)\n",
    "\n",
    "- But... the Python interpreter runs the Python bytecodes sequentially !\n",
    "\n",
    "    - *Terrible* 🐌 for CPU bounded *if the Python interpreter is used a lot* !\n",
    "\n",
    "    - *No problem* for IO bounded !"
   ]
  },
  {
   "cell_type": "markdown",
   "metadata": {
    "slideshow": {
     "slide_type": "slide"
    }
   },
   "source": [
    "## Different parallel strategies\n",
    "\n",
    "### One program, $n$ processes 👩🏼‍🔧 👨🏼‍🔧👩🏼‍🔧 👨🏼‍🔧\n",
    "\n",
    "### Exchange data: \n",
    "\n",
    "Very efficient and no problem with Python!\n",
    "\n",
    "- With MPI: mpi4py and h5py parallel\n",
    "  \n",
    "- multiprocessing\n",
    "\n",
    "- [ZeroMQ](http://zeromq.org/)"
   ]
  },
  {
   "cell_type": "markdown",
   "metadata": {
    "slideshow": {
     "slide_type": "fragment"
    }
   },
   "source": [
    "## 2 other packages for parallel computing with Python\n",
    "\n",
    "- dask\n",
    "- joblib"
   ]
  },
  {
   "cell_type": "markdown",
   "metadata": {
    "slideshow": {
     "slide_type": "slide"
    }
   },
   "source": [
    "# Code examples\n",
    "\n",
    "## Target algorithms : \n",
    "\n",
    "  - computes the first prime number (with a **very** brute force algorithm)\n",
    "  - given a set of number, computes the distance map between each number\n",
    "  - computes for a set of number, its factors\n",
    " \n",
    "## Solutions\n",
    "\n",
    "- multiprocessing (map)\n",
    "- multiprocessing (starmap)\n",
    "- concurent.futures \n",
    "- ..."
   ]
  }
 ],
 "metadata": {
  "celltoolbar": "Slideshow",
  "kernelspec": {
   "display_name": "Python 3",
   "language": "python",
   "name": "python3"
  },
  "language_info": {
   "codemirror_mode": {
    "name": "ipython",
    "version": 3
   },
   "file_extension": ".py",
   "mimetype": "text/x-python",
   "name": "python",
   "nbconvert_exporter": "python",
   "pygments_lexer": "ipython3",
   "version": "3.7.3"
  }
 },
 "nbformat": 4,
 "nbformat_minor": 2
}
