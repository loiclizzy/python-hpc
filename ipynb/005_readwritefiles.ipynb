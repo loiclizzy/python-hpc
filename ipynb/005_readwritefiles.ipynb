{
 "cells": [
  {
   "cell_type": "markdown",
   "metadata": {
    "slideshow": {
     "slide_type": "slide"
    }
   },
   "source": [
    "# Python training UGA 2017\n",
    "\n",
    "**A training to acquire strong basis in Python to use it efficiently**\n",
    "\n",
    "Pierre Augier (LEGI), Cyrille Bonamy (LEGI), Eric Maldonado (Irstea), Franck Thollard (ISTerre), Christophe Picard (LJK), Loïc Huder (ISTerre)\n",
    "\n",
    "# Read / write files"
   ]
  },
  {
   "cell_type": "markdown",
   "metadata": {
    "slideshow": {
     "slide_type": "slide"
    }
   },
   "source": [
    "## Read / write files\n",
    "\n",
    "There are a lot of specialized tools to open specialized files (images, xml, csv, hdf5, netcdf, etc.). Here we focus on the low-level general method to open files. \n",
    "\n",
    "### [`open` built-in function](https://docs.python.org/3/library/functions.html#open) and file object"
   ]
  },
  {
   "cell_type": "code",
   "execution_count": 1,
   "metadata": {},
   "outputs": [
    {
     "name": "stdout",
     "output_type": "stream",
     "text": [
      "\n",
      "print('Hello world')\n",
      "\n",
      "name = 'Pierre'\n",
      "print('My name is ' + name)\n",
      "\n"
     ]
    }
   ],
   "source": [
    "file = open('../pyfiles/helloworld.py')\n",
    "txt = file.read()\n",
    "file.close()\n",
    "print(txt)"
   ]
  },
  {
   "cell_type": "markdown",
   "metadata": {
    "slideshow": {
     "slide_type": "slide"
    }
   },
   "source": [
    "But what if something weird happens when the file is open (e.g. a division by O) ? \n",
    "\n",
    "-> Exception is raised that could be catch and run some code that is not aware of the opening \n",
    "file.\n",
    "\n",
    "-> The file remains open "
   ]
  },
  {
   "cell_type": "markdown",
   "metadata": {
    "slideshow": {
     "slide_type": "subslide"
    }
   },
   "source": [
    "### Context, `with` keyword\n",
    "\n",
    "For such objects that need to be closed, it is a good practice to use the keyword `with` (THIS IS MUCH BETTER than using the close function, USE `with`!). Like this, we are sure that the file will be closed even if there is an error:"
   ]
  },
  {
   "cell_type": "code",
   "execution_count": 2,
   "metadata": {},
   "outputs": [
    {
     "name": "stdout",
     "output_type": "stream",
     "text": [
      "\n",
      "print('Hello world')\n",
      "\n",
      "name = 'Pierre'\n",
      "print('My name is ' + name)\n",
      "\n"
     ]
    }
   ],
   "source": [
    "with open('../pyfiles/helloworld.py') as file:\n",
    "    txt = file.read()\n",
    "print(txt)"
   ]
  },
  {
   "cell_type": "markdown",
   "metadata": {
    "slideshow": {
     "slide_type": "subslide"
    }
   },
   "source": [
    "### Loop over lines"
   ]
  },
  {
   "cell_type": "code",
   "execution_count": 3,
   "metadata": {},
   "outputs": [
    {
     "name": "stdout",
     "output_type": "stream",
     "text": [
      "line ?: \n",
      "line ?: print('Hello world')\n",
      "line ?: \n",
      "line ?: name = 'Pierre'\n",
      "line ?: print('My name is ' + name)\n"
     ]
    }
   ],
   "source": [
    "with open('../pyfiles/helloworld.py') as file:\n",
    "    for line in file:\n",
    "        print(f'line ?: ' + line.strip())"
   ]
  },
  {
   "cell_type": "markdown",
   "metadata": {},
   "source": [
    "And now using `enumerate` to get the index of the line: "
   ]
  },
  {
   "cell_type": "code",
   "execution_count": 4,
   "metadata": {},
   "outputs": [
    {
     "name": "stdout",
     "output_type": "stream",
     "text": [
      "line  0: \n",
      "line  1: print('Hello world')\n",
      "line  2: \n",
      "line  3: name = 'Pierre'\n",
      "line  4: print('My name is ' + name)\n"
     ]
    }
   ],
   "source": [
    "with open('../pyfiles/helloworld.py') as file:\n",
    "    for i, line in enumerate(file):\n",
    "        print(f'line {i:2d}: {line.strip()}')"
   ]
  },
  {
   "cell_type": "markdown",
   "metadata": {
    "slideshow": {
     "slide_type": "subslide"
    }
   },
   "source": [
    "### Options of the built-in function open (read, write, append)"
   ]
  },
  {
   "cell_type": "code",
   "execution_count": 5,
   "metadata": {},
   "outputs": [],
   "source": [
    "from pathlib import Path\n",
    "Path(\"tmp\").mkdir(exist_ok=True)"
   ]
  },
  {
   "cell_type": "code",
   "execution_count": 6,
   "metadata": {},
   "outputs": [
    {
     "name": "stdout",
     "output_type": "stream",
     "text": [
      "sam;cat;2\n",
      "liloo;lion;2\n",
      "peter;panda;5\n",
      "\n"
     ]
    }
   ],
   "source": [
    "# write data in a file\n",
    "\n",
    "with open('tmp/zoo.txt', 'w') as file_zoo:\n",
    "    file_zoo.write('sam;cat;2\\n')\n",
    "    file_zoo.write('liloo;lion;2\\n')\n",
    "    \n",
    "with open('tmp/zoo.txt', 'a') as file_zoo:\n",
    "    file_zoo.write('peter;panda;5\\n')    \n",
    "\n",
    "with open('tmp/zoo.txt') as file_zoo:\n",
    "    print(file_zoo.read())"
   ]
  },
  {
   "cell_type": "code",
   "execution_count": 7,
   "metadata": {},
   "outputs": [
    {
     "name": "stdout",
     "output_type": "stream",
     "text": [
      "sam;cat;2\n",
      "\n",
      "liloo;lion;2\n",
      "peter;panda;5\n",
      "\n"
     ]
    }
   ],
   "source": [
    "with open('tmp/zoo.txt', 'r') as file_zoo:\n",
    "    print(file_zoo.readline())\n",
    "    print(file_zoo.read())"
   ]
  },
  {
   "cell_type": "markdown",
   "metadata": {},
   "source": [
    "Remark: difference `write` and `print`."
   ]
  },
  {
   "cell_type": "markdown",
   "metadata": {
    "slideshow": {
     "slide_type": "subslide"
    }
   },
   "source": [
    "### Options of the built-in function open (binary file)\n",
    "\n",
    "Until now, we have only written text files. It can of course be much more efficient to use binary format."
   ]
  },
  {
   "cell_type": "code",
   "execution_count": 8,
   "metadata": {},
   "outputs": [],
   "source": [
    "with open('/tmp/test', 'wb') as file:\n",
    "    file.write(b'a')"
   ]
  },
  {
   "cell_type": "markdown",
   "metadata": {},
   "source": [
    "Remarks: \n",
    "\n",
    "- In practice, saving data in binary file is most of the time a bad idea. There are much better solutions to do this (see for example h5py and h5netcdf).\n",
    "\n",
    "- There are Python libraries to read and process many types for files (csv, xml, json, images, tabulars, etc.).\n"
   ]
  }
 ],
 "metadata": {
  "celltoolbar": "Slideshow",
  "kernelspec": {
   "display_name": "Python 3",
   "language": "python",
   "name": "python3"
  },
  "language_info": {
   "codemirror_mode": {
    "name": "ipython",
    "version": 3
   },
   "file_extension": ".py",
   "mimetype": "text/x-python",
   "name": "python",
   "nbconvert_exporter": "python",
   "pygments_lexer": "ipython3",
   "version": "3.7.3"
  }
 },
 "nbformat": 4,
 "nbformat_minor": 2
}
