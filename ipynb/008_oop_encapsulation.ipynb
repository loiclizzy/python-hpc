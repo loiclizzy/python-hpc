{
 "cells": [
  {
   "cell_type": "markdown",
   "metadata": {
    "slideshow": {
     "slide_type": "slide"
    }
   },
   "source": [
    "# Python training UGA 2017\n",
    "\n",
    "**A training to acquire strong basis in Python to use it efficiently**\n",
    "\n",
    "Pierre Augier (LEGI), Cyrille Bonamy (LEGI), Eric Maldonado (Irstea), Franck Thollard (ISTERRE), Christophe Picard (LJK), Loïc Huder (ISTerre)\n",
    "\n",
    "# Object-oriented programming: encapsulation\n",
    "\n",
    "See https://docs.python.org/3/tutorial/classes.html\n",
    "\n",
    "Python is also an object-oriented language. Object-oriented programming is very useful and used in many libraries so it is very useful to understand how the simple object-oriented mechanisms work in Python."
   ]
  },
  {
   "cell_type": "markdown",
   "metadata": {
    "slideshow": {
     "slide_type": "slide"
    }
   },
   "source": [
    "For some problems, Object-oriented programming is a very efficient paradigm. Many libraries use it so it is worth understanding what is object oriented programming (POO) and when it is useful.\n",
    "\n",
    "# Concepts\n",
    "\n",
    "## Object\n",
    "An object is an entity that has a state and a behavior. Objects are the basic elements of object-oriented system.\n",
    "\n",
    "## Class\n",
    "Classes are \"families\" of objects. A class is a pattern that describes how objects will be built."
   ]
  },
  {
   "cell_type": "markdown",
   "metadata": {
    "slideshow": {
     "slide_type": "slide"
    }
   },
   "source": [
    "## POO motivation: data encapsulation\n",
    "\n",
    "**Example: the weather stations**\n",
    "\n",
    "Let us suppose we have a set of weather stations that do measurements of wind speed and temperature. Suppose now one wants to compute some statistics on these data. A basic representation of a station will be an array of arrays: wind values and temperature values."
   ]
  },
  {
   "cell_type": "code",
   "execution_count": 1,
   "metadata": {},
   "outputs": [
    {
     "name": "stdout",
     "output_type": "stream",
     "text": [
      "max temp is of 5°C at index 1 \n",
      "wind speed at max temp = 0 km/h\n"
     ]
    }
   ],
   "source": [
    "paris = [[10, 0, 20, 30, 20, 0], [1, 5, 1, -1, -1, 3]]\n",
    "\n",
    "# get wind when temperature is maximal\n",
    "idx_max_temp = paris[1].index(max(paris[1]))\n",
    "print(f\"max temp is of {paris[1][idx_max_temp]}°C at index {idx_max_temp} \")\n",
    "print(f\"wind speed at max temp = {paris[0][idx_max_temp]} km/h\")"
   ]
  },
  {
   "cell_type": "markdown",
   "metadata": {
    "slideshow": {
     "slide_type": "-"
    }
   },
   "source": [
    "**Comments on this solution**\n",
    "\n",
    "Many problems:\n",
    "\n",
    "- if the number of measurements increases (e.g. having rainfall, humidity, ...) the previous indexing will not be valid (what will `paris[5]` will represent? wind, temperature, ..., ?)\n",
    "- Code analysis is not (that) straightforward"
   ]
  },
  {
   "cell_type": "markdown",
   "metadata": {
    "slideshow": {
     "slide_type": "slide"
    }
   },
   "source": [
    "**A possible solution: create a box**\n",
    "\n",
    "We can use a dictionnary:\n"
   ]
  },
  {
   "cell_type": "code",
   "execution_count": 2,
   "metadata": {},
   "outputs": [
    {
     "name": "stdout",
     "output_type": "stream",
     "text": [
      "max temp is 5°C at index 1\n",
      "wind speed at max temp = 0 km/h\n"
     ]
    }
   ],
   "source": [
    "paris = {\"wind\": [10, 0, 20, 30, 20, 0], \"temperature\": [1, 5, 1, -1, -1, 3]}\n",
    "\n",
    "# get wind when temperature is minimal\n",
    "paris_temp = paris[\"temperature\"]\n",
    "idx_max_temp = paris_temp.index(max(paris_temp))\n",
    "\n",
    "print(f\"max temp is {paris_temp[idx_max_temp]}°C at index {idx_max_temp}\")\n",
    "print(f\"wind speed at max temp = {paris['wind'][idx_max_temp]} km/h\")"
   ]
  },
  {
   "cell_type": "markdown",
   "metadata": {
    "slideshow": {
     "slide_type": "-"
    }
   },
   "source": [
    "**Comments**\n",
    "- Pro\n",
    "  - More readable code (reading `paris[\"temperature\"]` is clearer than `paris[1]`)\n",
    "  - Less error prone code\n",
    "\n",
    "- Con \n",
    "  - The code to compute the final result is not very readable"
   ]
  },
  {
   "cell_type": "markdown",
   "metadata": {
    "slideshow": {
     "slide_type": "slide"
    }
   },
   "source": [
    "**Improvement**\n",
    "\n",
    "Add functions"
   ]
  },
  {
   "cell_type": "code",
   "execution_count": 3,
   "metadata": {},
   "outputs": [
    {
     "name": "stdout",
     "output_type": "stream",
     "text": [
      "max temp is 5°C at index 1\n",
      "wind speed at max temp = 0 km/h\n"
     ]
    }
   ],
   "source": [
    "paris = {\"wind\": [10, 0, 20, 30, 20, 0], \"temperature\": [1, 5, 1, -1, -1, 3]}\n",
    "\n",
    "\n",
    "def max_temp(station):\n",
    "    \"\"\" returns the maximum temperature available in the station\"\"\"\n",
    "    return max(station[\"temperature\"])\n",
    "\n",
    "\n",
    "def arg_max_temp(station):\n",
    "    \"\"\" returns the index of maximum temperature available in the station\"\"\"\n",
    "    max_temperature = max_temp(station)\n",
    "    return station[\"temperature\"].index(max_temperature)\n",
    "\n",
    "\n",
    "idx_max_temp = arg_max_temp(paris)\n",
    "\n",
    "print(f\"max temp is {max_temp(paris)}°C at index {arg_max_temp(paris)}\")\n",
    "print(f\"wind speed at max temp = {paris['wind'][idx_max_temp]} km/h\")"
   ]
  },
  {
   "cell_type": "markdown",
   "metadata": {
    "slideshow": {
     "slide_type": "subslide"
    }
   },
   "source": [
    "**Comments**\n",
    "\n",
    "- Pro:\n",
    "  - adding functions leads to a code that is easier to read (and therefore to debug!)\n",
    "  - testing functions can be done separately from the rest of the code\n",
    "- Con \n",
    "  - We rely on the fact that the dictionnaries have been built correctly (for example wind and temperature arrays have the same length)."
   ]
  },
  {
   "cell_type": "markdown",
   "metadata": {
    "slideshow": {
     "slide_type": "slide"
    }
   },
   "source": [
    "**Improvement**\n",
    "\n",
    "Define a function that builds the station (delegate the generation of the station dictionnary to a function)"
   ]
  },
  {
   "cell_type": "code",
   "execution_count": 5,
   "metadata": {},
   "outputs": [
    {
     "name": "stdout",
     "output_type": "stream",
     "text": [
      "max temp is 5°C at index 1\n",
      "wind speed at max temp = 0 km/h\n"
     ]
    }
   ],
   "source": [
    "def build_station(wind, temp):\n",
    "    \"\"\" Build a station given wind and temp\n",
    "    :param wind: (list) floats of winds\n",
    "    :param temp: (list) float of temperatures\n",
    "    \"\"\"\n",
    "    if len(wind) != len(temp):\n",
    "        raise ValueError(\"wind and temperature should have the same size\")\n",
    "    return {\"wind\": list(wind), \"temperature\": list(temp)}\n",
    "\n",
    "\n",
    "def max_temp(station):\n",
    "    \"\"\" returns the maximum temperature available in the station\"\"\"\n",
    "    return max(station[\"temperature\"])\n",
    "\n",
    "\n",
    "def arg_max_temp(station):\n",
    "    \"\"\" returns the index of maximum temperature available in the station\"\"\"\n",
    "    max_temperature = max_temp(station)\n",
    "    return station[\"temperature\"].index(max_temperature)\n",
    "\n",
    "\n",
    "paris = build_station([10, 0, 20, 30, 20, 0], [1, 5, 1, -1, -1, 3])\n",
    "idx_max_temp = arg_max_temp(paris)\n",
    "\n",
    "print(f\"max temp is {max_temp(paris)}°C at index {arg_max_temp(paris)}\")\n",
    "print(f\"wind speed at max temp = {paris['wind'][idx_max_temp]} km/h\")"
   ]
  },
  {
   "cell_type": "markdown",
   "metadata": {
    "slideshow": {
     "slide_type": "subslide"
    }
   },
   "source": [
    "**Comments**\n",
    "\n",
    "  - If the dedicated function `build_station` is used, the returned dictionary is well structured.\n",
    "  - If one changes `build_station`, only `max_temp` and `arg_max_temp` have to be changed accordingly"
   ]
  },
  {
   "cell_type": "markdown",
   "metadata": {
    "slideshow": {
     "slide_type": "slide"
    }
   },
   "source": [
    "## Object oriented in a nutshell\n",
    "\n",
    "A class defines a template used for building objects. \n",
    "In our example, the class (named `WeatherStation`) defines the specifications of what is a weather station (i.e., a weather station should contain an array for wind speeds, named \"wind\", and an array for temperatures, named \"temp\").\n",
    "`paris` should now be an object that answers to these specifications. Is is called an **instance** of the class `WeatherStation`.\n",
    "\n",
    "When defining the class, we need to define how to initialize an instance of the class (special \"function\" `__init__`). \n"
   ]
  },
  {
   "cell_type": "code",
   "execution_count": 1,
   "metadata": {},
   "outputs": [
    {
     "name": "stdout",
     "output_type": "stream",
     "text": [
      "max temp is 5°C at index 1\n",
      "wind speed at max temp = 0 km/h\n"
     ]
    }
   ],
   "source": [
    "class WeatherStation:\n",
    "    \"\"\" A weather station that holds wind and temperature\n",
    "    \n",
    "    :param wind: any ordered iterable\n",
    "    :param temperature: any ordered iterable\n",
    "    \n",
    "    wind and temperature must have the same length.\n",
    "    \n",
    "    \"\"\"\n",
    "    def __init__(self, wind, temperature):\n",
    "        self.wind = list(wind)\n",
    "        self.temp = list(temperature)\n",
    "        if len(self.wind) != len(self.temp):\n",
    "            raise ValueError(\n",
    "                \"wind and temperature should have the same size\"\n",
    "            )\n",
    "\n",
    "    def max_temp(self):\n",
    "        \"\"\" returns the maximum temperature recorded in the station\"\"\"\n",
    "        return max(self.temp)\n",
    "\n",
    "    def arg_max_temp(self):\n",
    "        \"\"\" returns the index of (one of the) maximum temperature recorded in the station\"\"\"\n",
    "        return self.temp.index(self.max_temp())\n",
    "\n",
    "\n",
    "paris = WeatherStation([10, 0, 20, 30, 20, 0], [1, 5, 1, -1, -1, 3])\n",
    "idx_max_temp = paris.arg_max_temp()\n",
    "print(f\"max temp is {paris.max_temp()}°C at index {paris.arg_max_temp()}\")\n",
    "print(f\"wind speed at max temp = {paris.wind[idx_max_temp]} km/h\")"
   ]
  },
  {
   "cell_type": "markdown",
   "metadata": {
    "slideshow": {
     "slide_type": "-"
    }
   },
   "source": [
    "**Attributes**\n",
    "\n",
    "Names attached to the instances are called  **attributes** (here, `max_temp`, `temp`, `wind`, etc.).\n",
    "\n",
    "**Methods**\n",
    "\n",
    "The functions `max_temp` and the `arg_max_temp` are now part of the class `WeatherStation`. \n",
    "Functions attached to classes are named **methods**.\n",
    "\n",
    "The first argument of methods is `self`. When the method is called with an instance, as\n",
    "\n",
    "`idx_max_temp = paris.arg_max_temp()`\n",
    "\n",
    "`self` is automatically set as a reference to the instance who calls the method (here, `self = paris`). So it is equivalent to:\n",
    "\n",
    "`idx_max_temp = WeatherStation.arg_max_temp(paris)`\n",
    "\n",
    "**Special method `__init__`**\n",
    "\n",
    "Automatically called during the creation (instantiation) of the object (instance).\n",
    "\n",
    "\n",
    "**Data attributes**\n",
    "\n",
    "`wind` and `temp` lists are attached to instances. Each instance of the class has its own version of `wind` and `temp`. \n",
    "They are **data attributes** or **instance variables**.\n",
    "\n",
    "An object (here `paris`) thus contains both **data attributes** (holding data for example) and **methods** to access and/or process the data.\n"
   ]
  },
  {
   "cell_type": "markdown",
   "metadata": {
    "slideshow": {
     "slide_type": "slide"
    }
   },
   "source": [
    "\n",
    "## Coming next\n",
    "\n",
    "What if we now have a weather station that also measure humidity ?\n",
    "\n",
    "Do we need to rewrite everything ? \n",
    "\n",
    "What if we rewrite everything and we find a bug ? \n",
    "\n",
    "**Here comes inheritance**"
   ]
  }
 ],
 "metadata": {
  "celltoolbar": "Slideshow",
  "kernelspec": {
   "display_name": "Python 3",
   "language": "python",
   "name": "python3"
  },
  "language_info": {
   "codemirror_mode": {
    "name": "ipython",
    "version": 3
   },
   "file_extension": ".py",
   "mimetype": "text/x-python",
   "name": "python",
   "nbconvert_exporter": "python",
   "pygments_lexer": "ipython3",
   "version": "3.7.3"
  }
 },
 "nbformat": 4,
 "nbformat_minor": 2
}
