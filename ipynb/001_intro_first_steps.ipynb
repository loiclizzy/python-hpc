{
 "cells": [
  {
   "cell_type": "markdown",
   "metadata": {
    "slideshow": {
     "slide_type": "slide"
    }
   },
   "source": [
    "# Python training UGA 2017\n",
    "\n",
    "**A training to acquire strong basis in Python to use it efficiently**\n",
    "\n",
    "Pierre Augier (LEGI), Cyrille Bonamy (LEGI), Eric Maldonado (Irstea), Franck Thollard (ISTerre), Christophe Picard (LJK), Loïc Huder (ISTerre)\n",
    "\n",
    "# First steps\n"
   ]
  },
  {
   "cell_type": "markdown",
   "metadata": {
    "slideshow": {
     "slide_type": "slide"
    }
   },
   "source": [
    "## Why Python ?\n",
    "\n",
    "- A very nice and well-thought programming language.\n",
    "\n",
    "- **Generalist**: good for several applications, [used with success in many fields](http://brochure.getpython.info/).\n",
    "\n",
    "- For academic purposes (teaching, research): **great scientific ecosystem**."
   ]
  },
  {
   "cell_type": "markdown",
   "metadata": {
    "slideshow": {
     "slide_type": "slide"
    }
   },
   "source": [
    "## Python: a language, an interpreter\n",
    "\n",
    "Python is a programming language.\n",
    "\n",
    "It is first an **interpreted** language (like Bash, Matlab, and in contrast with Fortran, C or C++), so we need an interpreter, i.e. a binary parsing Python code and running computer instructions.\n",
    "\n",
    "Open a terminal. There are usually different python commands: `python`, `python2` and `python3`.\n"
   ]
  },
  {
   "cell_type": "markdown",
   "metadata": {
    "slideshow": {
     "slide_type": "slide"
    }
   },
   "source": [
    "### Remark Python 2 / Python 3\n",
    "\n",
    "2 languages, 2 interpreters, 2 commands"
   ]
  },
  {
   "cell_type": "markdown",
   "metadata": {
    "slideshow": {
     "slide_type": "slide"
    }
   },
   "source": [
    "## Python distributions\n",
    "\n",
    "- On Linux, there are the system python binaries. \n",
    "\n",
    "- On Windows, Mac (and Linux), you can install and use \n",
    "\n",
    "  * https://www.python.org/downloads/\n",
    "\n",
    "  * [Anaconda or Miniconda](https://www.continuum.io/downloads)\n",
    "  \n",
    "([advice on how to install a good scientific Python environment](http://fluiddyn.readthedocs.io/en/latest/get_good_Python_env.html))\n",
    "\n",
    "- In some systems (cluster), there are modules:\n",
    "\n",
    "  ```bash\n",
    "  module load python\n",
    "  ```"
   ]
  },
  {
   "cell_type": "markdown",
   "metadata": {
    "slideshow": {
     "slide_type": "subslide"
    }
   },
   "source": [
    "### Do it yourself: execute a script with the command `python3`\n",
    "\n",
    "Go into the root directory of the repository of the training.\n",
    "\n",
    "Run a script with `python3` (pyfiles/helloworld.py is *just* a text file):\n",
    "\n",
    "```bash\n",
    "cat pyfiles/helloworld.py\n",
    "python3 pyfiles/helloworld.py\n",
    "```\n",
    "\n",
    "(`cat` is a Unix command that print the content of a text file.)"
   ]
  },
  {
   "cell_type": "markdown",
   "metadata": {
    "slideshow": {
     "slide_type": "subslide"
    }
   },
   "source": [
    "### Do it yourself: work interactively with [ipython](https://ipython.org/)\n",
    "\n",
    "The command `ipython3` launch the program [ipython](https://ipython.org/), which is used for interactive python.\n",
    "\n",
    "- In ipython, you can execute a first interactive instruction:"
   ]
  },
  {
   "cell_type": "code",
   "execution_count": 1,
   "metadata": {},
   "outputs": [
    {
     "data": {
      "text/plain": [
       "4"
      ]
     },
     "execution_count": 1,
     "metadata": {},
     "output_type": "execute_result"
    }
   ],
   "source": [
    "2 + 2"
   ]
  },
  {
   "cell_type": "code",
   "execution_count": 2,
   "metadata": {},
   "outputs": [
    {
     "data": {
      "text/plain": [
       "0.75"
      ]
     },
     "execution_count": 2,
     "metadata": {},
     "output_type": "execute_result"
    }
   ],
   "source": [
    "3 / 4"
   ]
  },
  {
   "cell_type": "markdown",
   "metadata": {},
   "source": [
    "- Run the script from ipython."
   ]
  },
  {
   "cell_type": "code",
   "execution_count": 3,
   "metadata": {},
   "outputs": [
    {
     "name": "stdout",
     "output_type": "stream",
     "text": [
      "Hello world\n",
      "My name is Pierre\n"
     ]
    }
   ],
   "source": [
    "run ../pyfiles/helloworld.py"
   ]
  },
  {
   "cell_type": "code",
   "execution_count": 4,
   "metadata": {},
   "outputs": [
    {
     "name": "stdout",
     "output_type": "stream",
     "text": [
      "Pierre\n"
     ]
    }
   ],
   "source": [
    "# name is defined in ../pyfiles/helloworld.py\n",
    "print(name)"
   ]
  },
  {
   "cell_type": "markdown",
   "metadata": {},
   "source": [
    "- Help on an object can be displayed with the question mark (try it):\n",
    "\n",
    "```ipython\n",
    "name?\n",
    "```\n",
    "\n",
    "- Try to type \"name.\" and to press on tab... The tab key is used to tell you how what you typed can be completed.\n",
    "\n",
    "- Try to use the top and bottom arrows..."
   ]
  },
  {
   "cell_type": "markdown",
   "metadata": {
    "slideshow": {
     "slide_type": "slide"
    }
   },
   "source": [
    "### Python in an IDE ([Spyder](https://pythonhosted.org/spyder/))\n",
    "\n",
    "Launch the application Spyder, a Python IDE (Integrated development environment). \n",
    "\n",
    "- a quite good code editor with:\n",
    "  - syntax coloring, \n",
    "  - code analysis powered by pyflakes and pylint, \n",
    "  - introspection capabilities such as code completion.\n",
    "- Ipython console\n",
    "- variable inspector\n",
    "- ...\n",
    "\n",
    "Remarks: \n",
    "\n",
    "- it is very important to use a good editor to code in Python (for example Spyder, emacs or vi with [a good setup](https://bitbucket.org/fluiddyn/fluid_emacs.d), or [Visual Studio Code](https://code.visualstudio.com/docs/languages/python))."
   ]
  },
  {
   "cell_type": "markdown",
   "metadata": {
    "slideshow": {
     "slide_type": "slide"
    }
   },
   "source": [
    "### Python in the browser ([Jupyter](https://jupyter.readthedocs.io))\n",
    "\n",
    "The presentations of this python training are made with Jupyter (demonstration). \n",
    "\n",
    "This is a very powerful tool to present results (see these [examples](http://nbviewer.jupyter.org/))."
   ]
  }
 ],
 "metadata": {
  "celltoolbar": "Slideshow",
  "kernelspec": {
   "display_name": "Python 3",
   "language": "python",
   "name": "python3"
  },
  "language_info": {
   "codemirror_mode": {
    "name": "ipython",
    "version": 3
   },
   "file_extension": ".py",
   "mimetype": "text/x-python",
   "name": "python",
   "nbconvert_exporter": "python",
   "pygments_lexer": "ipython3",
   "version": "3.7.3"
  }
 },
 "nbformat": 4,
 "nbformat_minor": 2
}
