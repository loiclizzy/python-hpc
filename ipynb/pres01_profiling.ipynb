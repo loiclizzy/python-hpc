{
 "cells": [
  {
   "cell_type": "markdown",
   "metadata": {
    "slideshow": {
     "slide_type": "slide"
    }
   },
   "source": [
    "# Profiling\n",
    "\n",
    "Pierre Augier (LEGI), Cyrille Bonamy (LEGI), Eric Maldonado (Irstea), Franck Thollard (ISTerre), Christophe Picard (LJK), Loïc Huder (ISTerre)\n"
   ]
  },
  {
   "cell_type": "markdown",
   "metadata": {
    "slideshow": {
     "slide_type": "subslide"
    }
   },
   "source": [
    "\n",
    "# Road map\n",
    "\n",
    "## Time profiling\n",
    "- timeit\n",
    "- script base time (unix cmd)\n",
    "- function based profiling (cprofile)\n",
    "- line base profiling \n",
    "\n",
    "## Memory profiling \n",
    "- further readings\n"
   ]
  },
  {
   "cell_type": "markdown",
   "metadata": {
    "slideshow": {
     "slide_type": "subslide"
    }
   },
   "source": [
    "timeit\n",
    "------\n",
    "\n",
    "In ipython, you can use the magic command timeit that execute a piece of code and stats the time it spends:\n"
   ]
  },
  {
   "cell_type": "markdown",
   "metadata": {
    "slideshow": {
     "slide_type": "subslide"
    }
   },
   "source": [
    "Basic profiling\n",
    "-----------------\n",
    "\n",
    "While writing code, you can use the magic command timeit: "
   ]
  },
  {
   "cell_type": "code",
   "execution_count": 7,
   "metadata": {
    "slideshow": {
     "slide_type": "subslide"
    }
   },
   "outputs": [
    {
     "name": "stdout",
     "output_type": "stream",
     "text": [
      "100000 loops, best of 5: 16 µs per loop\n",
      "100000 loops, best of 5: 12.7 µs per loop\n",
      "100000 loops, best of 5: 6.7 µs per loop\n",
      "100000 loops, best of 5: 3.98 µs per loop\n"
     ]
    }
   ],
   "source": [
    "import math\n",
    "l=[] \n",
    "%timeit for x in range(100): l.append(math.pow(x,2))\n",
    "%timeit [math.pow(x,2) for x in range(100)]\n",
    "l = []\n",
    "%timeit for x in range(100): l.append(x*x)\n",
    "%timeit [x*x for x in range(100)]\n"
   ]
  },
  {
   "cell_type": "markdown",
   "metadata": {
    "slideshow": {
     "slide_type": "subslide"
    }
   },
   "source": [
    "Basic profiling\n",
    "-----------------\n",
    "\n",
    "Evaluate you script as a whole, *e.g.* using the unix time function:\n",
    "\n",
    "`time myscript intput_data`"
   ]
  },
  {
   "cell_type": "markdown",
   "metadata": {
    "slideshow": {
     "slide_type": "subslide"
    }
   },
   "source": [
    "Function based profiling (cprofile)\n",
    "-----------------------------------------\n",
    "\n",
    "\n",
    "Use the cProfile module to profile the code. \n",
    "\n",
    "- Option -s ask to sort using cumulative time \n",
    "- profile_data.pyprof is the output of the profiling\n",
    "- myscript intput_data: the script with its regular arguments\n",
    "\n",
    "**Warning: profiling is much slower than a classical run, so do not profile with a long during setting**\n",
    "\n",
    "`python3 -m cProfile -s cumulative -o profile_data.pyprof myscript intput_data`\n",
    "\n",
    "Visualize you result (*e.g.*) using `pyprof2calltree` and `kcachegrind`\n",
    "\n",
    "`pyprof2calltree -i profile_data.pyprof -k`\n"
   ]
  },
  {
   "cell_type": "markdown",
   "metadata": {
    "slideshow": {
     "slide_type": "subslide"
    }
   },
   "source": [
    "Line based profiling\n",
    "-----------------------\n",
    "\n",
    "- pprofile\n",
    "- vprof \n"
   ]
  },
  {
   "cell_type": "markdown",
   "metadata": {
    "slideshow": {
     "slide_type": "subslide"
    }
   },
   "source": [
    "Memory profiler\n",
    "-----------------\n",
    "\n"
   ]
  },
  {
   "cell_type": "markdown",
   "metadata": {
    "slideshow": {
     "slide_type": "subslide"
    }
   },
   "source": [
    "# Further reading \n",
    "\n",
    "More on profiling on the stackoverflow discussion: \n",
    "\n",
    "https://stackoverflow.com/questions/582336/how-can-you-profile-a-python-script\n"
   ]
  }
 ],
 "metadata": {
  "celltoolbar": "Slideshow",
  "kernelspec": {
   "display_name": "Python 3",
   "language": "python",
   "name": "python3"
  },
  "language_info": {
   "codemirror_mode": {
    "name": "ipython",
    "version": 3
   },
   "file_extension": ".py",
   "mimetype": "text/x-python",
   "name": "python",
   "nbconvert_exporter": "python",
   "pygments_lexer": "ipython3",
   "version": "3.7.3rc1"
  }
 },
 "nbformat": 4,
 "nbformat_minor": 2
}
