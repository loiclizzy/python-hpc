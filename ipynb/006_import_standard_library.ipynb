{
 "cells": [
  {
   "cell_type": "markdown",
   "metadata": {
    "slideshow": {
     "slide_type": "slide"
    }
   },
   "source": [
    "# Python training UGA 2017\n",
    "\n",
    "**A training to acquire strong basis in Python to use it efficiently**\n",
    "\n",
    "Pierre Augier (LEGI), Cyrille Bonamy (LEGI), Eric Maldonado (Irstea), Franck Thollard (ISTerre), Christophe Picard (LJK), Loïc Huder (ISTerre)\n",
    "\n",
    "# Modules, `import` statement and the standard library"
   ]
  },
  {
   "cell_type": "markdown",
   "metadata": {
    "slideshow": {
     "slide_type": "slide"
    }
   },
   "source": [
    "## Import code from other files\n",
    "\n",
    "Useful for:\n",
    "\n",
    "- reusing code\n",
    "- organizing code\n",
    "- distributing code (not detailed here)\n",
    "\n",
    "### Modules and packages \n",
    "\n",
    "- A module is a python file that can be imported.\n",
    "- A package is a directory containing module(s).\n"
   ]
  },
  {
   "cell_type": "markdown",
   "metadata": {
    "slideshow": {
     "slide_type": "slide"
    }
   },
   "source": [
    "## Multi-file program (example with 2 files) and imports\n",
    "\n",
    "- ../pyfiles/example0/util.py\n",
    "- ../pyfiles/example0/prog.py"
   ]
  },
  {
   "cell_type": "code",
   "execution_count": 1,
   "metadata": {},
   "outputs": [
    {
     "name": "stdout",
     "output_type": "stream",
     "text": [
      "print('begin of util.py')\n",
      "myvar0 = 0\n",
      "myvar1 = 1\n",
      "\n",
      "def print_variables():\n",
      "    print(f'in function print_variables: myvar0 = {myvar0}; myvar1 = {myvar1}')\n",
      "\n"
     ]
    }
   ],
   "source": [
    "with open('../pyfiles/example0/util.py') as file:\n",
    "    print(file.read())"
   ]
  },
  {
   "cell_type": "code",
   "execution_count": 2,
   "metadata": {},
   "outputs": [
    {
     "name": "stdout",
     "output_type": "stream",
     "text": [
      "begin of util.py\n"
     ]
    }
   ],
   "source": [
    "run ../pyfiles/example0/util.py"
   ]
  },
  {
   "cell_type": "markdown",
   "metadata": {
    "slideshow": {
     "slide_type": "slide"
    }
   },
   "source": [
    "## Multi-file program (example with 2 files) and imports\n",
    "\n",
    "- ../pyfiles/example0/util.py\n",
    "- ../pyfiles/example0/prog.py"
   ]
  },
  {
   "cell_type": "code",
   "execution_count": 3,
   "metadata": {},
   "outputs": [
    {
     "name": "stdout",
     "output_type": "stream",
     "text": [
      "# 2 different syntaxes for importing a module\n",
      "import util\n",
      "from util import myvar1, print_variables\n",
      "\n",
      "util.myvar0 = 100\n",
      "myvar1 += 100\n",
      "print(f'in prog.py, util.myvar0 = {util.myvar0}; myvar1 = {myvar1}')\n",
      "print_variables()\n",
      "\n"
     ]
    }
   ],
   "source": [
    "with open('../pyfiles/example0/prog.py') as file:\n",
    "    print(file.read())"
   ]
  },
  {
   "cell_type": "code",
   "execution_count": 4,
   "metadata": {},
   "outputs": [
    {
     "name": "stdout",
     "output_type": "stream",
     "text": [
      "begin of util.py\n",
      "in prog.py, util.myvar0 = 100; myvar1 = 101\n",
      "in function print_variables: myvar0 = 100; myvar1 = 1\n"
     ]
    }
   ],
   "source": [
    "run ../pyfiles/example0/prog.py"
   ]
  },
  {
   "cell_type": "markdown",
   "metadata": {},
   "source": [
    "Warning: files imported more than once are executed only once per process."
   ]
  },
  {
   "cell_type": "markdown",
   "metadata": {
    "slideshow": {
     "slide_type": "slide"
    }
   },
   "source": [
    "## Multi-file program (example with 2 files) and imports\n",
    "\n",
    "`if __name__ == \"__main__\": ...`\n",
    "\n",
    "- ../pyfiles/example1/util.py\n",
    "- ../pyfiles/example1/prog.py"
   ]
  },
  {
   "cell_type": "code",
   "execution_count": 5,
   "metadata": {},
   "outputs": [
    {
     "name": "stdout",
     "output_type": "stream",
     "text": [
      "print('begin of util.py')\n",
      "myvar0 = 0\n",
      "myvar1 = 1\n",
      "\n",
      "def print_variables():\n",
      "    print(f'in function print_variables: myvar0 = {myvar0}; myvar1 = {myvar1}')\n",
      "\n",
      "print('in util.py, __name__ =', __name__)\n",
      "# __name__ is a special variable always defined.\n",
      "# its value depends on how the file is called (directly executed or imported)\n",
      "if __name__ == '__main__':\n",
      "    # this code is executed only in the file is directly executed\n",
      "    print('the module util.py has been directly executed')\n",
      "    print_variables()\n",
      "    print('end of util.py')\n",
      "else:\n",
      "    print('the module util.py has been imported')\n",
      "\n"
     ]
    }
   ],
   "source": [
    "with open('../pyfiles/example1/util.py') as file:\n",
    "    print(file.read())"
   ]
  },
  {
   "cell_type": "code",
   "execution_count": 6,
   "metadata": {},
   "outputs": [
    {
     "name": "stdout",
     "output_type": "stream",
     "text": [
      "begin of util.py\n",
      "in util.py, __name__ = __main__\n",
      "the module util.py has been directly executed\n",
      "in function print_variables: myvar0 = 0; myvar1 = 1\n",
      "end of util.py\n"
     ]
    }
   ],
   "source": [
    "run ../pyfiles/example1/util.py"
   ]
  },
  {
   "cell_type": "markdown",
   "metadata": {
    "slideshow": {
     "slide_type": "slide"
    }
   },
   "source": [
    "### Warning on `from ... import *`\n",
    "\n",
    "There is another import syntax with a start:"
   ]
  },
  {
   "cell_type": "code",
   "execution_count": 7,
   "metadata": {},
   "outputs": [],
   "source": [
    "from matplotlib.pylab import *"
   ]
  },
  {
   "cell_type": "markdown",
   "metadata": {},
   "source": [
    "It imports in the global namespace all names of the namespace `matplotlib.pylab`. It can be useful in some situations but should be avoid in many cases. With this syntax, you don't know from where come the names and automatic code analysis becomes much more difficult."
   ]
  },
  {
   "cell_type": "markdown",
   "metadata": {
    "slideshow": {
     "slide_type": "slide"
    }
   },
   "source": [
    "## Standard structure of a Python module"
   ]
  },
  {
   "cell_type": "code",
   "execution_count": 8,
   "metadata": {},
   "outputs": [
    {
     "name": "stdout",
     "output_type": "stream",
     "text": [
      "the square of mysum(l) is 3.1622776601683795\n"
     ]
    }
   ],
   "source": [
    "\"\"\"A program...\n",
    "\n",
    "Documentation of the module.\n",
    "\n",
    "\"\"\"\n",
    "\n",
    "# import functions, modules and/or classes\n",
    "\n",
    "from math import sqrt\n",
    "\n",
    "# definition of functions and/or classes\n",
    "\n",
    "def mysum(variables):\n",
    "    \"\"\" sum all the variables of the function and return it.\n",
    "        No type check\n",
    "        :param variables: (iterable) an iterable over elements \n",
    "                          that can be summed up\n",
    "        :return: the sum of the variables\n",
    "    \"\"\"\n",
    "    result = 0\n",
    "    for var in variables:\n",
    "        result += var\n",
    "    return result\n",
    "\n",
    "# main part of the program (protected)\n",
    "\n",
    "if __name__ == '__main__':\n",
    "    l = [1, 2, 3, 4]\n",
    "    print('the square of mysum(l) is', sqrt(mysum(l)))"
   ]
  },
  {
   "cell_type": "markdown",
   "metadata": {
    "slideshow": {
     "slide_type": "slide"
    }
   },
   "source": [
    "## The standard library + presentation of few very common packages\n"
   ]
  },
  {
   "cell_type": "markdown",
   "metadata": {},
   "source": [
    "The [Python standard library](https://docs.python.org/3/library/) (see also [this tuto](https://docs.python.org/3/tutorial/stdlib.html)) is a quite impressive set of packages useful for many many things. These packages are included nativelly in Python. They are very stable (difficult to find bugs). Here is a small list:\n",
    "\n",
    "- math - Mathematical functions\n",
    "- sys - System-specific parameters and functions (a lot about the Python system)\n",
    "- copy - Shallow and deep copy operations\n",
    "- os - Miscellaneous operating system interfaces\n",
    "- glob - Unix style pathname pattern expansion (like `ls`)\n",
    "- shutil - High-level file operations\n",
    "- pdb - activate the python debugger \n",
    "- subprocess\n",
    "- datetime\n",
    "- pickle - Python object serialization\n",
    "- re - Regular expressions\n",
    "- argparse - Parser for command-line options, arguments and sub-commands\n",
    "- unittest - Unit testing framework\n",
    "- logging - Event logging system\n",
    "- platform - Access to underlying platform’s identifying data\n",
    "- threading - Higher-level threading interface\n",
    "- multiprocessing - Process-based “threading” interface"
   ]
  },
  {
   "cell_type": "markdown",
   "metadata": {
    "slideshow": {
     "slide_type": "subslide"
    }
   },
   "source": [
    "### math - Mathematical functions\n",
    "\n",
    "For example to use $\\pi$ in an environment where Numpy might not be installed:"
   ]
  },
  {
   "cell_type": "code",
   "execution_count": 9,
   "metadata": {},
   "outputs": [
    {
     "name": "stdout",
     "output_type": "stream",
     "text": [
      "<class 'module'>\n"
     ]
    }
   ],
   "source": [
    "import math\n",
    "\n",
    "print(type(math))"
   ]
  },
  {
   "cell_type": "code",
   "execution_count": 10,
   "metadata": {},
   "outputs": [
    {
     "name": "stdout",
     "output_type": "stream",
     "text": [
      "pi is approximately equal to      3.141592653589793\n",
      "cos(pi) is approximately equal to -1.0\n"
     ]
    }
   ],
   "source": [
    "from math import cos\n",
    "print('pi is approximately equal to     ', math.pi)\n",
    "print('cos(pi) is approximately equal to', cos(math.pi))"
   ]
  },
  {
   "cell_type": "markdown",
   "metadata": {
    "slideshow": {
     "slide_type": "subslide"
    }
   },
   "source": [
    "### sys - System-specific parameters and functions (a lot about the Python system)\n",
    "\n",
    "If you want to know where Python looks for module during the import statements, you can do"
   ]
  },
  {
   "cell_type": "code",
   "execution_count": 11,
   "metadata": {
    "scrolled": true
   },
   "outputs": [
    {
     "name": "stdout",
     "output_type": "stream",
     "text": [
      "['/home/users/augier3pi/Output/Teach/training-hpc/ipynb', '/home/users/augier3pi/.pyenv/versions/3.7.3/lib/python37.zip', '/home/users/augier3pi/.pyenv/versions/3.7.3/lib/python3.7', '/home/users/augier3pi/.pyenv/versions/3.7.3/lib/python3.7/lib-dynload', '', '/home/users/augier3pi/.pyenv/versions/3.7.3/lib/python3.7/site-packages', '/home/users/augier3pi/Dev/fluidimage', '/home/users/augier3pi/Dev/fluidfft', '/home/users/augier3pi/Dev/transonic', '/home/users/augier3pi/Dev/fluidsim', '/home/users/augier3pi/Dev/fluiddyn', '/home/users/augier3pi/.pyenv/versions/3.7.3/lib/python3.7/site-packages/IPython/extensions', '/home/users/augier3pi/.ipython']\n"
     ]
    }
   ],
   "source": [
    "import sys\n",
    "print(sys.path)"
   ]
  },
  {
   "cell_type": "markdown",
   "metadata": {
    "slideshow": {
     "slide_type": "subslide"
    }
   },
   "source": [
    "### os: Miscellaneous operating system interfaces\n",
    "\n",
    "os is a very important module."
   ]
  },
  {
   "cell_type": "code",
   "execution_count": 12,
   "metadata": {},
   "outputs": [
    {
     "data": {
      "text/plain": [
       "'/home/users/augier3pi/Output/Teach/training-hpc/ipynb'"
      ]
     },
     "execution_count": 12,
     "metadata": {},
     "output_type": "execute_result"
    }
   ],
   "source": [
    "import os\n",
    "\n",
    "os.getcwd()"
   ]
  },
  {
   "cell_type": "markdown",
   "metadata": {},
   "source": [
    "There is in particular the `os.path` module, which you use each time you work with paths towards files and directories. It can be used to build paths in the most robust manner: "
   ]
  },
  {
   "cell_type": "code",
   "execution_count": 13,
   "metadata": {
    "scrolled": true
   },
   "outputs": [
    {
     "name": "stdout",
     "output_type": "stream",
     "text": [
      "./files/file_to_read.txt\n",
      "./files/file_to_read.txt\n"
     ]
    }
   ],
   "source": [
    "# Building a path to a file to read...\n",
    "directory_path = './files/'\n",
    "file_name = 'file_to_read.txt'\n",
    "# String concatenation works but is not very robust\n",
    "full_path = directory_path + file_name\n",
    "print(full_path)\n",
    "# Better to do\n",
    "full_path = os.path.join(directory_path, file_name)\n",
    "print(full_path)"
   ]
  },
  {
   "cell_type": "markdown",
   "metadata": {},
   "source": [
    "For example, we can create the string for a new path in a cross-platform way like this"
   ]
  },
  {
   "cell_type": "code",
   "execution_count": 14,
   "metadata": {},
   "outputs": [
    {
     "data": {
      "text/plain": [
       "'/home/users/augier3pi/opt/miniconda3/lib/python3.6'"
      ]
     },
     "execution_count": 14,
     "metadata": {},
     "output_type": "execute_result"
    }
   ],
   "source": [
    "# Method to get cross-platform home directory ($HOME)\n",
    "home_dir = os.path.expanduser('~')\n",
    "os.path.join(home_dir, 'opt', 'miniconda3', 'lib/python3.6')"
   ]
  },
  {
   "cell_type": "markdown",
   "metadata": {},
   "source": [
    "To make a new directory if it does not exist:"
   ]
  },
  {
   "cell_type": "code",
   "execution_count": 15,
   "metadata": {},
   "outputs": [
    {
     "name": "stdout",
     "output_type": "stream",
     "text": [
      "['.ipynb_checkpoints', 'helloworld.py', 'wrong.py', 'example1', 'example0', 'tmp_directory']\n"
     ]
    }
   ],
   "source": [
    "path_tmp = '../pyfiles/tmp_directory'\n",
    "if not os.path.exists(path_tmp):\n",
    "    os.mkdir(path_tmp)\n",
    "print(os.listdir('../pyfiles/'))"
   ]
  },
  {
   "cell_type": "markdown",
   "metadata": {},
   "source": [
    "To scan the content of a directory:"
   ]
  },
  {
   "cell_type": "code",
   "execution_count": 16,
   "metadata": {},
   "outputs": [
    {
     "name": "stdout",
     "output_type": "stream",
     "text": [
      "In the directory ../pyfiles:\n",
      "\tdirectories: ['.ipynb_checkpoints', 'example1', 'example0', 'tmp_directory']\n",
      "\tfiles ['helloworld.py', 'wrong.py'].\n",
      "In the directory ../pyfiles/.ipynb_checkpoints:\n",
      "\tdirectories: []\n",
      "\tfiles ['wrong-checkpoint.py'].\n",
      "In the directory ../pyfiles/example1:\n",
      "\tdirectories: []\n",
      "\tfiles ['prog.py', 'util.py'].\n",
      "In the directory ../pyfiles/example0:\n",
      "\tdirectories: ['__pycache__']\n",
      "\tfiles ['prog.py', 'util.py'].\n",
      "In the directory ../pyfiles/example0/__pycache__:\n",
      "\tdirectories: []\n",
      "\tfiles ['util.cpython-37.pyc'].\n",
      "In the directory ../pyfiles/tmp_directory:\n",
      "\tdirectories: []\n",
      "\tfiles [].\n",
      "True\n",
      "False\n",
      "In the directory ../pyfiles:\n",
      "\tdirectories: ['.ipynb_checkpoints', 'example1', 'example0']\n",
      "\tfiles ['helloworld.py', 'wrong.py'].\n",
      "In the directory ../pyfiles/.ipynb_checkpoints:\n",
      "\tdirectories: []\n",
      "\tfiles ['wrong-checkpoint.py'].\n",
      "In the directory ../pyfiles/example1:\n",
      "\tdirectories: []\n",
      "\tfiles ['prog.py', 'util.py'].\n",
      "In the directory ../pyfiles/example0:\n",
      "\tdirectories: ['__pycache__']\n",
      "\tfiles ['prog.py', 'util.py'].\n",
      "In the directory ../pyfiles/example0/__pycache__:\n",
      "\tdirectories: []\n",
      "\tfiles ['util.cpython-37.pyc'].\n"
     ]
    }
   ],
   "source": [
    "def list_dir_files():\n",
    "    for base, path_dir, path_files in os.walk('../pyfiles'):\n",
    "        if base.startswith('__'):\n",
    "            continue\n",
    "        print((f'In the directory {base}:\\n'\n",
    "               f'\\tdirectories: {path_dir}\\n\\tfiles {path_files}.'))\n",
    "\n",
    "list_dir_files()        \n",
    "print(os.path.exists(path_tmp))\n",
    "os.rmdir(path_tmp)\n",
    "print(os.path.exists(path_tmp))\n",
    "list_dir_files()"
   ]
  },
  {
   "cell_type": "markdown",
   "metadata": {},
   "source": [
    "Other handy functions of `os.path`:\n",
    "- `os.path.basename`: returns the basename of a path (last member of a path)\n",
    "- `os.path.isfile`: returns True if the path points to a file\n",
    "- ...\n",
    "\n",
    "See https://docs.python.org/3.7/library/os.path.html"
   ]
  },
  {
   "cell_type": "markdown",
   "metadata": {
    "slideshow": {
     "slide_type": "subslide"
    }
   },
   "source": [
    "### glob - Unix style pathname pattern expansion\n",
    "\n",
    "The equivalent of the Unix \"ls\" is in the glob module:"
   ]
  },
  {
   "cell_type": "code",
   "execution_count": 17,
   "metadata": {},
   "outputs": [
    {
     "name": "stdout",
     "output_type": "stream",
     "text": [
      "list unsorted: ['images', 'slides_reveal_wide.tpl', 'index.rst', '11_visualization.ipynb', 'reveal.js', '10_numpy_scipy.ipynb', '12_pandas.ipynb', '20_packaging.ipynb', '21_intro_HPC.ipynb', '22_profiling.ipynb', '30_wrapping.ipynb', '31_accelerators.ipynb', '40_parallel.ipynb', '41_cluster.ipynb', '42_personal_projects.ipynb', 'custom.css', 'fig', 'make_index.py', 'slides_reveal.tpl', '000_introduction.ipynb', '001_intro_first_steps.ipynb', '010_Mercurial_and_Gitlab.ipynb', '002_intro_language.ipynb', '003_basic_statements.ipynb', '004_functions.ipynb', '005_readwritefiles.ipynb', '006_import_standard_library.ipynb', '007_data_struct.ipynb', 'tmp']\n",
      "list sorted:   ['000_introduction.ipynb', '001_intro_first_steps.ipynb', '002_intro_language.ipynb', '003_basic_statements.ipynb', '004_functions.ipynb', '005_readwritefiles.ipynb', '006_import_standard_library.ipynb', '007_data_struct.ipynb', '010_Mercurial_and_Gitlab.ipynb', '10_numpy_scipy.ipynb', '11_visualization.ipynb', '12_pandas.ipynb', '20_packaging.ipynb', '21_intro_HPC.ipynb', '22_profiling.ipynb', '30_wrapping.ipynb', '31_accelerators.ipynb', '40_parallel.ipynb', '41_cluster.ipynb', '42_personal_projects.ipynb', 'custom.css', 'fig', 'images', 'index.rst', 'make_index.py', 'reveal.js', 'slides_reveal.tpl', 'slides_reveal_wide.tpl', 'tmp']\n"
     ]
    }
   ],
   "source": [
    "from glob import glob\n",
    "l = glob('*')\n",
    "print('list unsorted:', l)\n",
    "print('list sorted:  ', sorted(l))"
   ]
  },
  {
   "cell_type": "markdown",
   "metadata": {
    "slideshow": {
     "slide_type": "subslide"
    }
   },
   "source": [
    "### pathlib: Object-oriented filesystem paths\n",
    "\n",
    "A modern (Python 3) and nicer method to manipulate file paths."
   ]
  },
  {
   "cell_type": "code",
   "execution_count": 18,
   "metadata": {},
   "outputs": [],
   "source": [
    "from pathlib import Path"
   ]
  },
  {
   "cell_type": "code",
   "execution_count": 19,
   "metadata": {},
   "outputs": [
    {
     "name": "stdout",
     "output_type": "stream",
     "text": [
      "False\n"
     ]
    }
   ],
   "source": [
    "path_tmp = Path(\"..\") / \"pyfiles/tmp_directory\"\n",
    "print(path_tmp.exists())\n",
    "path_tmp.mkdir(exist_ok=True)"
   ]
  },
  {
   "cell_type": "markdown",
   "metadata": {
    "slideshow": {
     "slide_type": "subslide"
    }
   },
   "source": [
    "### shutil - High-level file operations\n",
    "\n",
    "Copy of files and directories can be done with shutil, in particular with shutil.copytree."
   ]
  },
  {
   "cell_type": "markdown",
   "metadata": {
    "slideshow": {
     "slide_type": "subslide"
    }
   },
   "source": [
    "### pdb: useful to debug code\n",
    "\n",
    "On a script: \n",
    "\n",
    "1. import pdb\n",
    "2. write pdb.set_trace() to set up a breakpoint\n",
    "3. run the script \n",
    "\n",
    "At execution time, the script will stop at the first line containing pdb.set_trace()\n",
    "and gives the user access to the interpreter. \n",
    "\n",
    "Remarks: \n",
    "\n",
    "- even nicer: `ipdb` (but not part of the standard library).\n",
    "\n",
    "- even nicer: `breakpoint()` built-in function in Python 3.7.\n"
   ]
  },
  {
   "cell_type": "markdown",
   "metadata": {
    "slideshow": {
     "slide_type": "subslide"
    }
   },
   "source": [
    "### subprocess\n",
    "\n",
    "subprocess is very important since it is the simple way to launch other programs and bash commands from Python. For example, in order to run bash (and not sh) commands, you can do"
   ]
  },
  {
   "cell_type": "code",
   "execution_count": 20,
   "metadata": {},
   "outputs": [
    {
     "name": "stdout",
     "output_type": "stream",
     "text": [
      "command failed with return code 1\n"
     ]
    }
   ],
   "source": [
    "import subprocess\n",
    "def call_bash(commands):\n",
    "    return subprocess.call(['/bin/bash', '-c', commands])\n",
    "ret = call_bash(\"\"\"\n",
    "echo Hello; cat /tmp/jfdkfjdk\n",
    "\"\"\")\n",
    "if ret == 0:\n",
    "    print(\"command succeed\")\n",
    "else:\n",
    "    print(f\"command failed with return code {ret}\")"
   ]
  },
  {
   "cell_type": "markdown",
   "metadata": {
    "slideshow": {
     "slide_type": "subslide"
    }
   },
   "source": [
    "### argparse - Parser for command-line options, arguments and sub-commands\n",
    "\n",
    "argparse is the right tool to develop a command line script with options and help. Example from the tutorial at https://docs.python.org/3/howto/argparse.html :\n",
    "\n",
    "```python3\n",
    "# File prog.py\n",
    "import argparse\n",
    "parser = argparse.ArgumentParser()\n",
    "parser.add_argument(\"echo\", help=\"echo the string you use here\")\n",
    "args = parser.parse_args()\n",
    "print(args.echo)\n",
    "```\n",
    "\n",
    "#### Usage :\n",
    "```bash\n",
    "$ python3 prog.py\n",
    "usage: prog.py [-h] echo\n",
    "prog.py: error: the following arguments are required: echo\n",
    "$ python3 prog.py --help\n",
    "usage: prog.py [-h] echo\n",
    "\n",
    "positional arguments:\n",
    "  echo        echo the string you use here\n",
    "\n",
    "optional arguments:\n",
    "  -h, --help  show this help message and exit\n",
    "$ python3 prog.py foo\n",
    "foo\n",
    "```"
   ]
  },
  {
   "cell_type": "markdown",
   "metadata": {
    "slideshow": {
     "slide_type": "subslide"
    }
   },
   "source": [
    "### logging - Event logging system\n",
    "\n",
    "logging allows the programmer to print (or not) different levels of messages."
   ]
  },
  {
   "cell_type": "code",
   "execution_count": 21,
   "metadata": {},
   "outputs": [
    {
     "name": "stderr",
     "output_type": "stream",
     "text": [
      "2019-05-29 14:29:05,351 - root - INFO - Would you like to have a \"beer\"?\n"
     ]
    }
   ],
   "source": [
    "import logging\n",
    "log_level = logging.INFO  # to get information messages\n",
    "# log_level = logging.WARNING  # no information messages\n",
    "logging.basicConfig(format='%(asctime)s - %(name)s - %(levelname)s - %(message)s',\n",
    "                    level=log_level)\n",
    "\n",
    "thing = 'beer'\n",
    "logging.info('Would you like to have a \"%s\"?', thing)"
   ]
  }
 ],
 "metadata": {
  "celltoolbar": "Slideshow",
  "kernelspec": {
   "display_name": "Python 3",
   "language": "python",
   "name": "python3"
  },
  "language_info": {
   "codemirror_mode": {
    "name": "ipython",
    "version": 3
   },
   "file_extension": ".py",
   "mimetype": "text/x-python",
   "name": "python",
   "nbconvert_exporter": "python",
   "pygments_lexer": "ipython3",
   "version": "3.7.2"
  }
 },
 "nbformat": 4,
 "nbformat_minor": 2
}
