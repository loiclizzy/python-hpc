{
 "cells": [
  {
   "cell_type": "markdown",
   "metadata": {
    "slideshow": {
     "slide_type": "slide"
    }
   },
   "source": [
    "# Pandas  : Python Data Analysis Library\n",
    "\n",
    "<div><img style=\"float: left;margin-left : 70px\" src='images/pandas_logo.png' height=\"500\" width=\"500\"/>"
   ]
  },
  {
   "cell_type": "markdown",
   "metadata": {
    "slideshow": {
     "slide_type": "slide"
    }
   },
   "source": [
    "# Pandas a Data Analysis Library\n",
    "\n",
    "pandas is an open source, BSD-licensed library providing high-performance, easy-to-use data structures and data analysis tools for the Python programming language.\n",
    "\n",
    "GeoExtension : geopandas"
   ]
  },
  {
   "cell_type": "markdown",
   "metadata": {
    "slideshow": {
     "slide_type": "slide"
    }
   },
   "source": [
    "# Webography\n",
    "\n",
    "- Online Doc: https://pandas.pydata.org/\n",
    "- CheatSheet : https://pandas.pydata.org/Pandas_Cheat_Sheet.pdf\n",
    "- Tutorials:\n",
    "    - https://www.dataschool.io/easier-data-analysis-with-pandas/\n",
    "    - https://www.dataschool.io/data-science-best-practices-with-pandas/\n",
    "- PySciDataGre Talk : \n"
   ]
  },
  {
   "cell_type": "markdown",
   "metadata": {
    "slideshow": {
     "slide_type": "slide"
    }
   },
   "source": [
    "Code using pandas usually starts with the import statement"
   ]
  },
  {
   "cell_type": "code",
   "execution_count": null,
   "metadata": {
    "collapsed": true
   },
   "outputs": [],
   "source": [
    "import pandas as pd"
   ]
  },
  {
   "cell_type": "markdown",
   "metadata": {
    "slideshow": {
     "slide_type": "slide"
    }
   },
   "source": [
    "Pandas \n",
    "- 2 data structures (Series, DataFrame) for data analysis\n",
    "    \n",
    "- multiple methods for convenient data filtering.\n",
    "\n",
    "- Toolkit utilities to perform Input/Output operations.\n",
    "It can read data from a variety of formats such as CSV, TSV, MS Excel, etc.\n"
   ]
  },
  {
   "cell_type": "markdown",
   "metadata": {
    "slideshow": {
     "slide_type": "slide"
    }
   },
   "source": [
    "Pandas has two main data structures for data storage\n",
    "\n",
    "- Series\n",
    "- DataFrame\n"
   ]
  },
  {
   "cell_type": "code",
   "execution_count": 10,
   "metadata": {
    "slideshow": {
     "slide_type": "slide"
    }
   },
   "outputs": [
    {
     "name": "stdout",
     "output_type": "stream",
     "text": [
      "0    1\n",
      "1    2\n",
      "2    3\n",
      "3    4\n",
      "dtype: int64\n",
      "10\n",
      "2.5\n",
      "0,1\n",
      "1,2\n",
      "2,3\n",
      "3,4\n",
      "\n",
      "0     apple\n",
      "1    orange\n",
      "2     mango\n",
      "3      pear\n",
      "dtype: object\n"
     ]
    }
   ],
   "source": [
    "## Series structure\n",
    "\n",
    "import pandas as pd\n",
    "import numpy as np\n",
    "\n",
    "series1 = pd.Series([1,2,3,4])  \n",
    "print(series1)  \n",
    "\n",
    "print(series1.sum())\n",
    "\n",
    "print(series1.mean())\n",
    "print(series1.to_csv())\n",
    "\n",
    "fruits = np.array(['kiwi','orange','mango','apple'])  \n",
    "series2 = pd.Series(fruits)  \n",
    "print(series2)\n",
    "\n"
   ]
  },
  {
   "cell_type": "markdown",
   "metadata": {
    "slideshow": {
     "slide_type": "slide"
    }
   },
   "source": [
    "## How to create a data frame ?\n"
   ]
  },
  {
   "cell_type": "markdown",
   "metadata": {
    "slideshow": {
     "slide_type": "fragment"
    }
   },
   "source": [
    "### From scratch\n"
   ]
  },
  {
   "cell_type": "code",
   "execution_count": 1,
   "metadata": {},
   "outputs": [
    {
     "name": "stdout",
     "output_type": "stream",
     "text": [
      "    Name     Sex  Age\n",
      "0   John    Male   20\n",
      "1   Paul    Male   40\n",
      "2  Debby  Female   19\n",
      "3  Laura  Female   30\n"
     ]
    }
   ],
   "source": [
    "## DataFrame structure\n",
    "import pandas as pd \n",
    "  \n",
    "# intialise data of lists. \n",
    "data = {'Name':['John', 'Paul', 'Debby', 'Laura'], 'Sex':['Male','Male','Female','Female'],'Age':[20, 40, 19, 30]} \n",
    "  \n",
    "# Create DataFrame \n",
    "df = pd.DataFrame(data)\n",
    "print(df)\n"
   ]
  },
  {
   "cell_type": "markdown",
   "metadata": {
    "slideshow": {
     "slide_type": "subslide"
    }
   },
   "source": [
    "## From a File"
   ]
  },
  {
   "cell_type": "code",
   "execution_count": 2,
   "metadata": {},
   "outputs": [
    {
     "name": "stdout",
     "output_type": "stream",
     "text": [
      "    Name     Sex  Age\n",
      "0   John    Male   20\n",
      "1   Paul    Male   40\n",
      "2  Debby  Female   19\n",
      "3  Laura  Female   30\n"
     ]
    }
   ],
   "source": [
    "import pandas as pd\n",
    "df_person = pd.read_csv('files/person.txt', sep = ',', encoding = \"utf-8\", header=0)\n",
    "print(df_person)"
   ]
  },
  {
   "cell_type": "markdown",
   "metadata": {
    "slideshow": {
     "slide_type": "slide"
    }
   },
   "source": [
    "## Basics commands"
   ]
  },
  {
   "cell_type": "code",
   "execution_count": 51,
   "metadata": {},
   "outputs": [
    {
     "name": "stdout",
     "output_type": "stream",
     "text": [
      "Index(['Name', 'Sex', 'Age', 'Nationality'], dtype='object')\n",
      "0    20\n",
      "1    40\n",
      "2    19\n",
      "3    30\n",
      "4    10\n",
      "5    34\n",
      "6    23\n",
      "7    49\n",
      "8    22\n",
      "Name: Age, dtype: int64\n",
      "0    20\n",
      "1    40\n",
      "2    19\n",
      "3    30\n",
      "4    10\n",
      "5    34\n",
      "6    23\n",
      "7    49\n",
      "8    22\n",
      "Name: Age, dtype: int64\n",
      "         Name  Age\n",
      "0        John   20\n",
      "1        Paul   40\n",
      "2       Debby   19\n",
      "3       Laura   30\n",
      "4       Glenn   10\n",
      "5  Marguerite   34\n",
      "6       Annie   23\n",
      "7     Stephen   49\n",
      "8         Ava   22\n",
      "             Age\n",
      "count   9.000000\n",
      "mean   27.444444\n",
      "std    12.001157\n",
      "min    10.000000\n",
      "25%    20.000000\n",
      "50%    23.000000\n",
      "75%    34.000000\n",
      "max    49.000000\n",
      "   Name   Sex  Age Nationality\n",
      "0  John  Male   20         USA\n",
      "1  Paul  Male   40         USA\n",
      "    Name     Sex  Age Nationality\n",
      "0   John    Male   20         USA\n",
      "1   Paul    Male   40         USA\n",
      "2  Debby  Female   19         USA\n",
      "3  Laura  Female   30         USA\n",
      "4  Glenn    Male   10         USA\n",
      "         Name     Sex  Age Nationality\n",
      "4       Glenn    Male   10         USA\n",
      "5  Marguerite  Female   34         USA\n",
      "6       Annie  Female   23         USA\n",
      "7     Stephen    Male   49         USA\n",
      "8         Ava  Female   22         USA\n"
     ]
    }
   ],
   "source": [
    "#display the dataframe columns\n",
    "print(df_person.columns)\n",
    "\n",
    "#query one column\n",
    "print(df_person[\"Age\"])\n",
    "\n",
    "# another method to query one column\n",
    "print(df_person.Age)\n",
    "\n",
    "#query multiple column\n",
    "print(df_person[['Name','Age']])\n",
    "\n",
    "#display simple statistics\n",
    "print(df_person.describe())\n",
    "\n",
    "# display the 5 first rows\n",
    "print(df_person.head())\n",
    "\n",
    "# display the 5 last rows\n",
    "print(df_person.tail())\n",
    "\n",
    "# display 2 first rows\n",
    "print(df_person[:2])\n",
    "\n"
   ]
  },
  {
   "cell_type": "markdown",
   "metadata": {},
   "source": [
    "# Add a row"
   ]
  },
  {
   "cell_type": "code",
   "execution_count": 4,
   "metadata": {},
   "outputs": [
    {
     "data": {
      "text/html": [
       "<div>\n",
       "<style scoped>\n",
       "    .dataframe tbody tr th:only-of-type {\n",
       "        vertical-align: middle;\n",
       "    }\n",
       "\n",
       "    .dataframe tbody tr th {\n",
       "        vertical-align: top;\n",
       "    }\n",
       "\n",
       "    .dataframe thead th {\n",
       "        text-align: right;\n",
       "    }\n",
       "</style>\n",
       "<table border=\"1\" class=\"dataframe\">\n",
       "  <thead>\n",
       "    <tr style=\"text-align: right;\">\n",
       "      <th></th>\n",
       "      <th>Name</th>\n",
       "      <th>Sex</th>\n",
       "      <th>Age</th>\n",
       "    </tr>\n",
       "  </thead>\n",
       "  <tbody>\n",
       "    <tr>\n",
       "      <th>0</th>\n",
       "      <td>John</td>\n",
       "      <td>Male</td>\n",
       "      <td>20</td>\n",
       "    </tr>\n",
       "    <tr>\n",
       "      <th>1</th>\n",
       "      <td>Paul</td>\n",
       "      <td>Male</td>\n",
       "      <td>40</td>\n",
       "    </tr>\n",
       "    <tr>\n",
       "      <th>2</th>\n",
       "      <td>Debby</td>\n",
       "      <td>Female</td>\n",
       "      <td>19</td>\n",
       "    </tr>\n",
       "    <tr>\n",
       "      <th>3</th>\n",
       "      <td>Laura</td>\n",
       "      <td>Female</td>\n",
       "      <td>30</td>\n",
       "    </tr>\n",
       "    <tr>\n",
       "      <th>4</th>\n",
       "      <td>Glenn</td>\n",
       "      <td>Male</td>\n",
       "      <td>10</td>\n",
       "    </tr>\n",
       "  </tbody>\n",
       "</table>\n",
       "</div>"
      ],
      "text/plain": [
       "    Name     Sex  Age\n",
       "0   John    Male   20\n",
       "1   Paul    Male   40\n",
       "2  Debby  Female   19\n",
       "3  Laura  Female   30\n",
       "4  Glenn    Male   10"
      ]
     },
     "execution_count": 4,
     "metadata": {},
     "output_type": "execute_result"
    }
   ],
   "source": [
    "df_person = df_person.append({'Name':'Glenn','Sex': 'Male','Age':10},ignore_index=True)\n",
    "df_person"
   ]
  },
  {
   "cell_type": "markdown",
   "metadata": {},
   "source": [
    "### Add some rows "
   ]
  },
  {
   "cell_type": "code",
   "execution_count": 5,
   "metadata": {},
   "outputs": [
    {
     "data": {
      "text/html": [
       "<div>\n",
       "<style scoped>\n",
       "    .dataframe tbody tr th:only-of-type {\n",
       "        vertical-align: middle;\n",
       "    }\n",
       "\n",
       "    .dataframe tbody tr th {\n",
       "        vertical-align: top;\n",
       "    }\n",
       "\n",
       "    .dataframe thead th {\n",
       "        text-align: right;\n",
       "    }\n",
       "</style>\n",
       "<table border=\"1\" class=\"dataframe\">\n",
       "  <thead>\n",
       "    <tr style=\"text-align: right;\">\n",
       "      <th></th>\n",
       "      <th>Name</th>\n",
       "      <th>Sex</th>\n",
       "      <th>Age</th>\n",
       "    </tr>\n",
       "  </thead>\n",
       "  <tbody>\n",
       "    <tr>\n",
       "      <th>0</th>\n",
       "      <td>John</td>\n",
       "      <td>Male</td>\n",
       "      <td>20</td>\n",
       "    </tr>\n",
       "    <tr>\n",
       "      <th>1</th>\n",
       "      <td>Paul</td>\n",
       "      <td>Male</td>\n",
       "      <td>40</td>\n",
       "    </tr>\n",
       "    <tr>\n",
       "      <th>2</th>\n",
       "      <td>Debby</td>\n",
       "      <td>Female</td>\n",
       "      <td>19</td>\n",
       "    </tr>\n",
       "    <tr>\n",
       "      <th>3</th>\n",
       "      <td>Laura</td>\n",
       "      <td>Female</td>\n",
       "      <td>30</td>\n",
       "    </tr>\n",
       "    <tr>\n",
       "      <th>4</th>\n",
       "      <td>Glenn</td>\n",
       "      <td>Male</td>\n",
       "      <td>10</td>\n",
       "    </tr>\n",
       "    <tr>\n",
       "      <th>5</th>\n",
       "      <td>Marguerite</td>\n",
       "      <td>Female</td>\n",
       "      <td>34</td>\n",
       "    </tr>\n",
       "    <tr>\n",
       "      <th>6</th>\n",
       "      <td>Annie</td>\n",
       "      <td>Female</td>\n",
       "      <td>23</td>\n",
       "    </tr>\n",
       "    <tr>\n",
       "      <th>7</th>\n",
       "      <td>Stephen</td>\n",
       "      <td>Male</td>\n",
       "      <td>49</td>\n",
       "    </tr>\n",
       "    <tr>\n",
       "      <th>8</th>\n",
       "      <td>Ava</td>\n",
       "      <td>Female</td>\n",
       "      <td>22</td>\n",
       "    </tr>\n",
       "  </tbody>\n",
       "</table>\n",
       "</div>"
      ],
      "text/plain": [
       "         Name     Sex  Age\n",
       "0        John    Male   20\n",
       "1        Paul    Male   40\n",
       "2       Debby  Female   19\n",
       "3       Laura  Female   30\n",
       "4       Glenn    Male   10\n",
       "5  Marguerite  Female   34\n",
       "6       Annie  Female   23\n",
       "7     Stephen    Male   49\n",
       "8         Ava  Female   22"
      ]
     },
     "execution_count": 5,
     "metadata": {},
     "output_type": "execute_result"
    }
   ],
   "source": [
    "data = {'Name':['Marguerite', 'Annie', 'Stephen', 'Ava'], 'Sex':['Female','Female','Male','Female'],'Age':[34, 23, 49, 22]} \n",
    "\n",
    "df_person= df_person.append(pd.DataFrame(data),ignore_index=True)\n",
    "df_person"
   ]
  },
  {
   "cell_type": "markdown",
   "metadata": {
    "slideshow": {
     "slide_type": "slide"
    }
   },
   "source": [
    "## Add a column"
   ]
  },
  {
   "cell_type": "code",
   "execution_count": 6,
   "metadata": {},
   "outputs": [
    {
     "data": {
      "text/html": [
       "<div>\n",
       "<style scoped>\n",
       "    .dataframe tbody tr th:only-of-type {\n",
       "        vertical-align: middle;\n",
       "    }\n",
       "\n",
       "    .dataframe tbody tr th {\n",
       "        vertical-align: top;\n",
       "    }\n",
       "\n",
       "    .dataframe thead th {\n",
       "        text-align: right;\n",
       "    }\n",
       "</style>\n",
       "<table border=\"1\" class=\"dataframe\">\n",
       "  <thead>\n",
       "    <tr style=\"text-align: right;\">\n",
       "      <th></th>\n",
       "      <th>Name</th>\n",
       "      <th>Sex</th>\n",
       "      <th>Age</th>\n",
       "      <th>Nationality</th>\n",
       "    </tr>\n",
       "  </thead>\n",
       "  <tbody>\n",
       "    <tr>\n",
       "      <th>0</th>\n",
       "      <td>John</td>\n",
       "      <td>Male</td>\n",
       "      <td>20</td>\n",
       "      <td>USA</td>\n",
       "    </tr>\n",
       "    <tr>\n",
       "      <th>1</th>\n",
       "      <td>Paul</td>\n",
       "      <td>Male</td>\n",
       "      <td>40</td>\n",
       "      <td>USA</td>\n",
       "    </tr>\n",
       "    <tr>\n",
       "      <th>2</th>\n",
       "      <td>Debby</td>\n",
       "      <td>Female</td>\n",
       "      <td>19</td>\n",
       "      <td>USA</td>\n",
       "    </tr>\n",
       "    <tr>\n",
       "      <th>3</th>\n",
       "      <td>Laura</td>\n",
       "      <td>Female</td>\n",
       "      <td>30</td>\n",
       "      <td>USA</td>\n",
       "    </tr>\n",
       "    <tr>\n",
       "      <th>4</th>\n",
       "      <td>Glenn</td>\n",
       "      <td>Male</td>\n",
       "      <td>10</td>\n",
       "      <td>USA</td>\n",
       "    </tr>\n",
       "    <tr>\n",
       "      <th>5</th>\n",
       "      <td>Marguerite</td>\n",
       "      <td>Female</td>\n",
       "      <td>34</td>\n",
       "      <td>USA</td>\n",
       "    </tr>\n",
       "    <tr>\n",
       "      <th>6</th>\n",
       "      <td>Annie</td>\n",
       "      <td>Female</td>\n",
       "      <td>23</td>\n",
       "      <td>USA</td>\n",
       "    </tr>\n",
       "    <tr>\n",
       "      <th>7</th>\n",
       "      <td>Stephen</td>\n",
       "      <td>Male</td>\n",
       "      <td>49</td>\n",
       "      <td>USA</td>\n",
       "    </tr>\n",
       "    <tr>\n",
       "      <th>8</th>\n",
       "      <td>Ava</td>\n",
       "      <td>Female</td>\n",
       "      <td>22</td>\n",
       "      <td>USA</td>\n",
       "    </tr>\n",
       "  </tbody>\n",
       "</table>\n",
       "</div>"
      ],
      "text/plain": [
       "         Name     Sex  Age Nationality\n",
       "0        John    Male   20         USA\n",
       "1        Paul    Male   40         USA\n",
       "2       Debby  Female   19         USA\n",
       "3       Laura  Female   30         USA\n",
       "4       Glenn    Male   10         USA\n",
       "5  Marguerite  Female   34         USA\n",
       "6       Annie  Female   23         USA\n",
       "7     Stephen    Male   49         USA\n",
       "8         Ava  Female   22         USA"
      ]
     },
     "execution_count": 6,
     "metadata": {},
     "output_type": "execute_result"
    }
   ],
   "source": [
    "df_person[\"Nationality\"] = 'USA'\n",
    "df_person"
   ]
  },
  {
   "cell_type": "markdown",
   "metadata": {},
   "source": [
    "## Basic statistics"
   ]
  },
  {
   "cell_type": "code",
   "execution_count": 7,
   "metadata": {},
   "outputs": [
    {
     "data": {
      "text/plain": [
       "pandas.core.series.Series"
      ]
     },
     "execution_count": 7,
     "metadata": {},
     "output_type": "execute_result"
    }
   ],
   "source": [
    "type(df_person.Age)"
   ]
  },
  {
   "cell_type": "code",
   "execution_count": 12,
   "metadata": {},
   "outputs": [
    {
     "name": "stdout",
     "output_type": "stream",
     "text": [
      "27.444444444444443\n",
      "10\n",
      "49\n",
      "9\n"
     ]
    }
   ],
   "source": [
    "## Mean\n",
    "print (df_person.Age.mean())\n",
    "\n",
    "## Min and Max\n",
    "print (df_person.Age.min())\n",
    "print(df_person.Age.max())\n",
    "\n",
    "print (df_person.Age.count())"
   ]
  },
  {
   "cell_type": "markdown",
   "metadata": {
    "slideshow": {
     "slide_type": "slide"
    }
   },
   "source": [
    "## How to sort data ?"
   ]
  },
  {
   "cell_type": "code",
   "execution_count": 18,
   "metadata": {},
   "outputs": [
    {
     "name": "stdout",
     "output_type": "stream",
     "text": [
      "         Name     Sex  Age Nationality\n",
      "4       Glenn    Male   10         USA\n",
      "2       Debby  Female   19         USA\n",
      "0        John    Male   20         USA\n",
      "8         Ava  Female   22         USA\n",
      "6       Annie  Female   23         USA\n",
      "3       Laura  Female   30         USA\n",
      "5  Marguerite  Female   34         USA\n",
      "1        Paul    Male   40         USA\n",
      "7     Stephen    Male   49         USA\n"
     ]
    }
   ],
   "source": [
    "df_person_sorted = df_person.sort_values(['Age'], ascending=True)\n",
    "print(df_person_sorted)"
   ]
  },
  {
   "cell_type": "markdown",
   "metadata": {},
   "source": [
    "## Selection"
   ]
  },
  {
   "cell_type": "code",
   "execution_count": 66,
   "metadata": {},
   "outputs": [
    {
     "name": "stdout",
     "output_type": "stream",
     "text": [
      "         Name     Sex  Age Nationality\n",
      "2       Debby  Female   19         USA\n",
      "3       Laura  Female   30         USA\n",
      "5  Marguerite  Female   34         USA\n",
      "6       Annie  Female   23         USA\n",
      "8         Ava  Female   22         USA\n",
      "    Name     Sex  Age Nationality\n",
      "2  Debby  Female   19         USA\n",
      "4  Glenn    Male   10         USA\n",
      "      Name   Sex  Age Nationality\n",
      "1     Paul  Male   40         USA\n",
      "7  Stephen  Male   49         USA\n"
     ]
    }
   ],
   "source": [
    "# selection with one criteria\n",
    "print(df_person[df_person['Sex']=='Female'])\n",
    "\n",
    "print(df_person[df_person['Age']<20])\n",
    "\n",
    "# selection with 2 criteria\n",
    "print(df_person[(df_person['Sex'] =='Male') & (df_person['Age'] > 30)])"
   ]
  },
  {
   "cell_type": "markdown",
   "metadata": {
    "slideshow": {
     "slide_type": "slide"
    }
   },
   "source": [
    "## Update data"
   ]
  },
  {
   "cell_type": "markdown",
   "metadata": {},
   "source": [
    "## Group By\n",
    "\n",
    "- Splitting the data into groups based on some criteria.\n",
    "- Applying a function to each group independently.\n",
    "- Combining the results into a data structure.\n",
    "\n",
    "<div><img style=\"float: left;margin-left : 70px\" src='fig/groupby-example.png' height=\"500\" width=\"500\"/>"
   ]
  },
  {
   "cell_type": "code",
   "execution_count": 29,
   "metadata": {},
   "outputs": [
    {
     "name": "stdout",
     "output_type": "stream",
     "text": [
      "Sex\n",
      "Female    5\n",
      "Male      4\n",
      "Name: Sex, dtype: int64\n",
      "Sex\n",
      "Female    25.60\n",
      "Male      29.75\n",
      "Name: Age, dtype: float64\n"
     ]
    }
   ],
   "source": [
    "print(df_person.groupby('Sex')['Sex'].count())\n",
    "print(df_person.groupby('Sex')['Age'].mean())\n"
   ]
  },
  {
   "cell_type": "markdown",
   "metadata": {
    "slideshow": {
     "slide_type": "slide"
    }
   },
   "source": [
    "## Export Data "
   ]
  },
  {
   "cell_type": "code",
   "execution_count": 57,
   "metadata": {
    "slideshow": {
     "slide_type": "subslide"
    }
   },
   "outputs": [],
   "source": [
    "export_csv = df_person.to_csv (r'./files/export_person.csv', index = None, header=True) "
   ]
  },
  {
   "cell_type": "markdown",
   "metadata": {
    "slideshow": {
     "slide_type": "slide"
    }
   },
   "source": [
    "## Plot Data"
   ]
  },
  {
   "cell_type": "code",
   "execution_count": 62,
   "metadata": {},
   "outputs": [
    {
     "data": {
      "text/plain": [
       "<matplotlib.axes._subplots.AxesSubplot at 0x7fbc08ccc198>"
      ]
     },
     "execution_count": 62,
     "metadata": {},
     "output_type": "execute_result"
    },
    {
     "data": {
      "image/png": "[encoded data removed]",
      "text/plain": [
       "<Figure size 432x288 with 1 Axes>"
      ]
     },
     "metadata": {},
     "output_type": "display_data"
    }
   ],
   "source": [
    "%matplotlib inline\n",
    "df_person.groupby('Sex')['Sex'].count().plot.bar()"
   ]
  },
  {
   "cell_type": "code",
   "execution_count": null,
   "metadata": {},
   "outputs": [],
   "source": [
    "minimal TODO \n",
    "- little slicing\n",
    "- selection\n",
    "- join\n",
    "\n",
    "\n",
    "add diy\n"
   ]
  },
  {
   "cell_type": "code",
   "execution_count": null,
   "metadata": {},
   "outputs": [],
   "source": []
  }
 ],
 "metadata": {
  "celltoolbar": "Slideshow",
  "kernelspec": {
   "display_name": "Python 3",
   "language": "python",
   "name": "python3"
  },
  "language_info": {
   "codemirror_mode": {
    "name": "ipython",
    "version": 3
   },
   "file_extension": ".py",
   "mimetype": "text/x-python",
   "name": "python",
   "nbconvert_exporter": "python",
   "pygments_lexer": "ipython3",
   "version": "3.6.5"
  }
 },
 "nbformat": 4,
 "nbformat_minor": 2
}
