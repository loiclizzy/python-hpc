{
 "cells": [
  {
   "cell_type": "markdown",
   "metadata": {
    "slideshow": {
     "slide_type": "slide"
    }
   },
   "source": [
    "# Pandas  : Python Data Analysis Library\n",
    "\n",
    "<div><img style=\"float: left;margin-left : 70px\" src='images/pandas_logo.png' height=\"500\" width=\"500\"/>"
   ]
  },
  {
   "cell_type": "markdown",
   "metadata": {
    "slideshow": {
     "slide_type": "slide"
    }
   },
   "source": [
    "# Pandas a Data Analysis Library\n",
    "\n",
    "pandas is an open source, BSD-licensed library providing high-performance, easy-to-use data structures and data analysis tools for the Python programming language.\n",
    "\n",
    "GeoExtension : geopandas"
   ]
  },
  {
   "cell_type": "markdown",
   "metadata": {
    "slideshow": {
     "slide_type": "slide"
    }
   },
   "source": [
    "# Webography\n",
    "\n",
    "- Online Doc: https://pandas.pydata.org/\n",
    "- CheatSheet : https://pandas.pydata.org/Pandas_Cheat_Sheet.pdf\n",
    "- Tutorials:\n",
    "    - https://www.dataschool.io/easier-data-analysis-with-pandas/\n",
    "    - https://www.dataschool.io/data-science-best-practices-with-pandas/\n",
    "- Pandas PySciDataGre Talk : https://python.univ-grenoble-alpes.fr/working-session-librairie-pandas.html\n",
    "- GeoPandas : http://geopandas.org/"
   ]
  },
  {
   "cell_type": "markdown",
   "metadata": {
    "slideshow": {
     "slide_type": "slide"
    }
   },
   "source": [
    "Code using pandas usually starts with the import statement"
   ]
  },
  {
   "cell_type": "code",
   "execution_count": null,
   "metadata": {
    "collapsed": true
   },
   "outputs": [],
   "source": [
    "import pandas as pd"
   ]
  },
  {
   "cell_type": "markdown",
   "metadata": {
    "slideshow": {
     "slide_type": "slide"
    }
   },
   "source": [
    "Pandas \n",
    "- 2 data structures (Series, DataFrame) for data analysis\n",
    "    \n",
    "- multiple methods for convenient data filtering.\n",
    "\n",
    "- Toolkit utilities to perform Input/Output operations.\n",
    "It can read data from a variety of formats such as CSV, TSV, MS Excel, etc.\n"
   ]
  },
  {
   "cell_type": "markdown",
   "metadata": {
    "slideshow": {
     "slide_type": "slide"
    }
   },
   "source": [
    "Pandas has two main data structures for data storage\n",
    "\n",
    "- Series\n",
    "- DataFrame\n"
   ]
  },
  {
   "cell_type": "code",
   "execution_count": 10,
   "metadata": {
    "slideshow": {
     "slide_type": "slide"
    }
   },
   "outputs": [
    {
     "name": "stdout",
     "output_type": "stream",
     "text": [
      "0    1\n",
      "1    2\n",
      "2    3\n",
      "3    4\n",
      "dtype: int64\n",
      "10\n",
      "2.5\n",
      "0,1\n",
      "1,2\n",
      "2,3\n",
      "3,4\n",
      "\n",
      "0     apple\n",
      "1    orange\n",
      "2     mango\n",
      "3      pear\n",
      "dtype: object\n"
     ]
    }
   ],
   "source": [
    "## Series structure\n",
    "\n",
    "import pandas as pd\n",
    "import numpy as np\n",
    "\n",
    "series1 = pd.Series([1,2,3,4])  \n",
    "print(series1)  \n",
    "\n",
    "print(series1.sum())\n",
    "\n",
    "print(series1.mean())\n",
    "print(series1.to_csv())\n",
    "\n",
    "fruits = np.array(['kiwi','orange','mango','apple'])  \n",
    "series2 = pd.Series(fruits)  \n",
    "print(series2)\n",
    "\n"
   ]
  },
  {
   "cell_type": "markdown",
   "metadata": {
    "slideshow": {
     "slide_type": "slide"
    }
   },
   "source": [
    "# Dataframe\n",
    "\n",
    "A Dictionnary of series where keys are column name\n",
    "\n",
    "<div><img style=\"float: left;margin-left : 70px\" src='fig/dataframe_type.png' height=\"800\" width=\"800\"/>\n"
   ]
  },
  {
   "cell_type": "markdown",
   "metadata": {
    "slideshow": {
     "slide_type": "slide"
    }
   },
   "source": [
    "## How to create a data frame ?\n"
   ]
  },
  {
   "cell_type": "markdown",
   "metadata": {
    "slideshow": {
     "slide_type": "fragment"
    }
   },
   "source": [
    "### From scratch\n"
   ]
  },
  {
   "cell_type": "code",
   "execution_count": 2,
   "metadata": {},
   "outputs": [
    {
     "name": "stdout",
     "output_type": "stream",
     "text": [
      "    Name     Sex  Age\n",
      "0   John    Male   20\n",
      "1   Paul    Male   40\n",
      "2  Debby  Female   19\n",
      "3  Laura  Female   30\n"
     ]
    },
    {
     "data": {
      "text/plain": [
       "pandas.core.series.Series"
      ]
     },
     "execution_count": 2,
     "metadata": {},
     "output_type": "execute_result"
    }
   ],
   "source": [
    "## DataFrame structure\n",
    "import pandas as pd \n",
    "  \n",
    "# intialise data of lists. \n",
    "data = {'Name':['John', 'Paul', 'Debby', 'Laura'], 'Sex':['Male','Male','Female','Female'],'Age':[20, 40, 19, 30]} \n",
    "  \n",
    "# Create DataFrame \n",
    "df = pd.DataFrame(data)\n",
    "print(df)\n",
    "\n",
    "type(df.Age)\n"
   ]
  },
  {
   "cell_type": "markdown",
   "metadata": {
    "slideshow": {
     "slide_type": "subslide"
    }
   },
   "source": [
    "## From a File"
   ]
  },
  {
   "cell_type": "code",
   "execution_count": 3,
   "metadata": {},
   "outputs": [
    {
     "name": "stdout",
     "output_type": "stream",
     "text": [
      "    Name     Sex  Age\n",
      "0   John    Male   20\n",
      "1   Paul    Male   40\n",
      "2  Debby  Female   19\n",
      "3  Laura  Female   30\n"
     ]
    }
   ],
   "source": [
    "import pandas as pd\n",
    "df_person = pd.read_csv('files/person.txt', sep = ',',encoding = \"utf-8\", header=0)\n",
    "print(df_person)"
   ]
  },
  {
   "cell_type": "markdown",
   "metadata": {
    "slideshow": {
     "slide_type": "slide"
    }
   },
   "source": [
    "By default, new index is created\n",
    "\n",
    "If you want use a based field index, you have to specify it on the read_csv function:\n",
    "\n",
    "df_person = pd.read_csv('files/person.txt', sep = ',',index_col='Name',encoding = \"utf-8\", header=0)\n"
   ]
  },
  {
   "cell_type": "markdown",
   "metadata": {
    "slideshow": {
     "slide_type": "slide"
    }
   },
   "source": [
    "## Basics commands"
   ]
  },
  {
   "cell_type": "code",
   "execution_count": 4,
   "metadata": {
    "slideshow": {
     "slide_type": "subslide"
    }
   },
   "outputs": [
    {
     "name": "stdout",
     "output_type": "stream",
     "text": [
      "             Age\n",
      "count   4.000000\n",
      "mean   27.250000\n",
      "std     9.844626\n",
      "min    19.000000\n",
      "25%    19.750000\n",
      "50%    25.000000\n",
      "75%    32.500000\n",
      "max    40.000000\n"
     ]
    }
   ],
   "source": [
    "#display simple statistics\n",
    "print(df_person.describe())"
   ]
  },
  {
   "cell_type": "code",
   "execution_count": 31,
   "metadata": {
    "slideshow": {
     "slide_type": "subslide"
    }
   },
   "outputs": [
    {
     "name": "stdout",
     "output_type": "stream",
     "text": [
      "Index(['Name', 'Sex', 'Age'], dtype='object')\n"
     ]
    }
   ],
   "source": [
    "#display the dataframe columns\n",
    "print(df_person.columns)"
   ]
  },
  {
   "cell_type": "code",
   "execution_count": 6,
   "metadata": {
    "slideshow": {
     "slide_type": "subslide"
    }
   },
   "outputs": [
    {
     "name": "stdout",
     "output_type": "stream",
     "text": [
      "0    20\n",
      "1    40\n",
      "2    19\n",
      "3    30\n",
      "Name: Age, dtype: int64\n",
      "0    20\n",
      "1    40\n",
      "2    19\n",
      "3    30\n",
      "Name: Age, dtype: int64\n"
     ]
    }
   ],
   "source": [
    "#query one column\n",
    "print(df_person[\"Age\"])\n",
    "\n",
    "# another method to query one column\n",
    "print(df_person.Age)\n"
   ]
  },
  {
   "cell_type": "code",
   "execution_count": 5,
   "metadata": {
    "slideshow": {
     "slide_type": "subslide"
    }
   },
   "outputs": [
    {
     "name": "stdout",
     "output_type": "stream",
     "text": [
      "    Name  Age\n",
      "0   John   20\n",
      "1   Paul   40\n",
      "2  Debby   19\n",
      "3  Laura   30\n"
     ]
    }
   ],
   "source": [
    "#query multiple column\n",
    "print(df_person[['Name','Age']])"
   ]
  },
  {
   "cell_type": "code",
   "execution_count": 7,
   "metadata": {
    "slideshow": {
     "slide_type": "subslide"
    }
   },
   "outputs": [
    {
     "name": "stdout",
     "output_type": "stream",
     "text": [
      "['Male' 'Female']\n"
     ]
    }
   ],
   "source": [
    "# display unique value of a column\n",
    "print(df_person.Sex.unique())\n"
   ]
  },
  {
   "cell_type": "code",
   "execution_count": 8,
   "metadata": {
    "slideshow": {
     "slide_type": "subslide"
    }
   },
   "outputs": [
    {
     "name": "stdout",
     "output_type": "stream",
     "text": [
      "    Name     Sex  Age\n",
      "0   John    Male   20\n",
      "1   Paul    Male   40\n",
      "2  Debby  Female   19\n",
      "3  Laura  Female   30\n",
      "    Name     Sex  Age\n",
      "0   John    Male   20\n",
      "1   Paul    Male   40\n",
      "2  Debby  Female   19\n",
      "3  Laura  Female   30\n",
      "   Name   Sex  Age\n",
      "0  John  Male   20\n",
      "1  Paul  Male   40\n",
      "Name     Debby\n",
      "Sex     Female\n",
      "Age         19\n",
      "Name: 2, dtype: object\n",
      "    Name     Sex  Age\n",
      "0   John    Male   20\n",
      "1   Paul    Male   40\n",
      "2  Debby  Female   19\n",
      "3  Laura  Female   30\n"
     ]
    }
   ],
   "source": [
    "\n",
    "# display the 5 first rows\n",
    "print(df_person.head())\n",
    "\n",
    "# display the 5 last rows\n",
    "print(df_person.tail())\n",
    "\n",
    "# display 2 first rows\n",
    "print(df_person[:2])\n",
    "\n",
    "# display by number position\n",
    "print(df_person.iloc[2])\n",
    "\n",
    "\n",
    "print(df_person.iloc[:])\n"
   ]
  },
  {
   "cell_type": "code",
   "execution_count": 9,
   "metadata": {
    "slideshow": {
     "slide_type": "subslide"
    }
   },
   "outputs": [
    {
     "name": "stdout",
     "output_type": "stream",
     "text": [
      "Name     Debby\n",
      "Sex     Female\n",
      "Age         19\n",
      "Name: 2, dtype: object\n"
     ]
    }
   ],
   "source": [
    "print(df_person.loc[2])"
   ]
  },
  {
   "cell_type": "code",
   "execution_count": 10,
   "metadata": {
    "slideshow": {
     "slide_type": "subslide"
    }
   },
   "outputs": [
    {
     "name": "stdout",
     "output_type": "stream",
     "text": [
      "0    22\n",
      "1    42\n",
      "2    21\n",
      "3    32\n",
      "Name: Age, dtype: int64\n"
     ]
    }
   ],
   "source": [
    "# Basic operations on columns \n",
    "df_person.Age = df_person.Age + 2\n",
    "print(df_person.Age)\n"
   ]
  },
  {
   "cell_type": "markdown",
   "metadata": {
    "slideshow": {
     "slide_type": "slide"
    }
   },
   "source": [
    "# Add a row"
   ]
  },
  {
   "cell_type": "code",
   "execution_count": 11,
   "metadata": {
    "slideshow": {
     "slide_type": "subslide"
    }
   },
   "outputs": [
    {
     "data": {
      "text/html": [
       "<div>\n",
       "<style scoped>\n",
       "    .dataframe tbody tr th:only-of-type {\n",
       "        vertical-align: middle;\n",
       "    }\n",
       "\n",
       "    .dataframe tbody tr th {\n",
       "        vertical-align: top;\n",
       "    }\n",
       "\n",
       "    .dataframe thead th {\n",
       "        text-align: right;\n",
       "    }\n",
       "</style>\n",
       "<table border=\"1\" class=\"dataframe\">\n",
       "  <thead>\n",
       "    <tr style=\"text-align: right;\">\n",
       "      <th></th>\n",
       "      <th>Name</th>\n",
       "      <th>Sex</th>\n",
       "      <th>Age</th>\n",
       "    </tr>\n",
       "  </thead>\n",
       "  <tbody>\n",
       "    <tr>\n",
       "      <th>0</th>\n",
       "      <td>John</td>\n",
       "      <td>Male</td>\n",
       "      <td>22</td>\n",
       "    </tr>\n",
       "    <tr>\n",
       "      <th>1</th>\n",
       "      <td>Paul</td>\n",
       "      <td>Male</td>\n",
       "      <td>42</td>\n",
       "    </tr>\n",
       "    <tr>\n",
       "      <th>2</th>\n",
       "      <td>Debby</td>\n",
       "      <td>Female</td>\n",
       "      <td>21</td>\n",
       "    </tr>\n",
       "    <tr>\n",
       "      <th>3</th>\n",
       "      <td>Laura</td>\n",
       "      <td>Female</td>\n",
       "      <td>32</td>\n",
       "    </tr>\n",
       "    <tr>\n",
       "      <th>4</th>\n",
       "      <td>Glenn</td>\n",
       "      <td>Male</td>\n",
       "      <td>10</td>\n",
       "    </tr>\n",
       "  </tbody>\n",
       "</table>\n",
       "</div>"
      ],
      "text/plain": [
       "    Name     Sex  Age\n",
       "0   John    Male   22\n",
       "1   Paul    Male   42\n",
       "2  Debby  Female   21\n",
       "3  Laura  Female   32\n",
       "4  Glenn    Male   10"
      ]
     },
     "execution_count": 11,
     "metadata": {},
     "output_type": "execute_result"
    }
   ],
   "source": [
    "df_person = df_person.append({'Name':'Glenn','Sex': 'Male','Age':10},ignore_index=True)\n",
    "df_person"
   ]
  },
  {
   "cell_type": "markdown",
   "metadata": {
    "slideshow": {
     "slide_type": "subslide"
    }
   },
   "source": [
    "### Add some rows "
   ]
  },
  {
   "cell_type": "code",
   "execution_count": 12,
   "metadata": {},
   "outputs": [
    {
     "data": {
      "text/html": [
       "<div>\n",
       "<style scoped>\n",
       "    .dataframe tbody tr th:only-of-type {\n",
       "        vertical-align: middle;\n",
       "    }\n",
       "\n",
       "    .dataframe tbody tr th {\n",
       "        vertical-align: top;\n",
       "    }\n",
       "\n",
       "    .dataframe thead th {\n",
       "        text-align: right;\n",
       "    }\n",
       "</style>\n",
       "<table border=\"1\" class=\"dataframe\">\n",
       "  <thead>\n",
       "    <tr style=\"text-align: right;\">\n",
       "      <th></th>\n",
       "      <th>Name</th>\n",
       "      <th>Sex</th>\n",
       "      <th>Age</th>\n",
       "    </tr>\n",
       "  </thead>\n",
       "  <tbody>\n",
       "    <tr>\n",
       "      <th>0</th>\n",
       "      <td>John</td>\n",
       "      <td>Male</td>\n",
       "      <td>22</td>\n",
       "    </tr>\n",
       "    <tr>\n",
       "      <th>1</th>\n",
       "      <td>Paul</td>\n",
       "      <td>Male</td>\n",
       "      <td>42</td>\n",
       "    </tr>\n",
       "    <tr>\n",
       "      <th>2</th>\n",
       "      <td>Debby</td>\n",
       "      <td>Female</td>\n",
       "      <td>21</td>\n",
       "    </tr>\n",
       "    <tr>\n",
       "      <th>3</th>\n",
       "      <td>Laura</td>\n",
       "      <td>Female</td>\n",
       "      <td>32</td>\n",
       "    </tr>\n",
       "    <tr>\n",
       "      <th>4</th>\n",
       "      <td>Glenn</td>\n",
       "      <td>Male</td>\n",
       "      <td>10</td>\n",
       "    </tr>\n",
       "    <tr>\n",
       "      <th>5</th>\n",
       "      <td>Marguerite</td>\n",
       "      <td>Female</td>\n",
       "      <td>34</td>\n",
       "    </tr>\n",
       "    <tr>\n",
       "      <th>6</th>\n",
       "      <td>Annie</td>\n",
       "      <td>Female</td>\n",
       "      <td>23</td>\n",
       "    </tr>\n",
       "    <tr>\n",
       "      <th>7</th>\n",
       "      <td>Stephen</td>\n",
       "      <td>Male</td>\n",
       "      <td>49</td>\n",
       "    </tr>\n",
       "    <tr>\n",
       "      <th>8</th>\n",
       "      <td>Ava</td>\n",
       "      <td>Female</td>\n",
       "      <td>22</td>\n",
       "    </tr>\n",
       "  </tbody>\n",
       "</table>\n",
       "</div>"
      ],
      "text/plain": [
       "         Name     Sex  Age\n",
       "0        John    Male   22\n",
       "1        Paul    Male   42\n",
       "2       Debby  Female   21\n",
       "3       Laura  Female   32\n",
       "4       Glenn    Male   10\n",
       "5  Marguerite  Female   34\n",
       "6       Annie  Female   23\n",
       "7     Stephen    Male   49\n",
       "8         Ava  Female   22"
      ]
     },
     "execution_count": 12,
     "metadata": {},
     "output_type": "execute_result"
    }
   ],
   "source": [
    "data = {'Name':['Marguerite', 'Annie', 'Stephen', 'Ava'], 'Sex':['Female','Female','Male','Female'],'Age':[34, 23, 49, 22]} \n",
    "\n",
    "df_person= df_person.append(pd.DataFrame(data),ignore_index=True)\n",
    "df_person"
   ]
  },
  {
   "cell_type": "markdown",
   "metadata": {
    "slideshow": {
     "slide_type": "slide"
    }
   },
   "source": [
    "## Add a column"
   ]
  },
  {
   "cell_type": "code",
   "execution_count": 13,
   "metadata": {
    "slideshow": {
     "slide_type": "subslide"
    }
   },
   "outputs": [
    {
     "data": {
      "text/html": [
       "<div>\n",
       "<style scoped>\n",
       "    .dataframe tbody tr th:only-of-type {\n",
       "        vertical-align: middle;\n",
       "    }\n",
       "\n",
       "    .dataframe tbody tr th {\n",
       "        vertical-align: top;\n",
       "    }\n",
       "\n",
       "    .dataframe thead th {\n",
       "        text-align: right;\n",
       "    }\n",
       "</style>\n",
       "<table border=\"1\" class=\"dataframe\">\n",
       "  <thead>\n",
       "    <tr style=\"text-align: right;\">\n",
       "      <th></th>\n",
       "      <th>Name</th>\n",
       "      <th>Sex</th>\n",
       "      <th>Age</th>\n",
       "      <th>Nationality</th>\n",
       "    </tr>\n",
       "  </thead>\n",
       "  <tbody>\n",
       "    <tr>\n",
       "      <th>0</th>\n",
       "      <td>John</td>\n",
       "      <td>Male</td>\n",
       "      <td>22</td>\n",
       "      <td>USA</td>\n",
       "    </tr>\n",
       "    <tr>\n",
       "      <th>1</th>\n",
       "      <td>Paul</td>\n",
       "      <td>Male</td>\n",
       "      <td>42</td>\n",
       "      <td>USA</td>\n",
       "    </tr>\n",
       "    <tr>\n",
       "      <th>2</th>\n",
       "      <td>Debby</td>\n",
       "      <td>Female</td>\n",
       "      <td>21</td>\n",
       "      <td>USA</td>\n",
       "    </tr>\n",
       "    <tr>\n",
       "      <th>3</th>\n",
       "      <td>Laura</td>\n",
       "      <td>Female</td>\n",
       "      <td>32</td>\n",
       "      <td>USA</td>\n",
       "    </tr>\n",
       "    <tr>\n",
       "      <th>4</th>\n",
       "      <td>Glenn</td>\n",
       "      <td>Male</td>\n",
       "      <td>10</td>\n",
       "      <td>USA</td>\n",
       "    </tr>\n",
       "    <tr>\n",
       "      <th>5</th>\n",
       "      <td>Marguerite</td>\n",
       "      <td>Female</td>\n",
       "      <td>34</td>\n",
       "      <td>USA</td>\n",
       "    </tr>\n",
       "    <tr>\n",
       "      <th>6</th>\n",
       "      <td>Annie</td>\n",
       "      <td>Female</td>\n",
       "      <td>23</td>\n",
       "      <td>USA</td>\n",
       "    </tr>\n",
       "    <tr>\n",
       "      <th>7</th>\n",
       "      <td>Stephen</td>\n",
       "      <td>Male</td>\n",
       "      <td>49</td>\n",
       "      <td>USA</td>\n",
       "    </tr>\n",
       "    <tr>\n",
       "      <th>8</th>\n",
       "      <td>Ava</td>\n",
       "      <td>Female</td>\n",
       "      <td>22</td>\n",
       "      <td>USA</td>\n",
       "    </tr>\n",
       "  </tbody>\n",
       "</table>\n",
       "</div>"
      ],
      "text/plain": [
       "         Name     Sex  Age Nationality\n",
       "0        John    Male   22         USA\n",
       "1        Paul    Male   42         USA\n",
       "2       Debby  Female   21         USA\n",
       "3       Laura  Female   32         USA\n",
       "4       Glenn    Male   10         USA\n",
       "5  Marguerite  Female   34         USA\n",
       "6       Annie  Female   23         USA\n",
       "7     Stephen    Male   49         USA\n",
       "8         Ava  Female   22         USA"
      ]
     },
     "execution_count": 13,
     "metadata": {},
     "output_type": "execute_result"
    }
   ],
   "source": [
    "df_person[\"Nationality\"] = 'USA'\n",
    "df_person"
   ]
  },
  {
   "cell_type": "markdown",
   "metadata": {
    "slideshow": {
     "slide_type": "slide"
    }
   },
   "source": [
    "## Basic statistics"
   ]
  },
  {
   "cell_type": "code",
   "execution_count": 7,
   "metadata": {
    "slideshow": {
     "slide_type": "subslide"
    }
   },
   "outputs": [
    {
     "data": {
      "text/plain": [
       "pandas.core.series.Series"
      ]
     },
     "execution_count": 7,
     "metadata": {},
     "output_type": "execute_result"
    }
   ],
   "source": [
    "type(df_person.Age)"
   ]
  },
  {
   "cell_type": "code",
   "execution_count": 14,
   "metadata": {
    "slideshow": {
     "slide_type": "subslide"
    }
   },
   "outputs": [
    {
     "name": "stdout",
     "output_type": "stream",
     "text": [
      "28.333333333333332\n",
      "10\n",
      "49\n",
      "9\n"
     ]
    }
   ],
   "source": [
    "## Mean\n",
    "print (df_person.Age.mean())\n",
    "\n",
    "## Min and Max\n",
    "print (df_person.Age.min())\n",
    "print(df_person.Age.max())\n",
    "\n",
    "print (df_person.Age.count())"
   ]
  },
  {
   "cell_type": "markdown",
   "metadata": {
    "slideshow": {
     "slide_type": "slide"
    }
   },
   "source": [
    "## How to sort data ?"
   ]
  },
  {
   "cell_type": "code",
   "execution_count": 15,
   "metadata": {
    "slideshow": {
     "slide_type": "subslide"
    }
   },
   "outputs": [
    {
     "name": "stdout",
     "output_type": "stream",
     "text": [
      "         Name     Sex  Age Nationality\n",
      "4       Glenn    Male   10         USA\n",
      "2       Debby  Female   21         USA\n",
      "0        John    Male   22         USA\n",
      "8         Ava  Female   22         USA\n",
      "6       Annie  Female   23         USA\n",
      "3       Laura  Female   32         USA\n",
      "5  Marguerite  Female   34         USA\n",
      "1        Paul    Male   42         USA\n",
      "7     Stephen    Male   49         USA\n"
     ]
    }
   ],
   "source": [
    "df_person_sorted = df_person.sort_values(['Age'], ascending=True)\n",
    "print(df_person_sorted)"
   ]
  },
  {
   "cell_type": "markdown",
   "metadata": {
    "slideshow": {
     "slide_type": "slide"
    }
   },
   "source": [
    "## Selection"
   ]
  },
  {
   "cell_type": "code",
   "execution_count": 16,
   "metadata": {
    "slideshow": {
     "slide_type": "subslide"
    }
   },
   "outputs": [
    {
     "name": "stdout",
     "output_type": "stream",
     "text": [
      "         Name     Sex  Age Nationality\n",
      "2       Debby  Female   21         USA\n",
      "3       Laura  Female   32         USA\n",
      "5  Marguerite  Female   34         USA\n",
      "6       Annie  Female   23         USA\n",
      "8         Ava  Female   22         USA\n",
      "--------------------\n",
      "    Name   Sex  Age Nationality\n",
      "4  Glenn  Male   10         USA\n",
      "--------------------\n",
      "      Name   Sex  Age Nationality\n",
      "1     Paul  Male   42         USA\n",
      "7  Stephen  Male   49         USA\n"
     ]
    }
   ],
   "source": [
    "# selection with one criteria\n",
    "print(df_person[df_person['Sex']=='Female'])\n",
    "print (\"--------------------\")\n",
    "print(df_person[df_person['Age']<20])\n",
    "print (\"--------------------\")\n",
    "# selection with 2 criteria\n",
    "print(df_person[(df_person['Sex'] =='Male') & (df_person['Age'] > 30)])"
   ]
  },
  {
   "cell_type": "markdown",
   "metadata": {
    "slideshow": {
     "slide_type": "slide"
    }
   },
   "source": [
    "## Update data"
   ]
  },
  {
   "cell_type": "code",
   "execution_count": 17,
   "metadata": {
    "slideshow": {
     "slide_type": "fragment"
    }
   },
   "outputs": [
    {
     "name": "stdout",
     "output_type": "stream",
     "text": [
      "         Name     Sex  Age Nationality\n",
      "0        John    Male   22         USA\n",
      "1        Paul    Male   42         USA\n",
      "2       Debby  Female   21         USA\n",
      "3       Laura  Female   32         USA\n",
      "4       Glenn    Male   10         USA\n",
      "5  Marguerite  Female   34         USA\n",
      "6       Annie  Female   23         USA\n",
      "7    Stephane    Male   49         USA\n",
      "8         Ava  Female   22         USA\n",
      "         Name     Sex  Age Nationality\n",
      "0        John    Male   22         USA\n",
      "1        Paul    Male   42         USA\n",
      "2       Debby  Female   21         USA\n",
      "3       Laura  Female   32         USA\n",
      "4       Glenn    Male   10         USA\n",
      "5  Marguerite  Female   34         USA\n",
      "6       Annie  Female   23         USA\n",
      "7        Eric    Male   49         USA\n",
      "8         Ava  Female   22         USA\n"
     ]
    }
   ],
   "source": [
    "#change one value by index\n",
    "df_person.loc[7,\"Name\"] =  \"Stephane\"\n",
    "print(df_person)\n",
    "\n",
    "#change one value after a selection\n",
    "df_person.loc[df_person[\"Name\"] == 'Stephane', \"Name\"] = \"Eric\"\n",
    "print(df_person)"
   ]
  },
  {
   "cell_type": "code",
   "execution_count": 18,
   "metadata": {
    "slideshow": {
     "slide_type": "subslide"
    }
   },
   "outputs": [
    {
     "name": "stdout",
     "output_type": "stream",
     "text": [
      "         Name     Sex  Age Nationality  City\n",
      "0        John    Male   22         USA  City\n",
      "1        Paul    Male   42         USA  City\n",
      "2       Debby  Female   21         USA  City\n",
      "3       Laura  Female   32         USA  City\n",
      "4       Glenn    Male   10         USA  City\n",
      "5  Marguerite  Female   34         USA  City\n",
      "6       Annie  Female   23         USA  City\n",
      "7        Eric    Male   49         USA  City\n",
      "8         Ava  Female   22         USA  City\n",
      "         Name     Sex  Age Nationality\n",
      "0        John    Male   22         USA\n",
      "1        Paul    Male   42         USA\n",
      "2       Debby  Female   21         USA\n",
      "3       Laura  Female   32         USA\n",
      "4       Glenn    Male   10         USA\n",
      "5  Marguerite  Female   34         USA\n",
      "6       Annie  Female   23         USA\n",
      "7        Eric    Male   49         USA\n",
      "8         Ava  Female   22         USA\n"
     ]
    }
   ],
   "source": [
    "##Add a Column\n",
    "df_person[\"City\"] = \"City\"\n",
    "print(df_person)\n",
    "##Delete a row\n",
    "df_person = df_person.drop(\"City\",axis=1)\n",
    "print(df_person)"
   ]
  },
  {
   "cell_type": "markdown",
   "metadata": {
    "slideshow": {
     "slide_type": "slide"
    }
   },
   "source": [
    "## Concat\n",
    "\n",
    "<div><img style=\"float: left;margin-left : 70px\" src='fig/concat-example.png' height=\"600\" width=\"600\"/>"
   ]
  },
  {
   "cell_type": "code",
   "execution_count": 19,
   "metadata": {
    "slideshow": {
     "slide_type": "subslide"
    }
   },
   "outputs": [
    {
     "name": "stdout",
     "output_type": "stream",
     "text": [
      "         Name     Sex  Age Nationality\n",
      "0        John    Male   22         USA\n",
      "1        Paul    Male   42         USA\n",
      "2       Debby  Female   21         USA\n",
      "3       Laura  Female   32         USA\n",
      "4       Glenn    Male   10         USA\n",
      "5  Marguerite  Female   34         USA\n",
      "6       Annie  Female   23         USA\n",
      "7        Eric    Male   49         USA\n",
      "8         Ava  Female   22         USA\n",
      "0   Benedicte  Female   24          FR\n",
      "1     Bernard    Male   34          FR\n",
      "2     Nicolas    Male   49          FR\n",
      "3        Anne  Female   42          FR\n"
     ]
    }
   ],
   "source": [
    "data = {'Name':['Benedicte', 'Bernard', 'Nicolas', 'Anne'], 'Sex':['Female','Male','Male','Female'],'Age':[24, 34, 49, 42],'Nationality':['FR','FR','FR','FR']} \n",
    "df_person_fr = pd.DataFrame(data)\n",
    "list_person = [df_person,df_person_fr]\n",
    "result = pd.concat(list_person)\n",
    "\n",
    "print(result)"
   ]
  },
  {
   "cell_type": "markdown",
   "metadata": {
    "slideshow": {
     "slide_type": "slide"
    }
   },
   "source": [
    "## Join\n",
    "\n",
    "<div><img style=\"float: left;margin-left : 70px\" src='fig/join-example.png' height=\"600\" width=\"600\"/>"
   ]
  },
  {
   "cell_type": "code",
   "execution_count": 20,
   "metadata": {
    "slideshow": {
     "slide_type": "subslide"
    }
   },
   "outputs": [
    {
     "name": "stdout",
     "output_type": "stream",
     "text": [
      "   id_Address            Address           City\n",
      "0           0      gordon street         Boston\n",
      "1           1     aqua boulevard        Chicago\n",
      "2           2  st georges street      Charlotte\n",
      "3           3         5th street  San Francisco\n",
      "         Name     Sex  Age Nationality  id_Address\n",
      "0        John    Male   22         USA           1\n",
      "1        Paul    Male   42         USA           3\n",
      "2       Debby  Female   21         USA           3\n",
      "3       Laura  Female   32         USA           3\n",
      "4       Glenn    Male   10         USA           2\n",
      "5  Marguerite  Female   34         USA           1\n",
      "6       Annie  Female   23         USA           3\n",
      "7        Eric    Male   49         USA           2\n",
      "8         Ava  Female   22         USA           2\n",
      "         Name     Sex  Age Nationality  id_Address            Address  \\\n",
      "0        John    Male   22         USA           1     aqua boulevard   \n",
      "1        Paul    Male   42         USA           3         5th street   \n",
      "2       Debby  Female   21         USA           3         5th street   \n",
      "3       Laura  Female   32         USA           3         5th street   \n",
      "4       Glenn    Male   10         USA           2  st georges street   \n",
      "5  Marguerite  Female   34         USA           1     aqua boulevard   \n",
      "6       Annie  Female   23         USA           3         5th street   \n",
      "7        Eric    Male   49         USA           2  st georges street   \n",
      "8         Ava  Female   22         USA           2  st georges street   \n",
      "\n",
      "            City  \n",
      "0        Chicago  \n",
      "1  San Francisco  \n",
      "2  San Francisco  \n",
      "3  San Francisco  \n",
      "4      Charlotte  \n",
      "5        Chicago  \n",
      "6  San Francisco  \n",
      "7      Charlotte  \n",
      "8      Charlotte  \n"
     ]
    }
   ],
   "source": [
    "import random\n",
    "\n",
    "\n",
    "data = {'id_Address':[0,1,2,3],'Address':['gordon street', 'aqua boulevard', 'st georges street', '5th street'], 'City':['Boston','Chicago','Charlotte','San Francisco']} \n",
    "  \n",
    "# Create DataFrame \n",
    "df_address = pd.DataFrame(data)\n",
    "print(df_address)\n",
    "\n",
    "df_person[\"id_Address\"] = \"\"\n",
    "nb_elements = df_person.Name.count()\n",
    "\n",
    "cpt  =  0 \n",
    "while (cpt < nb_elements ):\n",
    "    df_person.loc[cpt,\"id_Address\"] = random.randint(0, 3)\n",
    "    cpt = cpt + 1\n",
    "print(df_person)\n",
    "\n",
    "result = pd.merge(df_person, df_address, how='left',on='id_Address')\n",
    "print(result)"
   ]
  },
  {
   "cell_type": "markdown",
   "metadata": {
    "slideshow": {
     "slide_type": "slide"
    }
   },
   "source": [
    "## Group By\n",
    "\n",
    "- Splitting the data into groups based on some criteria.\n",
    "- Applying a function to each group independently.\n",
    "- Combining the results into a data structure.\n",
    "\n",
    "<div><img style=\"float: left;margin-left : 70px\" src='fig/groupby-example.png' height=\"800\" width=\"800\"/>"
   ]
  },
  {
   "cell_type": "code",
   "execution_count": 21,
   "metadata": {
    "slideshow": {
     "slide_type": "subslide"
    }
   },
   "outputs": [
    {
     "name": "stdout",
     "output_type": "stream",
     "text": [
      "Sex\n",
      "Female    5\n",
      "Male      4\n",
      "Name: Sex, dtype: int64\n",
      "Sex\n",
      "Female    26.40\n",
      "Male      30.75\n",
      "Name: Age, dtype: float64\n"
     ]
    }
   ],
   "source": [
    "print(df_person.groupby('Sex')['Sex'].count())\n",
    "print(df_person.groupby('Sex')['Age'].mean())\n"
   ]
  },
  {
   "cell_type": "markdown",
   "metadata": {
    "slideshow": {
     "slide_type": "slide"
    }
   },
   "source": [
    "## Export Data "
   ]
  },
  {
   "cell_type": "code",
   "execution_count": 57,
   "metadata": {
    "slideshow": {
     "slide_type": "subslide"
    }
   },
   "outputs": [],
   "source": [
    "export_csv = df_person.to_csv (r'./files/export_person.csv', index = None, header=True) "
   ]
  },
  {
   "cell_type": "markdown",
   "metadata": {
    "slideshow": {
     "slide_type": "slide"
    }
   },
   "source": [
    "## Plot Data"
   ]
  },
  {
   "cell_type": "code",
   "execution_count": 22,
   "metadata": {
    "slideshow": {
     "slide_type": "fragment"
    }
   },
   "outputs": [
    {
     "data": {
      "text/plain": [
       "<matplotlib.axes._subplots.AxesSubplot at 0x7f9b4e5cd438>"
      ]
     },
     "execution_count": 22,
     "metadata": {},
     "output_type": "execute_result"
    },
    {
     "data": {
      "image/png": "[encoded data removed]",
      "text/plain": [
       "<Figure size 432x288 with 1 Axes>"
      ]
     },
     "metadata": {},
     "output_type": "display_data"
    }
   ],
   "source": [
    "%matplotlib inline\n",
    "df_person.groupby('Sex')['Sex'].count().plot.bar()"
   ]
  },
  {
   "cell_type": "markdown",
   "metadata": {
    "slideshow": {
     "slide_type": "slide"
    }
   },
   "source": [
    "# DIY"
   ]
  },
  {
   "cell_type": "markdown",
   "metadata": {
    "slideshow": {
     "slide_type": "subslide"
    }
   },
   "source": [
    "## Goals : Compute light statistics on IMDB Movies files\n",
    "\n",
    "\n",
    "The goal of this session is to end up with a script that computes some simple statistics from IMDB Movies files. The file was modified and reduced for this exercice \n",
    "\n",
    "\n",
    "Material\n",
    "\n",
    "Data are in 2 files Directory named \"files\"\n",
    "- name.tsv\n",
    "This file contains the actors, the separated character is tabulation '\\t'.  The first line is the header.\n",
    "\n",
    "nconst\tprimaryName\tbirthYear\tdeathYear\tprimaryProfession\tknownForTitles\n",
    "\n",
    "- title.tsv\n",
    "This file contains the movies, the separated character is ','  The first line is the header.\n",
    "\n",
    "tconst,titleType,primaryTitle,originalTitle,isAdult,startYear,endYear,runtimeMinutes,genres\n",
    "\n",
    "We want to\n",
    "- load data from tsv file\n",
    "- compute some basic statistics\n",
    "- save data to tsv file\n"
   ]
  },
  {
   "cell_type": "markdown",
   "metadata": {
    "slideshow": {
     "slide_type": "slide"
    }
   },
   "source": [
    "\n",
    "## Compute some basic statistics\n",
    "\n",
    "1. Count the number of movies\n",
    "2. Display the lastest movies\n",
    "3. Display movies between 1939 and 1940\n",
    "4. Diplay all the titleType available\n",
    "5. Count the number of movies by titleType\n",
    "6. Display Humphrey Bogart movies\n",
    "7. Plot movie count by year between 1950 and 1960\n",
    "\n"
   ]
  },
  {
   "cell_type": "markdown",
   "metadata": {
    "slideshow": {
     "slide_type": "slide"
    }
   },
   "source": [
    "## A possible correction"
   ]
  },
  {
   "cell_type": "code",
   "execution_count": 34,
   "metadata": {
    "slideshow": {
     "slide_type": "subslide"
    }
   },
   "outputs": [
    {
     "name": "stdout",
     "output_type": "stream",
     "text": [
      "RangeIndex(start=0, stop=135460, step=1)\n",
      "      tconst titleType                                   primaryTitle  \\\n",
      "0  tt0000009     movie                                     Miss Jerry   \n",
      "1  tt0000020     short                                 The Derby 1895   \n",
      "2  tt0000024     short                      Opening of the Kiel Canal   \n",
      "3  tt0000025     short  The Oxford and Cambridge University Boat Race   \n",
      "4  tt0000165     short                                Riña en un café   \n",
      "\n",
      "                                   originalTitle  isAdult  startYear  endYear  \\\n",
      "0                                     Miss Jerry        0     1894.0      NaN   \n",
      "1                                 The Derby 1895        0     1895.0      NaN   \n",
      "2                      Opening of the Kiel Canal        0     1895.0      NaN   \n",
      "3  The Oxford and Cambridge University Boat Race        0     1895.0      NaN   \n",
      "4                                Riña en un café        0     1897.0      NaN   \n",
      "\n",
      "   runtimeMinutes                   genres  \n",
      "0            45.0                  Romance  \n",
      "1             1.0  Documentary,Short,Sport  \n",
      "2             NaN               News,Short  \n",
      "3             NaN         News,Short,Sport  \n",
      "4             1.0                    Short  \n",
      "135460\n",
      "           tconst titleType           primaryTitle          originalTitle  \\\n",
      "123383  tt3554046     movie            Space Jam 2            Space Jam 2   \n",
      "112158  tt1630029     movie               Avatar 2               Avatar 2   \n",
      "132762  tt7304824     movie  Ofrenda a la tormenta  Ofrenda a la tormenta   \n",
      "134753  tt8984382     movie               Jagdzeit               Jagdzeit   \n",
      "131619  tt6615224     movie               HeadShop               HeadShop   \n",
      "\n",
      "        isAdult  startYear  endYear  runtimeMinutes  \\\n",
      "123383        0     2021.0      NaN             NaN   \n",
      "112158        0     2021.0      NaN             NaN   \n",
      "132762        0     2020.0      NaN             NaN   \n",
      "134753        0     2020.0      NaN             NaN   \n",
      "131619        0     2020.0      NaN             NaN   \n",
      "\n",
      "                            genres  \n",
      "123383  Action,Adventure,Animation  \n",
      "112158    Action,Adventure,Fantasy  \n",
      "132762              Crime,Thriller  \n",
      "134753                       Drama  \n",
      "131619                      Comedy  \n",
      "3530                        Así es la vida\n",
      "5342                              Alhambra\n",
      "5438                     Dernière jeunesse\n",
      "5484                       El genio alegre\n",
      "5577                         María de la O\n",
      "5611                     Olympic Honeymoon\n",
      "5648                               El rayo\n",
      "5756       Usted tiene ojos de mujer fatal\n",
      "5780                 3:1 a szerelem javára\n",
      "5792                    Allegri masnadieri\n",
      "5933                 Ho perduto mio marito\n",
      "6024                     Molinos de viento\n",
      "6033                      My Favorite Wife\n",
      "6145                       L'ultima nemica\n",
      "6196                Aldeia da Roupa Branca\n",
      "6216                       La bestia negra\n",
      "6253                     Cossacks in Exile\n",
      "6270                          Le due madri\n",
      "6274                     Der Edelweißkönig\n",
      "6277                     Eravamo 7 sorelle\n",
      "6281      Farinet ou l'or dans la montagne\n",
      "6288           I figli del marchese Lucera\n",
      "6335                         Io, suo padre\n",
      "6383                            Marionette\n",
      "6399                  Napoli che non muore\n",
      "6401                              Narcisse\n",
      "6424                     Piccoli naufraghi\n",
      "6433                      Prinzessin Sissy\n",
      "6495                    Suspiros de España\n",
      "6507                        Terra di fuoco\n",
      "                        ...               \n",
      "106234                          Swinguette\n",
      "107773                            Hatsukoi\n",
      "107803                      Shamisen bushi\n",
      "111182          Stranger Than Fiction, #69\n",
      "112706                             Patriot\n",
      "115430                   Elnémult harangok\n",
      "116809                  Sai shang feng yun\n",
      "117975                    The Brown Bomber\n",
      "121499                   The Green Goddess\n",
      "121557                            Stozhary\n",
      "122719     Yesterday Is Over Your Shoulder\n",
      "122967                     Sabakaruru onna\n",
      "124321                      Verena Stadler\n",
      "125342                    Boevye stranitsy\n",
      "125380            Death at Newtown-Stewart\n",
      "125391               The Sleeping Princess\n",
      "125455      Chances Fair and Choosers True\n",
      "125490                          Plain Jane\n",
      "127362         United Action Means Victory\n",
      "127519                   Salute to America\n",
      "127520                 Living in Hollywood\n",
      "127874                Cavalcade of Variety\n",
      "129070                      The Tempest/II\n",
      "129406                            NBC News\n",
      "131267                     World in Flames\n",
      "131626                           Hirurgiya\n",
      "131807                   Hurricane Special\n",
      "131951                 Då länkarna smiddes\n",
      "133077                  En correctionnelle\n",
      "134454        Hollywood Funtime, Program 2\n",
      "Name: originalTitle, Length: 1004, dtype: object\n",
      "['movie' 'short' 'tvMovie' 'tvSeries' 'tvMiniSeries' 'tvShort' 'tvSpecial'\n",
      " 'tvEpisode' 'video' 'videoGame']\n",
      "titleType\n",
      "movie           86687\n",
      "short           12624\n",
      "tvEpisode          13\n",
      "tvMiniSeries     2651\n",
      "tvMovie          9199\n",
      "tvSeries        17863\n",
      "tvShort           410\n",
      "tvSpecial         695\n",
      "video            4465\n",
      "videoGame         853\n",
      "Name: titleType, dtype: int64\n",
      "          tconst titleType          primaryTitle         originalTitle  \\\n",
      "7458   tt0033870     movie    The Maltese Falcon    The Maltese Falcon   \n",
      "7678   tt0034583     movie            Casablanca            Casablanca   \n",
      "8620   tt0037382     movie  To Have and Have Not  To Have and Have Not   \n",
      "10879  tt0043265     movie     The African Queen     The African Queen   \n",
      "\n",
      "       isAdult  startYear  endYear  runtimeMinutes                    genres  \n",
      "7458         0     1941.0      NaN           100.0         Film-Noir,Mystery  \n",
      "7678         0     1942.0      NaN           102.0         Drama,Romance,War  \n",
      "8620         0     1944.0      NaN           100.0  Adventure,Comedy,Romance  \n",
      "10879        0     1951.0      NaN           105.0   Adventure,Drama,Romance  \n"
     ]
    },
    {
     "data": {
      "text/plain": [
       "<matplotlib.axes._subplots.AxesSubplot at 0x7ff2ee79ab38>"
      ]
     },
     "execution_count": 34,
     "metadata": {},
     "output_type": "execute_result"
    },
    {
     "data": {
      "image/png": "[encoded data removed]",
      "text/plain": [
       "<Figure size 432x288 with 1 Axes>"
      ]
     },
     "metadata": {},
     "output_type": "display_data"
    }
   ],
   "source": [
    "\n",
    "\n",
    "#load data\n",
    "df_title = pd.read_csv('files/diy_12_pandas/title.tsv', sep = ',', encoding = \"utf-8\", header=0)\n",
    "print(df_title.index)\n",
    "print(df_title.head())\n",
    "#1 \n",
    "print(df_title.primaryTitle.count())\n",
    "#2\n",
    "print(df_title.sort_values(['startYear'], ascending=False).head())\n",
    "#3\n",
    "print(df_title[(df_title.startYear>=1939) & (df_title.startYear<=1940)]['originalTitle'])\n",
    "#4\n",
    "print(df_title[\"titleType\"].unique())\n",
    "#5\n",
    "print(df_title.groupby(\"titleType\")[\"titleType\"].count())\n",
    "#6\n",
    "df_name = pd.read_csv('files/diy_12_pandas/name.tsv', sep = '\\t', encoding = \"utf-8\", header=0)\n",
    "author_titles = df_name.loc[df_name['primaryName']=='Humphrey Bogart']['knownForTitles']\n",
    "print(df_title.loc[df_title['tconst'].isin(author_titles.tolist()[0].split(','))])\n",
    "#7\n",
    "df_title[(df_title['startYear']>=1940) &  (df_title['startYear']<=1950)].groupby(\"startYear\")[\"startYear\"].count().plot.bar()\n"
   ]
  }
 ],
 "metadata": {
  "celltoolbar": "Slideshow",
  "kernelspec": {
   "display_name": "Python 3",
   "language": "python",
   "name": "python3"
  },
  "language_info": {
   "codemirror_mode": {
    "name": "ipython",
    "version": 3
   },
   "file_extension": ".py",
   "mimetype": "text/x-python",
   "name": "python",
   "nbconvert_exporter": "python",
   "pygments_lexer": "ipython3",
   "version": "3.6.5"
  }
 },
 "nbformat": 4,
 "nbformat_minor": 2
}
