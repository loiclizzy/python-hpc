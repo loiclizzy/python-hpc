{
 "cells": [
  {
   "cell_type": "markdown",
   "metadata": {
    "slideshow": {
     "slide_type": "slide"
    }
   },
   "source": [
    "# Python for High Performance Computing\n",
    "\n",
    "**A training to scale up Python code **\n",
    "\n",
    "Pierre Augier (LEGI), Cyrille Bonamy (LEGI), Eric Maldonado (Irstea), Franck Thollard (ISTerre), Christophe Picard (LJK), Loïc Huder (ISTerre)\n"
   ]
  },
  {
   "cell_type": "markdown",
   "metadata": {
    "slideshow": {
     "slide_type": "subslide"
    }
   },
   "source": [
    "## Table of contents\n",
    "\n",
    "Day 1\n",
    "------\n",
    "\n",
    "- Gentle, (yet quick) reminder on python language (0.25 day)\n",
    "- Numpy (0,5 day) \n",
    "    * fancy indexing, masking\n",
    "    * broadcast\n",
    "    * vectorisation\n",
    "\n",
    "\n",
    "- Visualisation (0,25 day)  \n",
    "    * Matplotlib \n",
    "        - matplotlib orienté object (axes, features...)\n",
    "        - figures et animations\n",
    "        - voir graph plotting python jack\n",
    "    * Others (just to mention) \n",
    "    \n",
    "- Pandas (0.25 day)\n",
    "    - load \n",
    "    - query\n",
    "    - display\n",
    "    - export\n",
    "\n"
   ]
  },
  {
   "cell_type": "markdown",
   "metadata": {
    "slideshow": {
     "slide_type": "subslide"
    }
   },
   "source": [
    "Day 2\n",
    "------\n",
    "\n",
    "- Documentation  et package (0,5d) \n",
    "- Profiling   (0,5 d)\n",
    "\n",
    "    * cprofile (pstat...)\n",
    "    * profile visualisation (kcachegrind, snakeviz, ...)\n",
    "    * Memory (see HPC book oreilly)\n",
    "\n"
   ]
  },
  {
   "cell_type": "markdown",
   "metadata": {
    "slideshow": {
     "slide_type": "subslide"
    }
   },
   "source": [
    "Day 3 (High Performance and Optimization), \n",
    "------\n",
    "- wrapping low level code and/or compiled code  (0,5d)\n",
    "    * cffi (for external compiled C code)\n",
    "    * f2py (to call fortran code from python)\n",
    "    * swig (to wrap external code -- like C, C++, Fortran -- and call it from python)\n",
    "    \n",
    "- different ways to speed up native python code (0.5 d)\n",
    "\n",
    "    * using on the fly compiler (like e.g. numba)\n",
    "    * using static compilers (like e.g. pythran)\n",
    "    * using cython (évocation juste)\n"
   ]
  },
  {
   "cell_type": "markdown",
   "metadata": {
    "slideshow": {
     "slide_type": "subslide"
    }
   },
   "source": [
    "Day 4 (High Performance and Optimization), \n",
    "------\n",
    "\n",
    "- Parallelisation (0.5 d)\n",
    "    * threading \n",
    "    * multiprocessing \n",
    "    * futures \n",
    "    * openmp \n",
    "    * mpi4py \n",
    "    * GPU \n",
    "    * joblib \n",
    "    * dask \n",
    "    \n",
    "- Running on clusters (0.5d) \n",
    "    * lien singularity\n",
    "    * charlie cloud\n"
   ]
  }
 ],
 "metadata": {
  "celltoolbar": "Slideshow",
  "kernelspec": {
   "display_name": "Python 3",
   "language": "python",
   "name": "python3"
  },
  "language_info": {
   "codemirror_mode": {
    "name": "ipython",
    "version": 3
   },
   "file_extension": ".py",
   "mimetype": "text/x-python",
   "name": "python",
   "nbconvert_exporter": "python",
   "pygments_lexer": "ipython3",
   "version": "3.7.2"
  }
 },
 "nbformat": 4,
 "nbformat_minor": 2
}
